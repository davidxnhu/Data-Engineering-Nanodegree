{
 "cells": [
  {
   "cell_type": "code",
   "execution_count": 1,
   "metadata": {
    "editable": true
   },
   "outputs": [
    {
     "data": {
      "text/plain": [
       "'C:\\\\Xiaonan\\\\Courses\\\\Data engineering\\\\Spark\\\\spark-2.2.0-bin-hadoop2.7\\\\bin'"
      ]
     },
     "execution_count": 1,
     "metadata": {},
     "output_type": "execute_result"
    }
   ],
   "source": [
    "import os\n",
    "os.environ.get(\"SPARK_HOME\")"
   ]
  },
  {
   "cell_type": "code",
   "execution_count": 2,
   "metadata": {
    "editable": true
   },
   "outputs": [
    {
     "data": {
      "text/plain": [
       "'C:\\\\Xiaonan\\\\Courses\\\\Data engineering\\\\Spark\\\\hadoop-2.7.1'"
      ]
     },
     "execution_count": 2,
     "metadata": {},
     "output_type": "execute_result"
    }
   ],
   "source": [
    "os.environ.get(\"HADOOP_HOME\")"
   ]
  },
  {
   "cell_type": "code",
   "execution_count": null,
   "metadata": {
    "editable": true
   },
   "outputs": [],
   "source": [
    "import sys\n",
    "sys.getdefaultencoding()\n",
    "#reload(sys)\n",
    "#sys.setdefaultencoding(\"utf-8\")"
   ]
  },
  {
   "cell_type": "code",
   "execution_count": 3,
   "metadata": {
    "editable": true
   },
   "outputs": [],
   "source": [
    "import findspark\n",
    "findspark.init()\n"
   ]
  },
  {
   "cell_type": "code",
   "execution_count": null,
   "metadata": {
    "editable": true
   },
   "outputs": [],
   "source": [
    "import pyspark\n",
    "from pyspark.sql import SQLContext\n",
    "from pyspark import SparkContext    \n",
    "\n",
    "sc = SparkContext(\"local\", \"First App\")\n",
    "sqlContext = SQLContext(sc)"
   ]
  },
  {
   "cell_type": "code",
   "execution_count": 4,
   "metadata": {
    "editable": true
   },
   "outputs": [],
   "source": [
    "import configparser\n",
    "from datetime import datetime\n",
    "\n",
    "from pyspark.sql import SparkSession\n",
    "from pyspark.sql.functions import udf, col\n",
    "from pyspark.sql.functions import year, month, dayofmonth, hour, weekofyear, date_format\n",
    "from pyspark.sql import functions as F\n",
    "from pyspark.sql import types as T"
   ]
  },
  {
   "cell_type": "code",
   "execution_count": 5,
   "metadata": {
    "editable": true
   },
   "outputs": [],
   "source": [
    "config = configparser.ConfigParser()\n",
    "config.read('dl.cfg')\n",
    "\n",
    "os.environ['AWS_ACCESS_KEY_ID']=config['AWS']['AWS_ACCESS_KEY_ID']\n",
    "os.environ['AWS_SECRET_ACCESS_KEY']=config['AWS']['AWS_SECRET_ACCESS_KEY']\n"
   ]
  },
  {
   "cell_type": "code",
   "execution_count": 6,
   "metadata": {
    "editable": true
   },
   "outputs": [],
   "source": [
    "def create_spark_session():\n",
    "    \"\"\"Create spark session.\n",
    "    Returns:\n",
    "        spark (SparkSession) - spark session connected to AWS EMR cluster\n",
    "    \"\"\"\n",
    "    spark = SparkSession \\\n",
    "        .builder \\\n",
    "        .config(\"spark.jars.packages\", \"org.apache.hadoop:hadoop-aws:2.7.0\") \\\n",
    "        .getOrCreate()\n",
    "    return spark\n",
    "\n"
   ]
  },
  {
   "cell_type": "code",
   "execution_count": 7,
   "metadata": {
    "editable": true
   },
   "outputs": [],
   "source": [
    "def process_song_data(spark, input_data, output_data):\n",
    "    '''\n",
    "    Load song data from S3 and extracts the song and artist tables\n",
    "    \n",
    "    Keyword arguments:\n",
    "    spark -- the spark session\n",
    "    input_data -- the path of input song data from S3\n",
    "    output_data -- the path of output data to S3\n",
    "    \n",
    "    '''\n",
    "    # get filepath to song data file\n",
    "    song_data = input_data + \"song_data/*/*/*/*json\"\n",
    "    \n",
    "    #song_data = \"./data/song_data/*/*/*/*json\"\n",
    "    \n",
    "    # read song data file\n",
    "    df = spark.read.json(song_data).drop_duplicates()\n",
    "    df.printSchema()\n",
    "\n",
    "    # extract columns to create songs table\n",
    "    songs_table = df.select(\"song_id\", \"title\", \"artist_id\", \"year\", \"duration\").distinct()\n",
    "    \n",
    "    # write songs table to parquet files partitioned by year and artist\n",
    "    songs_table.write.parquet(output_data + \"songs_table.parquet\", mode=\"overwrite\", partitionBy=[\"year\", \"artist_id\"])\n",
    "\n",
    "    # extract columns to create artists table\n",
    "    #artists_table = df.select(\"artist_id\", \"artist_name\", \"artist_location\", \"artist_latitude\", \"artist_longitude\").distinct()\n",
    "    \n",
    "    # write artists table to parquet files\n",
    "    #artists_table.write.parquet(output_data + \"artists_table.parquet\", mode=\"overwrite\")\n"
   ]
  },
  {
   "cell_type": "code",
   "execution_count": 8,
   "metadata": {
    "editable": true
   },
   "outputs": [],
   "source": [
    "def process_log_data(spark, input_data, output_data):\n",
    "    '''\n",
    "    Load log data from S3 and extracts the user, time and songplay tables\n",
    "    \n",
    "    Keyword arguments:\n",
    "    spark -- the spark session\n",
    "    input_data -- the path of input log data from S3\n",
    "    output_data -- the path of output data to S3\n",
    "    \n",
    "    '''\n",
    "    # get filepath to log data file\n",
    "    log_data = input_data + \"log_data/*/*/*json\"\n",
    "\n",
    "    # read log data file\n",
    "    df = spark.read.json(log_data).drop_duplicates() \n",
    "    df.printSchema()\n",
    "    \n",
    "    # filter by actions for song plays\n",
    "    df = df.filter(df.page==\"NextSong\")\n",
    "\n",
    "    # extract columns for users table    \n",
    "    #user_table = df.select(\"userId\", \"firstName\", \"lastName\", \"gender\", \"level\").distinct()\n",
    "    \n",
    "    #user_table.show(1)\n",
    "    \n",
    "    # write users table to parquet files\n",
    "    # user_table.write.parquet(output_data + \"user_table.parquet\", mode = \"overwrite\")\n",
    "\n",
    "    # create timestamp column from original timestamp column\n",
    "    #get_timestamp = udf(lambda ts: datetime.datetime.fromtimestamp(int(ts)/1000), T.TimestampType())\n",
    "    #df = df.withColumn(\"start_time\", get_timestamp(ts)) \n",
    "    \n",
    "    # extract columns to create time table\n",
    "    #time_table = df.withColumn(\"hour\",     F.hour(\"start_time\"))\\\n",
    "    #                .withColumn(\"day\",     F.dayofmonth(\"start_time\"))\\\n",
    "    #                .withColumn(\"week\",    F.weekofyear(\"start_time\"))\\\n",
    "    #                .withColumn(\"month\",   F.month(\"start_time\"))\\\n",
    "    #                .withColumn(\"year\",    F.year(\"start_time\"))\\\n",
    "    #                .withColumn(\"weekday\", F.dayofweek(\"start_time\"))\\\n",
    "    #                .select(\"ts\",\"start_time\",\"hour\", \"day\", \"week\", \"month\", \"year\", \"weekday\")\n",
    "    \n",
    "    # write time table to parquet files partitioned by year and month\n",
    "    #time_table=time_table.repartition(col(\"year\"),col(\"month\"))\n",
    "    #time_table.write.parquet(output_data + \"time_table.parquet\", mode=\"overwrite\", partitionBy = [\"year\", \"month\"])\n",
    "\n",
    "    # read in song data to use for songplays table\n",
    "    #song_df = spark.read.parquet(output_data + \"songs_table.parquet\")\n",
    "\n",
    "    # extract columns from joined song and log datasets to create songplays table \n",
    "    #songplays_table = df.selectColumn(\"songplay_id\", F.monotonically_increasing_id())\\\n",
    "    #                    .join(song_df, df.song == song_df.title, how=\"inner\")\\\n",
    "    #                    .select(\"songplay_id\", \n",
    "    #                           \"start_time\", \n",
    "    #                           col(\"userId\").alias(\"user_id\"),\n",
    "    #                            \"level\", \n",
    "    #                            \"song_id\", \n",
    "    #                            \"artist_id\", \n",
    "    #                            col(\"sessionId\").alias(\"session_id\"), \n",
    "    #                            \"location\", \n",
    "    #                            col(\"userAgent\").alias(\"user_agent\")) \n",
    "\n",
    "    # write songplays table to parquet files partitioned by year and month\n",
    "    # songplays_table=songplays_table.repartition(col(\"year\"),col(\"month\"))\n",
    "    # songplays_table.write.parquet(output_data + \"songplays_table.parquet\", mode = \"overwrite\", partitionBy = [\"year\", \"month\"])\n"
   ]
  },
  {
   "cell_type": "code",
   "execution_count": 9,
   "metadata": {
    "editable": true
   },
   "outputs": [],
   "source": [
    "spark = create_spark_session()"
   ]
  },
  {
   "cell_type": "code",
   "execution_count": 10,
   "metadata": {
    "editable": true
   },
   "outputs": [],
   "source": [
    "input_data = \"s3a://udacity-dend/\"\n",
    "output_data = \"s3a://udacity-xn/DataEngineering/\""
   ]
  },
  {
   "cell_type": "code",
   "execution_count": null,
   "metadata": {
    "editable": true
   },
   "outputs": [],
   "source": [
    "#process_song_data(spark, input_data, output_data) "
   ]
  },
  {
   "cell_type": "code",
   "execution_count": 11,
   "metadata": {
    "editable": true
   },
   "outputs": [
    {
     "name": "stdout",
     "output_type": "stream",
     "text": [
      "root\n",
      " |-- artist_id: string (nullable = true)\n",
      " |-- artist_latitude: double (nullable = true)\n",
      " |-- artist_location: string (nullable = true)\n",
      " |-- artist_longitude: double (nullable = true)\n",
      " |-- artist_name: string (nullable = true)\n",
      " |-- duration: double (nullable = true)\n",
      " |-- num_songs: long (nullable = true)\n",
      " |-- song_id: string (nullable = true)\n",
      " |-- title: string (nullable = true)\n",
      " |-- year: long (nullable = true)\n",
      "\n"
     ]
    }
   ],
   "source": [
    "#song_data = \"./data/song_data/*/*/*/*json\"\n",
    "    \n",
    "# read song data file\n",
    "#df = spark.read.json(song_data).drop_duplicates()\n",
    "#df.printSchema()"
   ]
  },
  {
   "cell_type": "code",
   "execution_count": 12,
   "metadata": {
    "editable": true
   },
   "outputs": [],
   "source": [
    "#songs_table = df.select(\"song_id\", \"title\", \"artist_id\", \"year\", \"duration\").distinct()"
   ]
  },
  {
   "cell_type": "code",
   "execution_count": 13,
   "metadata": {
    "editable": true
   },
   "outputs": [
    {
     "name": "stdout",
     "output_type": "stream",
     "text": [
      "+------------------+--------------------+------------------+----+---------+\n",
      "|           song_id|               title|         artist_id|year| duration|\n",
      "+------------------+--------------------+------------------+----+---------+\n",
      "|SOGOSOV12AF72A285E|   ¿Dónde va Chichi?|ARGUVEV1187B98BA17|1997|313.12934|\n",
      "|SOTTDKS12AB018D69B|It Wont Be Christmas|ARMBR4Y1187B9990EB|   0|241.47546|\n",
      "|SOBBUGU12A8C13E95D|Setting Fire to S...|ARMAC4T1187FB3FA4C|2004|207.77751|\n",
      "|SOIAZJW12AB01853F1|          Pink World|AR8ZCNI1187B9A069B|1984|269.81832|\n",
      "|SONYPOM12A8C13B2D7|I Think My Wife I...|ARDNS031187B9924F0|2005|186.48771|\n",
      "+------------------+--------------------+------------------+----+---------+\n",
      "only showing top 5 rows\n",
      "\n"
     ]
    }
   ],
   "source": [
    "#songs_table.show(5)"
   ]
  },
  {
   "cell_type": "code",
   "execution_count": null,
   "metadata": {
    "editable": true
   },
   "outputs": [],
   "source": [
    "#sc=spark.sparkContext\n",
    "#hadoop_conf=sc._jsc.hadoopConfiguration()"
   ]
  },
  {
   "cell_type": "code",
   "execution_count": null,
   "metadata": {
    "editable": true
   },
   "outputs": [],
   "source": [
    "#hadoop_conf.set(\"fs.s3n.impl\", \"org.apache.hadoop.fs.s3native.NativeS3FileSystem\")\n",
    "#hadoop_conf.set(\"fs.s3n.awsAccessKeyId\", os.environ[\"AWS_ACCESS_KEY_ID\"])\n",
    "#hadoop_conf.set(\"fs.s3n.awsSecretAccessKey\", os.environ[\"AWS_SECRET_ACCESS_KEY\"])"
   ]
  },
  {
   "cell_type": "code",
   "execution_count": 14,
   "metadata": {
    "editable": true
   },
   "outputs": [],
   "source": [
    "#songs_table.write.parquet(output_data + \"songs_table.parquet\", mode=\"overwrite\", partitionBy=[\"year\", \"artist_id\"])"
   ]
  },
  {
   "cell_type": "code",
   "execution_count": 15,
   "metadata": {
    "editable": true
   },
   "outputs": [],
   "source": [
    "song_data = input_data + \"song_data/*/*/*/*json\""
   ]
  },
  {
   "cell_type": "code",
   "execution_count": 16,
   "metadata": {
    "editable": true,
    "scrolled": true
   },
   "outputs": [
    {
     "name": "stdout",
     "output_type": "stream",
     "text": [
      "root\n",
      " |-- artist_id: string (nullable = true)\n",
      " |-- artist_latitude: double (nullable = true)\n",
      " |-- artist_location: string (nullable = true)\n",
      " |-- artist_longitude: double (nullable = true)\n",
      " |-- artist_name: string (nullable = true)\n",
      " |-- duration: double (nullable = true)\n",
      " |-- num_songs: long (nullable = true)\n",
      " |-- song_id: string (nullable = true)\n",
      " |-- title: string (nullable = true)\n",
      " |-- year: long (nullable = true)\n",
      "\n"
     ]
    }
   ],
   "source": [
    "df = spark.read.json(song_data).drop_duplicates()\n",
    "df.printSchema()"
   ]
  },
  {
   "cell_type": "code",
   "execution_count": 17,
   "metadata": {
    "editable": true
   },
   "outputs": [],
   "source": [
    "songs_table = df.select(\"song_id\", \"title\", \"artist_id\", \"year\", \"duration\").distinct()"
   ]
  },
  {
   "cell_type": "code",
   "execution_count": 18,
   "metadata": {
    "editable": true
   },
   "outputs": [],
   "source": [
    "songs_table.write.parquet(output_data + \"songs_table.parquet\", mode=\"overwrite\", partitionBy=[\"year\", \"artist_id\"])"
   ]
  },
  {
   "cell_type": "code",
   "execution_count": 19,
   "metadata": {
    "editable": true
   },
   "outputs": [],
   "source": [
    "artists_table = df.select(\"artist_id\", \"artist_name\", \"artist_location\", \"artist_latitude\", \"artist_longitude\").distinct()"
   ]
  },
  {
   "cell_type": "code",
   "execution_count": 20,
   "metadata": {
    "editable": true
   },
   "outputs": [],
   "source": [
    "artists_table.write.parquet(output_data + \"artists_table.parquet\", mode=\"overwrite\")"
   ]
  },
  {
   "cell_type": "code",
   "execution_count": null,
   "metadata": {
    "editable": true
   },
   "outputs": [],
   "source": []
  }
 ],
 "metadata": {
  "kernelspec": {
   "display_name": "Python 3",
   "language": "python",
   "name": "python3"
  },
  "language_info": {
   "codemirror_mode": {
    "name": "ipython",
    "version": 3
   },
   "file_extension": ".py",
   "mimetype": "text/x-python",
   "name": "python",
   "nbconvert_exporter": "python",
   "pygments_lexer": "ipython3",
   "version": "3.6.3"
  }
 },
 "nbformat": 4,
 "nbformat_minor": 4
}
