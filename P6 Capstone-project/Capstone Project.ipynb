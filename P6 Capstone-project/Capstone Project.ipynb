{
 "cells": [
  {
   "cell_type": "markdown",
   "metadata": {
    "editable": true
   },
   "source": [
    "# Project Title\n",
    "### Data Engineering Capstone Project\n",
    "\n",
    "#### Project Summary\n",
    "\n",
    "The project follows the follow steps:\n",
    "* Step 1: Scope the Project and Gather Data\n",
    "* Step 2: Explore and Assess the Data\n",
    "* Step 3: Define the Data Model\n",
    "* Step 4: Run ETL to Model the Data\n",
    "* Step 5: Complete Project Write Up"
   ]
  },
  {
   "cell_type": "code",
   "execution_count": 1,
   "metadata": {
    "editable": true
   },
   "outputs": [],
   "source": [
    "# Do all imports and installs here\n",
    "import pandas as pd\n",
    "import pyspark"
   ]
  },
  {
   "cell_type": "markdown",
   "metadata": {
    "editable": true
   },
   "source": [
    "### Step 1: Scope the Project and Gather Data\n",
    "\n",
    "#### Scope \n",
    "This project will integrate I94 immigration data, world temperature data, US demographic data and Airport Code Table to setup a data warehouse with fact and dimension tables.\n",
    "\n",
    "#### Describe and Gather Data \n",
    "\n",
    "\n",
    "1. [I94 Immigration Data](https://travel.trade.gov/research/reports/i94/historical/2016.html), SAS. The dataset contains international visitor arrival statistics by world regions and select countries, type of visa, mode of transportation, age groups, states visited, and the top ports of entry.\n",
    "2. [World Temperature Data](https://www.kaggle.com/berkeleyearth/climate-change-earth-surface-temperature-data), CSV. This dataset is from Kaggle and contains average temperature data each month at different country in the world.\n",
    "3. [U.S. City Demographic Data](https://public.opendatasoft.com/explore/dataset/us-cities-demographics/export/), CSV. This dataset contains information about the demographics of all US cities and census-designated places (population>= 65,000).\n",
    "4. [Airport Code Table](https://datahub.io/core/airport-codes#data), CSV. This dataset contains either IATA airport code, a three-letter code which is used in passenger reservation, ticketing and baggage-handling systems, or the ICAO airport code which is a four letter code used by ATC systems and for airports that do not have an IATA airport code.\n"
   ]
  },
  {
   "cell_type": "markdown",
   "metadata": {
    "editable": true
   },
   "source": [
    "### Step 2: Explore and Assess the Data"
   ]
  },
  {
   "cell_type": "markdown",
   "metadata": {
    "editable": true
   },
   "source": [
    "#### Immigration dataset"
   ]
  },
  {
   "cell_type": "code",
   "execution_count": 2,
   "metadata": {
    "editable": true
   },
   "outputs": [],
   "source": [
    "# Read in the data here\n",
    "df_immi = pd.read_csv(\"immigration_data_sample.csv\")"
   ]
  },
  {
   "cell_type": "code",
   "execution_count": 3,
   "metadata": {
    "editable": true
   },
   "outputs": [
    {
     "data": {
      "text/html": [
       "<div>\n",
       "<style scoped>\n",
       "    .dataframe tbody tr th:only-of-type {\n",
       "        vertical-align: middle;\n",
       "    }\n",
       "\n",
       "    .dataframe tbody tr th {\n",
       "        vertical-align: top;\n",
       "    }\n",
       "\n",
       "    .dataframe thead th {\n",
       "        text-align: right;\n",
       "    }\n",
       "</style>\n",
       "<table border=\"1\" class=\"dataframe\">\n",
       "  <thead>\n",
       "    <tr style=\"text-align: right;\">\n",
       "      <th></th>\n",
       "      <th>Unnamed: 0</th>\n",
       "      <th>cicid</th>\n",
       "      <th>i94yr</th>\n",
       "      <th>i94mon</th>\n",
       "      <th>i94cit</th>\n",
       "      <th>i94res</th>\n",
       "      <th>i94port</th>\n",
       "      <th>arrdate</th>\n",
       "      <th>i94mode</th>\n",
       "      <th>i94addr</th>\n",
       "      <th>...</th>\n",
       "      <th>entdepu</th>\n",
       "      <th>matflag</th>\n",
       "      <th>biryear</th>\n",
       "      <th>dtaddto</th>\n",
       "      <th>gender</th>\n",
       "      <th>insnum</th>\n",
       "      <th>airline</th>\n",
       "      <th>admnum</th>\n",
       "      <th>fltno</th>\n",
       "      <th>visatype</th>\n",
       "    </tr>\n",
       "  </thead>\n",
       "  <tbody>\n",
       "    <tr>\n",
       "      <th>0</th>\n",
       "      <td>2027561</td>\n",
       "      <td>4084316.0</td>\n",
       "      <td>2016.0</td>\n",
       "      <td>4.0</td>\n",
       "      <td>209.0</td>\n",
       "      <td>209.0</td>\n",
       "      <td>HHW</td>\n",
       "      <td>20566.0</td>\n",
       "      <td>1.0</td>\n",
       "      <td>HI</td>\n",
       "      <td>...</td>\n",
       "      <td>NaN</td>\n",
       "      <td>M</td>\n",
       "      <td>1955.0</td>\n",
       "      <td>07202016</td>\n",
       "      <td>F</td>\n",
       "      <td>NaN</td>\n",
       "      <td>JL</td>\n",
       "      <td>5.658267e+10</td>\n",
       "      <td>00782</td>\n",
       "      <td>WT</td>\n",
       "    </tr>\n",
       "    <tr>\n",
       "      <th>1</th>\n",
       "      <td>2171295</td>\n",
       "      <td>4422636.0</td>\n",
       "      <td>2016.0</td>\n",
       "      <td>4.0</td>\n",
       "      <td>582.0</td>\n",
       "      <td>582.0</td>\n",
       "      <td>MCA</td>\n",
       "      <td>20567.0</td>\n",
       "      <td>1.0</td>\n",
       "      <td>TX</td>\n",
       "      <td>...</td>\n",
       "      <td>NaN</td>\n",
       "      <td>M</td>\n",
       "      <td>1990.0</td>\n",
       "      <td>10222016</td>\n",
       "      <td>M</td>\n",
       "      <td>NaN</td>\n",
       "      <td>*GA</td>\n",
       "      <td>9.436200e+10</td>\n",
       "      <td>XBLNG</td>\n",
       "      <td>B2</td>\n",
       "    </tr>\n",
       "    <tr>\n",
       "      <th>2</th>\n",
       "      <td>589494</td>\n",
       "      <td>1195600.0</td>\n",
       "      <td>2016.0</td>\n",
       "      <td>4.0</td>\n",
       "      <td>148.0</td>\n",
       "      <td>112.0</td>\n",
       "      <td>OGG</td>\n",
       "      <td>20551.0</td>\n",
       "      <td>1.0</td>\n",
       "      <td>FL</td>\n",
       "      <td>...</td>\n",
       "      <td>NaN</td>\n",
       "      <td>M</td>\n",
       "      <td>1940.0</td>\n",
       "      <td>07052016</td>\n",
       "      <td>M</td>\n",
       "      <td>NaN</td>\n",
       "      <td>LH</td>\n",
       "      <td>5.578047e+10</td>\n",
       "      <td>00464</td>\n",
       "      <td>WT</td>\n",
       "    </tr>\n",
       "    <tr>\n",
       "      <th>3</th>\n",
       "      <td>2631158</td>\n",
       "      <td>5291768.0</td>\n",
       "      <td>2016.0</td>\n",
       "      <td>4.0</td>\n",
       "      <td>297.0</td>\n",
       "      <td>297.0</td>\n",
       "      <td>LOS</td>\n",
       "      <td>20572.0</td>\n",
       "      <td>1.0</td>\n",
       "      <td>CA</td>\n",
       "      <td>...</td>\n",
       "      <td>NaN</td>\n",
       "      <td>M</td>\n",
       "      <td>1991.0</td>\n",
       "      <td>10272016</td>\n",
       "      <td>M</td>\n",
       "      <td>NaN</td>\n",
       "      <td>QR</td>\n",
       "      <td>9.478970e+10</td>\n",
       "      <td>00739</td>\n",
       "      <td>B2</td>\n",
       "    </tr>\n",
       "    <tr>\n",
       "      <th>4</th>\n",
       "      <td>3032257</td>\n",
       "      <td>985523.0</td>\n",
       "      <td>2016.0</td>\n",
       "      <td>4.0</td>\n",
       "      <td>111.0</td>\n",
       "      <td>111.0</td>\n",
       "      <td>CHM</td>\n",
       "      <td>20550.0</td>\n",
       "      <td>3.0</td>\n",
       "      <td>NY</td>\n",
       "      <td>...</td>\n",
       "      <td>NaN</td>\n",
       "      <td>M</td>\n",
       "      <td>1997.0</td>\n",
       "      <td>07042016</td>\n",
       "      <td>F</td>\n",
       "      <td>NaN</td>\n",
       "      <td>NaN</td>\n",
       "      <td>4.232257e+10</td>\n",
       "      <td>LAND</td>\n",
       "      <td>WT</td>\n",
       "    </tr>\n",
       "  </tbody>\n",
       "</table>\n",
       "<p>5 rows × 29 columns</p>\n",
       "</div>"
      ],
      "text/plain": [
       "   Unnamed: 0      cicid   i94yr  i94mon  i94cit  i94res i94port  arrdate  \\\n",
       "0     2027561  4084316.0  2016.0     4.0   209.0   209.0     HHW  20566.0   \n",
       "1     2171295  4422636.0  2016.0     4.0   582.0   582.0     MCA  20567.0   \n",
       "2      589494  1195600.0  2016.0     4.0   148.0   112.0     OGG  20551.0   \n",
       "3     2631158  5291768.0  2016.0     4.0   297.0   297.0     LOS  20572.0   \n",
       "4     3032257   985523.0  2016.0     4.0   111.0   111.0     CHM  20550.0   \n",
       "\n",
       "   i94mode i94addr    ...     entdepu  matflag  biryear   dtaddto  gender  \\\n",
       "0      1.0      HI    ...         NaN        M   1955.0  07202016       F   \n",
       "1      1.0      TX    ...         NaN        M   1990.0  10222016       M   \n",
       "2      1.0      FL    ...         NaN        M   1940.0  07052016       M   \n",
       "3      1.0      CA    ...         NaN        M   1991.0  10272016       M   \n",
       "4      3.0      NY    ...         NaN        M   1997.0  07042016       F   \n",
       "\n",
       "  insnum airline        admnum  fltno  visatype  \n",
       "0    NaN      JL  5.658267e+10  00782        WT  \n",
       "1    NaN     *GA  9.436200e+10  XBLNG        B2  \n",
       "2    NaN      LH  5.578047e+10  00464        WT  \n",
       "3    NaN      QR  9.478970e+10  00739        B2  \n",
       "4    NaN     NaN  4.232257e+10   LAND        WT  \n",
       "\n",
       "[5 rows x 29 columns]"
      ]
     },
     "execution_count": 3,
     "metadata": {},
     "output_type": "execute_result"
    }
   ],
   "source": [
    "df_immi.head()"
   ]
  },
  {
   "cell_type": "code",
   "execution_count": 4,
   "metadata": {
    "editable": true
   },
   "outputs": [
    {
     "data": {
      "text/plain": [
       "Index(['Unnamed: 0', 'cicid', 'i94yr', 'i94mon', 'i94cit', 'i94res', 'i94port',\n",
       "       'arrdate', 'i94mode', 'i94addr', 'depdate', 'i94bir', 'i94visa',\n",
       "       'count', 'dtadfile', 'visapost', 'occup', 'entdepa', 'entdepd',\n",
       "       'entdepu', 'matflag', 'biryear', 'dtaddto', 'gender', 'insnum',\n",
       "       'airline', 'admnum', 'fltno', 'visatype'],\n",
       "      dtype='object')"
      ]
     },
     "execution_count": 4,
     "metadata": {},
     "output_type": "execute_result"
    }
   ],
   "source": [
    "df_immi.columns"
   ]
  },
  {
   "cell_type": "code",
   "execution_count": 5,
   "metadata": {
    "editable": true
   },
   "outputs": [
    {
     "data": {
      "text/html": [
       "<div>\n",
       "<style scoped>\n",
       "    .dataframe tbody tr th:only-of-type {\n",
       "        vertical-align: middle;\n",
       "    }\n",
       "\n",
       "    .dataframe tbody tr th {\n",
       "        vertical-align: top;\n",
       "    }\n",
       "\n",
       "    .dataframe thead th {\n",
       "        text-align: right;\n",
       "    }\n",
       "</style>\n",
       "<table border=\"1\" class=\"dataframe\">\n",
       "  <thead>\n",
       "    <tr style=\"text-align: right;\">\n",
       "      <th></th>\n",
       "      <th>cic_id</th>\n",
       "      <th>year</th>\n",
       "      <th>month</th>\n",
       "      <th>port_code</th>\n",
       "      <th>state_code</th>\n",
       "      <th>arrive_date</th>\n",
       "      <th>departure_date</th>\n",
       "      <th>travel_code</th>\n",
       "      <th>visa_code</th>\n",
       "    </tr>\n",
       "  </thead>\n",
       "  <tbody>\n",
       "    <tr>\n",
       "      <th>0</th>\n",
       "      <td>4084316.0</td>\n",
       "      <td>2016.0</td>\n",
       "      <td>4.0</td>\n",
       "      <td>HHW</td>\n",
       "      <td>HI</td>\n",
       "      <td>20566.0</td>\n",
       "      <td>20573.0</td>\n",
       "      <td>1.0</td>\n",
       "      <td>2.0</td>\n",
       "    </tr>\n",
       "    <tr>\n",
       "      <th>1</th>\n",
       "      <td>4422636.0</td>\n",
       "      <td>2016.0</td>\n",
       "      <td>4.0</td>\n",
       "      <td>MCA</td>\n",
       "      <td>TX</td>\n",
       "      <td>20567.0</td>\n",
       "      <td>20568.0</td>\n",
       "      <td>1.0</td>\n",
       "      <td>2.0</td>\n",
       "    </tr>\n",
       "    <tr>\n",
       "      <th>2</th>\n",
       "      <td>1195600.0</td>\n",
       "      <td>2016.0</td>\n",
       "      <td>4.0</td>\n",
       "      <td>OGG</td>\n",
       "      <td>FL</td>\n",
       "      <td>20551.0</td>\n",
       "      <td>20571.0</td>\n",
       "      <td>1.0</td>\n",
       "      <td>2.0</td>\n",
       "    </tr>\n",
       "    <tr>\n",
       "      <th>3</th>\n",
       "      <td>5291768.0</td>\n",
       "      <td>2016.0</td>\n",
       "      <td>4.0</td>\n",
       "      <td>LOS</td>\n",
       "      <td>CA</td>\n",
       "      <td>20572.0</td>\n",
       "      <td>20581.0</td>\n",
       "      <td>1.0</td>\n",
       "      <td>2.0</td>\n",
       "    </tr>\n",
       "    <tr>\n",
       "      <th>4</th>\n",
       "      <td>985523.0</td>\n",
       "      <td>2016.0</td>\n",
       "      <td>4.0</td>\n",
       "      <td>CHM</td>\n",
       "      <td>NY</td>\n",
       "      <td>20550.0</td>\n",
       "      <td>20553.0</td>\n",
       "      <td>3.0</td>\n",
       "      <td>2.0</td>\n",
       "    </tr>\n",
       "  </tbody>\n",
       "</table>\n",
       "</div>"
      ],
      "text/plain": [
       "      cic_id    year  month port_code state_code  arrive_date  departure_date  \\\n",
       "0  4084316.0  2016.0    4.0       HHW         HI      20566.0         20573.0   \n",
       "1  4422636.0  2016.0    4.0       MCA         TX      20567.0         20568.0   \n",
       "2  1195600.0  2016.0    4.0       OGG         FL      20551.0         20571.0   \n",
       "3  5291768.0  2016.0    4.0       LOS         CA      20572.0         20581.0   \n",
       "4   985523.0  2016.0    4.0       CHM         NY      20550.0         20553.0   \n",
       "\n",
       "   travel_code  visa_code  \n",
       "0          1.0        2.0  \n",
       "1          1.0        2.0  \n",
       "2          1.0        2.0  \n",
       "3          1.0        2.0  \n",
       "4          3.0        2.0  "
      ]
     },
     "execution_count": 5,
     "metadata": {},
     "output_type": "execute_result"
    }
   ],
   "source": [
    "fact_immi = df_immi[['cicid', 'i94yr', 'i94mon', 'i94port', 'i94addr', 'arrdate', 'depdate', 'i94mode', 'i94visa']]\n",
    "fact_immi.columns = ['cic_id', 'year', 'month', 'port_code', 'state_code', 'arrive_date', 'departure_date', 'travel_code', 'visa_code']\n",
    "fact_immi.head(5)"
   ]
  },
  {
   "cell_type": "code",
   "execution_count": 6,
   "metadata": {
    "editable": true
   },
   "outputs": [
    {
     "name": "stderr",
     "output_type": "stream",
     "text": [
      "/opt/conda/lib/python3.6/site-packages/ipykernel_launcher.py:1: SettingWithCopyWarning: \n",
      "A value is trying to be set on a copy of a slice from a DataFrame.\n",
      "Try using .loc[row_indexer,col_indexer] = value instead\n",
      "\n",
      "See the caveats in the documentation: http://pandas.pydata.org/pandas-docs/stable/indexing.html#indexing-view-versus-copy\n",
      "  \"\"\"Entry point for launching an IPython kernel.\n"
     ]
    },
    {
     "data": {
      "text/html": [
       "<div>\n",
       "<style scoped>\n",
       "    .dataframe tbody tr th:only-of-type {\n",
       "        vertical-align: middle;\n",
       "    }\n",
       "\n",
       "    .dataframe tbody tr th {\n",
       "        vertical-align: top;\n",
       "    }\n",
       "\n",
       "    .dataframe thead th {\n",
       "        text-align: right;\n",
       "    }\n",
       "</style>\n",
       "<table border=\"1\" class=\"dataframe\">\n",
       "  <thead>\n",
       "    <tr style=\"text-align: right;\">\n",
       "      <th></th>\n",
       "      <th>cic_id</th>\n",
       "      <th>year</th>\n",
       "      <th>month</th>\n",
       "      <th>port_code</th>\n",
       "      <th>state_code</th>\n",
       "      <th>arrive_date</th>\n",
       "      <th>departure_date</th>\n",
       "      <th>travel_code</th>\n",
       "      <th>visa_code</th>\n",
       "      <th>country</th>\n",
       "    </tr>\n",
       "  </thead>\n",
       "  <tbody>\n",
       "    <tr>\n",
       "      <th>0</th>\n",
       "      <td>4084316.0</td>\n",
       "      <td>2016.0</td>\n",
       "      <td>4.0</td>\n",
       "      <td>HHW</td>\n",
       "      <td>HI</td>\n",
       "      <td>20566.0</td>\n",
       "      <td>20573.0</td>\n",
       "      <td>1.0</td>\n",
       "      <td>2.0</td>\n",
       "      <td>United States</td>\n",
       "    </tr>\n",
       "    <tr>\n",
       "      <th>1</th>\n",
       "      <td>4422636.0</td>\n",
       "      <td>2016.0</td>\n",
       "      <td>4.0</td>\n",
       "      <td>MCA</td>\n",
       "      <td>TX</td>\n",
       "      <td>20567.0</td>\n",
       "      <td>20568.0</td>\n",
       "      <td>1.0</td>\n",
       "      <td>2.0</td>\n",
       "      <td>United States</td>\n",
       "    </tr>\n",
       "    <tr>\n",
       "      <th>2</th>\n",
       "      <td>1195600.0</td>\n",
       "      <td>2016.0</td>\n",
       "      <td>4.0</td>\n",
       "      <td>OGG</td>\n",
       "      <td>FL</td>\n",
       "      <td>20551.0</td>\n",
       "      <td>20571.0</td>\n",
       "      <td>1.0</td>\n",
       "      <td>2.0</td>\n",
       "      <td>United States</td>\n",
       "    </tr>\n",
       "    <tr>\n",
       "      <th>3</th>\n",
       "      <td>5291768.0</td>\n",
       "      <td>2016.0</td>\n",
       "      <td>4.0</td>\n",
       "      <td>LOS</td>\n",
       "      <td>CA</td>\n",
       "      <td>20572.0</td>\n",
       "      <td>20581.0</td>\n",
       "      <td>1.0</td>\n",
       "      <td>2.0</td>\n",
       "      <td>United States</td>\n",
       "    </tr>\n",
       "    <tr>\n",
       "      <th>4</th>\n",
       "      <td>985523.0</td>\n",
       "      <td>2016.0</td>\n",
       "      <td>4.0</td>\n",
       "      <td>CHM</td>\n",
       "      <td>NY</td>\n",
       "      <td>20550.0</td>\n",
       "      <td>20553.0</td>\n",
       "      <td>3.0</td>\n",
       "      <td>2.0</td>\n",
       "      <td>United States</td>\n",
       "    </tr>\n",
       "  </tbody>\n",
       "</table>\n",
       "</div>"
      ],
      "text/plain": [
       "      cic_id    year  month port_code state_code  arrive_date  departure_date  \\\n",
       "0  4084316.0  2016.0    4.0       HHW         HI      20566.0         20573.0   \n",
       "1  4422636.0  2016.0    4.0       MCA         TX      20567.0         20568.0   \n",
       "2  1195600.0  2016.0    4.0       OGG         FL      20551.0         20571.0   \n",
       "3  5291768.0  2016.0    4.0       LOS         CA      20572.0         20581.0   \n",
       "4   985523.0  2016.0    4.0       CHM         NY      20550.0         20553.0   \n",
       "\n",
       "   travel_code  visa_code        country  \n",
       "0          1.0        2.0  United States  \n",
       "1          1.0        2.0  United States  \n",
       "2          1.0        2.0  United States  \n",
       "3          1.0        2.0  United States  \n",
       "4          3.0        2.0  United States  "
      ]
     },
     "execution_count": 6,
     "metadata": {},
     "output_type": "execute_result"
    }
   ],
   "source": [
    "fact_immi['country'] = 'United States'\n",
    "fact_immi.head(5)"
   ]
  },
  {
   "cell_type": "code",
   "execution_count": 7,
   "metadata": {
    "editable": true
   },
   "outputs": [
    {
     "data": {
      "text/html": [
       "<div>\n",
       "<style scoped>\n",
       "    .dataframe tbody tr th:only-of-type {\n",
       "        vertical-align: middle;\n",
       "    }\n",
       "\n",
       "    .dataframe tbody tr th {\n",
       "        vertical-align: top;\n",
       "    }\n",
       "\n",
       "    .dataframe thead tr th {\n",
       "        text-align: left;\n",
       "    }\n",
       "</style>\n",
       "<table border=\"1\" class=\"dataframe\">\n",
       "  <thead>\n",
       "    <tr>\n",
       "      <th></th>\n",
       "      <th>cic_id</th>\n",
       "      <th>citizen_country</th>\n",
       "      <th>residence_country</th>\n",
       "      <th>birth_year</th>\n",
       "      <th>gender</th>\n",
       "      <th>ins_num</th>\n",
       "    </tr>\n",
       "  </thead>\n",
       "  <tbody>\n",
       "    <tr>\n",
       "      <th>0</th>\n",
       "      <td>4084316.0</td>\n",
       "      <td>209.0</td>\n",
       "      <td>209.0</td>\n",
       "      <td>1955.0</td>\n",
       "      <td>F</td>\n",
       "      <td>NaN</td>\n",
       "    </tr>\n",
       "    <tr>\n",
       "      <th>1</th>\n",
       "      <td>4422636.0</td>\n",
       "      <td>582.0</td>\n",
       "      <td>582.0</td>\n",
       "      <td>1990.0</td>\n",
       "      <td>M</td>\n",
       "      <td>NaN</td>\n",
       "    </tr>\n",
       "    <tr>\n",
       "      <th>2</th>\n",
       "      <td>1195600.0</td>\n",
       "      <td>148.0</td>\n",
       "      <td>112.0</td>\n",
       "      <td>1940.0</td>\n",
       "      <td>M</td>\n",
       "      <td>NaN</td>\n",
       "    </tr>\n",
       "    <tr>\n",
       "      <th>3</th>\n",
       "      <td>5291768.0</td>\n",
       "      <td>297.0</td>\n",
       "      <td>297.0</td>\n",
       "      <td>1991.0</td>\n",
       "      <td>M</td>\n",
       "      <td>NaN</td>\n",
       "    </tr>\n",
       "    <tr>\n",
       "      <th>4</th>\n",
       "      <td>985523.0</td>\n",
       "      <td>111.0</td>\n",
       "      <td>111.0</td>\n",
       "      <td>1997.0</td>\n",
       "      <td>F</td>\n",
       "      <td>NaN</td>\n",
       "    </tr>\n",
       "  </tbody>\n",
       "</table>\n",
       "</div>"
      ],
      "text/plain": [
       "      cic_id citizen_country residence_country birth_year gender ins_num\n",
       "0  4084316.0           209.0             209.0     1955.0      F     NaN\n",
       "1  4422636.0           582.0             582.0     1990.0      M     NaN\n",
       "2  1195600.0           148.0             112.0     1940.0      M     NaN\n",
       "3  5291768.0           297.0             297.0     1991.0      M     NaN\n",
       "4   985523.0           111.0             111.0     1997.0      F     NaN"
      ]
     },
     "execution_count": 7,
     "metadata": {},
     "output_type": "execute_result"
    }
   ],
   "source": [
    "dim_immi_personal = df_immi[['cicid', 'i94cit', 'i94res', 'biryear', 'gender', 'insnum']]\n",
    "dim_immi_personal.columns = [['cic_id', 'citizen_country', 'residence_country', 'birth_year', 'gender', 'ins_num']]\n",
    "dim_immi_personal.head(5)"
   ]
  },
  {
   "cell_type": "code",
   "execution_count": 8,
   "metadata": {
    "editable": true
   },
   "outputs": [
    {
     "data": {
      "text/html": [
       "<div>\n",
       "<style scoped>\n",
       "    .dataframe tbody tr th:only-of-type {\n",
       "        vertical-align: middle;\n",
       "    }\n",
       "\n",
       "    .dataframe tbody tr th {\n",
       "        vertical-align: top;\n",
       "    }\n",
       "\n",
       "    .dataframe thead th {\n",
       "        text-align: right;\n",
       "    }\n",
       "</style>\n",
       "<table border=\"1\" class=\"dataframe\">\n",
       "  <thead>\n",
       "    <tr style=\"text-align: right;\">\n",
       "      <th></th>\n",
       "      <th>cic_id</th>\n",
       "      <th>airline</th>\n",
       "      <th>admin_num</th>\n",
       "      <th>flight_number</th>\n",
       "      <th>visa_type</th>\n",
       "      <th>port_code</th>\n",
       "    </tr>\n",
       "  </thead>\n",
       "  <tbody>\n",
       "    <tr>\n",
       "      <th>0</th>\n",
       "      <td>4084316.0</td>\n",
       "      <td>JL</td>\n",
       "      <td>5.658267e+10</td>\n",
       "      <td>00782</td>\n",
       "      <td>WT</td>\n",
       "      <td>HHW</td>\n",
       "    </tr>\n",
       "    <tr>\n",
       "      <th>1</th>\n",
       "      <td>4422636.0</td>\n",
       "      <td>*GA</td>\n",
       "      <td>9.436200e+10</td>\n",
       "      <td>XBLNG</td>\n",
       "      <td>B2</td>\n",
       "      <td>MCA</td>\n",
       "    </tr>\n",
       "    <tr>\n",
       "      <th>2</th>\n",
       "      <td>1195600.0</td>\n",
       "      <td>LH</td>\n",
       "      <td>5.578047e+10</td>\n",
       "      <td>00464</td>\n",
       "      <td>WT</td>\n",
       "      <td>OGG</td>\n",
       "    </tr>\n",
       "    <tr>\n",
       "      <th>3</th>\n",
       "      <td>5291768.0</td>\n",
       "      <td>QR</td>\n",
       "      <td>9.478970e+10</td>\n",
       "      <td>00739</td>\n",
       "      <td>B2</td>\n",
       "      <td>LOS</td>\n",
       "    </tr>\n",
       "    <tr>\n",
       "      <th>4</th>\n",
       "      <td>985523.0</td>\n",
       "      <td>NaN</td>\n",
       "      <td>4.232257e+10</td>\n",
       "      <td>LAND</td>\n",
       "      <td>WT</td>\n",
       "      <td>CHM</td>\n",
       "    </tr>\n",
       "  </tbody>\n",
       "</table>\n",
       "</div>"
      ],
      "text/plain": [
       "      cic_id airline     admin_num flight_number visa_type port_code\n",
       "0  4084316.0      JL  5.658267e+10         00782        WT       HHW\n",
       "1  4422636.0     *GA  9.436200e+10         XBLNG        B2       MCA\n",
       "2  1195600.0      LH  5.578047e+10         00464        WT       OGG\n",
       "3  5291768.0      QR  9.478970e+10         00739        B2       LOS\n",
       "4   985523.0     NaN  4.232257e+10          LAND        WT       CHM"
      ]
     },
     "execution_count": 8,
     "metadata": {},
     "output_type": "execute_result"
    }
   ],
   "source": [
    "dim_immi_airline = df_immi[['cicid', 'airline', 'admnum', 'fltno', 'visatype','i94port']]\n",
    "dim_immi_airline.columns = ['cic_id', 'airline', 'admin_num', 'flight_number', 'visa_type', 'port_code']\n",
    "dim_immi_airline.head(5)"
   ]
  },
  {
   "cell_type": "markdown",
   "metadata": {
    "editable": true
   },
   "source": [
    "#### temperature data set"
   ]
  },
  {
   "cell_type": "code",
   "execution_count": 9,
   "metadata": {
    "editable": true
   },
   "outputs": [],
   "source": [
    "fname = '../../data2/GlobalLandTemperaturesByCity.csv'\n",
    "df_temperature = pd.read_csv(fname)"
   ]
  },
  {
   "cell_type": "code",
   "execution_count": 10,
   "metadata": {
    "editable": true
   },
   "outputs": [
    {
     "data": {
      "text/html": [
       "<div>\n",
       "<style scoped>\n",
       "    .dataframe tbody tr th:only-of-type {\n",
       "        vertical-align: middle;\n",
       "    }\n",
       "\n",
       "    .dataframe tbody tr th {\n",
       "        vertical-align: top;\n",
       "    }\n",
       "\n",
       "    .dataframe thead th {\n",
       "        text-align: right;\n",
       "    }\n",
       "</style>\n",
       "<table border=\"1\" class=\"dataframe\">\n",
       "  <thead>\n",
       "    <tr style=\"text-align: right;\">\n",
       "      <th></th>\n",
       "      <th>dt</th>\n",
       "      <th>AverageTemperature</th>\n",
       "      <th>AverageTemperatureUncertainty</th>\n",
       "      <th>City</th>\n",
       "      <th>Country</th>\n",
       "      <th>Latitude</th>\n",
       "      <th>Longitude</th>\n",
       "    </tr>\n",
       "  </thead>\n",
       "  <tbody>\n",
       "    <tr>\n",
       "      <th>0</th>\n",
       "      <td>1743-11-01</td>\n",
       "      <td>6.068</td>\n",
       "      <td>1.737</td>\n",
       "      <td>Århus</td>\n",
       "      <td>Denmark</td>\n",
       "      <td>57.05N</td>\n",
       "      <td>10.33E</td>\n",
       "    </tr>\n",
       "    <tr>\n",
       "      <th>1</th>\n",
       "      <td>1743-12-01</td>\n",
       "      <td>NaN</td>\n",
       "      <td>NaN</td>\n",
       "      <td>Århus</td>\n",
       "      <td>Denmark</td>\n",
       "      <td>57.05N</td>\n",
       "      <td>10.33E</td>\n",
       "    </tr>\n",
       "    <tr>\n",
       "      <th>2</th>\n",
       "      <td>1744-01-01</td>\n",
       "      <td>NaN</td>\n",
       "      <td>NaN</td>\n",
       "      <td>Århus</td>\n",
       "      <td>Denmark</td>\n",
       "      <td>57.05N</td>\n",
       "      <td>10.33E</td>\n",
       "    </tr>\n",
       "    <tr>\n",
       "      <th>3</th>\n",
       "      <td>1744-02-01</td>\n",
       "      <td>NaN</td>\n",
       "      <td>NaN</td>\n",
       "      <td>Århus</td>\n",
       "      <td>Denmark</td>\n",
       "      <td>57.05N</td>\n",
       "      <td>10.33E</td>\n",
       "    </tr>\n",
       "    <tr>\n",
       "      <th>4</th>\n",
       "      <td>1744-03-01</td>\n",
       "      <td>NaN</td>\n",
       "      <td>NaN</td>\n",
       "      <td>Århus</td>\n",
       "      <td>Denmark</td>\n",
       "      <td>57.05N</td>\n",
       "      <td>10.33E</td>\n",
       "    </tr>\n",
       "  </tbody>\n",
       "</table>\n",
       "</div>"
      ],
      "text/plain": [
       "           dt  AverageTemperature  AverageTemperatureUncertainty   City  \\\n",
       "0  1743-11-01               6.068                          1.737  Århus   \n",
       "1  1743-12-01                 NaN                            NaN  Århus   \n",
       "2  1744-01-01                 NaN                            NaN  Århus   \n",
       "3  1744-02-01                 NaN                            NaN  Århus   \n",
       "4  1744-03-01                 NaN                            NaN  Århus   \n",
       "\n",
       "   Country Latitude Longitude  \n",
       "0  Denmark   57.05N    10.33E  \n",
       "1  Denmark   57.05N    10.33E  \n",
       "2  Denmark   57.05N    10.33E  \n",
       "3  Denmark   57.05N    10.33E  \n",
       "4  Denmark   57.05N    10.33E  "
      ]
     },
     "execution_count": 10,
     "metadata": {},
     "output_type": "execute_result"
    }
   ],
   "source": [
    "df_temperature.head()"
   ]
  },
  {
   "cell_type": "code",
   "execution_count": 11,
   "metadata": {
    "editable": true
   },
   "outputs": [
    {
     "data": {
      "text/plain": [
       "8599212"
      ]
     },
     "execution_count": 11,
     "metadata": {},
     "output_type": "execute_result"
    }
   ],
   "source": [
    "df_temperature['dt'].count()"
   ]
  },
  {
   "cell_type": "code",
   "execution_count": 12,
   "metadata": {
    "editable": true
   },
   "outputs": [
    {
     "data": {
      "text/plain": [
       "3239"
      ]
     },
     "execution_count": 12,
     "metadata": {},
     "output_type": "execute_result"
    }
   ],
   "source": [
    "len(pd.unique(df_temperature['dt']))"
   ]
  },
  {
   "cell_type": "markdown",
   "metadata": {
    "editable": true
   },
   "source": [
    "##### Therefore non of the existing column could be used as id for the temperature dataset"
   ]
  },
  {
   "cell_type": "code",
   "execution_count": 13,
   "metadata": {
    "editable": true
   },
   "outputs": [
    {
     "data": {
      "text/html": [
       "<div>\n",
       "<style scoped>\n",
       "    .dataframe tbody tr th:only-of-type {\n",
       "        vertical-align: middle;\n",
       "    }\n",
       "\n",
       "    .dataframe tbody tr th {\n",
       "        vertical-align: top;\n",
       "    }\n",
       "\n",
       "    .dataframe thead th {\n",
       "        text-align: right;\n",
       "    }\n",
       "</style>\n",
       "<table border=\"1\" class=\"dataframe\">\n",
       "  <thead>\n",
       "    <tr style=\"text-align: right;\">\n",
       "      <th></th>\n",
       "      <th>dt</th>\n",
       "      <th>avg_temp</th>\n",
       "      <th>avg_temp_uncertnty</th>\n",
       "      <th>city</th>\n",
       "      <th>country</th>\n",
       "    </tr>\n",
       "  </thead>\n",
       "  <tbody>\n",
       "    <tr>\n",
       "      <th>47555</th>\n",
       "      <td>1820-01-01</td>\n",
       "      <td>2.101</td>\n",
       "      <td>3.217</td>\n",
       "      <td>Abilene</td>\n",
       "      <td>United States</td>\n",
       "    </tr>\n",
       "    <tr>\n",
       "      <th>47556</th>\n",
       "      <td>1820-02-01</td>\n",
       "      <td>6.926</td>\n",
       "      <td>2.853</td>\n",
       "      <td>Abilene</td>\n",
       "      <td>United States</td>\n",
       "    </tr>\n",
       "    <tr>\n",
       "      <th>47557</th>\n",
       "      <td>1820-03-01</td>\n",
       "      <td>10.767</td>\n",
       "      <td>2.395</td>\n",
       "      <td>Abilene</td>\n",
       "      <td>United States</td>\n",
       "    </tr>\n",
       "    <tr>\n",
       "      <th>47558</th>\n",
       "      <td>1820-04-01</td>\n",
       "      <td>17.989</td>\n",
       "      <td>2.202</td>\n",
       "      <td>Abilene</td>\n",
       "      <td>United States</td>\n",
       "    </tr>\n",
       "    <tr>\n",
       "      <th>47559</th>\n",
       "      <td>1820-05-01</td>\n",
       "      <td>21.809</td>\n",
       "      <td>2.036</td>\n",
       "      <td>Abilene</td>\n",
       "      <td>United States</td>\n",
       "    </tr>\n",
       "  </tbody>\n",
       "</table>\n",
       "</div>"
      ],
      "text/plain": [
       "               dt  avg_temp  avg_temp_uncertnty     city        country\n",
       "47555  1820-01-01     2.101               3.217  Abilene  United States\n",
       "47556  1820-02-01     6.926               2.853  Abilene  United States\n",
       "47557  1820-03-01    10.767               2.395  Abilene  United States\n",
       "47558  1820-04-01    17.989               2.202  Abilene  United States\n",
       "47559  1820-05-01    21.809               2.036  Abilene  United States"
      ]
     },
     "execution_count": 13,
     "metadata": {},
     "output_type": "execute_result"
    }
   ],
   "source": [
    "df_temperature_usa = df_temperature[df_temperature['Country'] == 'United States']\n",
    "df_temperature_usa = df_temperature_usa[['dt', 'AverageTemperature', 'AverageTemperatureUncertainty', 'City', 'Country']]\n",
    "df_temperature_usa.columns = ['dt', 'avg_temp', 'avg_temp_uncertnty', 'city', 'country']\n",
    "df_temperature_usa.head(5)"
   ]
  },
  {
   "cell_type": "code",
   "execution_count": 14,
   "metadata": {
    "editable": true
   },
   "outputs": [
    {
     "data": {
      "text/html": [
       "<div>\n",
       "<style scoped>\n",
       "    .dataframe tbody tr th:only-of-type {\n",
       "        vertical-align: middle;\n",
       "    }\n",
       "\n",
       "    .dataframe tbody tr th {\n",
       "        vertical-align: top;\n",
       "    }\n",
       "\n",
       "    .dataframe thead th {\n",
       "        text-align: right;\n",
       "    }\n",
       "</style>\n",
       "<table border=\"1\" class=\"dataframe\">\n",
       "  <thead>\n",
       "    <tr style=\"text-align: right;\">\n",
       "      <th></th>\n",
       "      <th>dt</th>\n",
       "      <th>avg_temp</th>\n",
       "      <th>avg_temp_uncertnty</th>\n",
       "      <th>city</th>\n",
       "      <th>country</th>\n",
       "      <th>year</th>\n",
       "      <th>month</th>\n",
       "    </tr>\n",
       "  </thead>\n",
       "  <tbody>\n",
       "    <tr>\n",
       "      <th>47555</th>\n",
       "      <td>1820-01-01</td>\n",
       "      <td>2.101</td>\n",
       "      <td>3.217</td>\n",
       "      <td>Abilene</td>\n",
       "      <td>United States</td>\n",
       "      <td>1820</td>\n",
       "      <td>1</td>\n",
       "    </tr>\n",
       "    <tr>\n",
       "      <th>47556</th>\n",
       "      <td>1820-02-01</td>\n",
       "      <td>6.926</td>\n",
       "      <td>2.853</td>\n",
       "      <td>Abilene</td>\n",
       "      <td>United States</td>\n",
       "      <td>1820</td>\n",
       "      <td>2</td>\n",
       "    </tr>\n",
       "    <tr>\n",
       "      <th>47557</th>\n",
       "      <td>1820-03-01</td>\n",
       "      <td>10.767</td>\n",
       "      <td>2.395</td>\n",
       "      <td>Abilene</td>\n",
       "      <td>United States</td>\n",
       "      <td>1820</td>\n",
       "      <td>3</td>\n",
       "    </tr>\n",
       "    <tr>\n",
       "      <th>47558</th>\n",
       "      <td>1820-04-01</td>\n",
       "      <td>17.989</td>\n",
       "      <td>2.202</td>\n",
       "      <td>Abilene</td>\n",
       "      <td>United States</td>\n",
       "      <td>1820</td>\n",
       "      <td>4</td>\n",
       "    </tr>\n",
       "    <tr>\n",
       "      <th>47559</th>\n",
       "      <td>1820-05-01</td>\n",
       "      <td>21.809</td>\n",
       "      <td>2.036</td>\n",
       "      <td>Abilene</td>\n",
       "      <td>United States</td>\n",
       "      <td>1820</td>\n",
       "      <td>5</td>\n",
       "    </tr>\n",
       "  </tbody>\n",
       "</table>\n",
       "</div>"
      ],
      "text/plain": [
       "              dt  avg_temp  avg_temp_uncertnty     city        country  year  \\\n",
       "47555 1820-01-01     2.101               3.217  Abilene  United States  1820   \n",
       "47556 1820-02-01     6.926               2.853  Abilene  United States  1820   \n",
       "47557 1820-03-01    10.767               2.395  Abilene  United States  1820   \n",
       "47558 1820-04-01    17.989               2.202  Abilene  United States  1820   \n",
       "47559 1820-05-01    21.809               2.036  Abilene  United States  1820   \n",
       "\n",
       "       month  \n",
       "47555      1  \n",
       "47556      2  \n",
       "47557      3  \n",
       "47558      4  \n",
       "47559      5  "
      ]
     },
     "execution_count": 14,
     "metadata": {},
     "output_type": "execute_result"
    }
   ],
   "source": [
    "df_temperature_usa['dt'] = pd.to_datetime(df_temperature_usa['dt'])\n",
    "df_temperature_usa['year'] = df_temperature_usa['dt'].apply(lambda t: t.year)\n",
    "df_temperature_usa['month'] = df_temperature_usa['dt'].apply(lambda t: t.month)\n",
    "df_temperature_usa.head()"
   ]
  },
  {
   "cell_type": "code",
   "execution_count": 15,
   "metadata": {
    "editable": true
   },
   "outputs": [],
   "source": [
    "df_temperature_usa_2016 = df_temperature_usa[df_temperature_usa['year'] == 2016]"
   ]
  },
  {
   "cell_type": "code",
   "execution_count": 16,
   "metadata": {
    "editable": true
   },
   "outputs": [
    {
     "data": {
      "text/html": [
       "<div>\n",
       "<style scoped>\n",
       "    .dataframe tbody tr th:only-of-type {\n",
       "        vertical-align: middle;\n",
       "    }\n",
       "\n",
       "    .dataframe tbody tr th {\n",
       "        vertical-align: top;\n",
       "    }\n",
       "\n",
       "    .dataframe thead th {\n",
       "        text-align: right;\n",
       "    }\n",
       "</style>\n",
       "<table border=\"1\" class=\"dataframe\">\n",
       "  <thead>\n",
       "    <tr style=\"text-align: right;\">\n",
       "      <th></th>\n",
       "      <th>dt</th>\n",
       "      <th>avg_temp</th>\n",
       "      <th>avg_temp_uncertnty</th>\n",
       "      <th>city</th>\n",
       "      <th>country</th>\n",
       "      <th>year</th>\n",
       "      <th>month</th>\n",
       "    </tr>\n",
       "  </thead>\n",
       "  <tbody>\n",
       "  </tbody>\n",
       "</table>\n",
       "</div>"
      ],
      "text/plain": [
       "Empty DataFrame\n",
       "Columns: [dt, avg_temp, avg_temp_uncertnty, city, country, year, month]\n",
       "Index: []"
      ]
     },
     "execution_count": 16,
     "metadata": {},
     "output_type": "execute_result"
    }
   ],
   "source": [
    "df_temperature_usa_2016.head()"
   ]
  },
  {
   "cell_type": "markdown",
   "metadata": {
    "editable": true
   },
   "source": [
    "##### Therefore, it indicates that this temperature dataset does not contain data in 2016"
   ]
  },
  {
   "cell_type": "markdown",
   "metadata": {
    "editable": true
   },
   "source": [
    "### U.S. City Demographic Data Set"
   ]
  },
  {
   "cell_type": "code",
   "execution_count": 17,
   "metadata": {
    "editable": true
   },
   "outputs": [],
   "source": [
    "df_demographic = pd.read_csv(\"us-cities-demographics.csv\", sep=\";\")"
   ]
  },
  {
   "cell_type": "code",
   "execution_count": 18,
   "metadata": {
    "editable": true
   },
   "outputs": [
    {
     "data": {
      "text/html": [
       "<div>\n",
       "<style scoped>\n",
       "    .dataframe tbody tr th:only-of-type {\n",
       "        vertical-align: middle;\n",
       "    }\n",
       "\n",
       "    .dataframe tbody tr th {\n",
       "        vertical-align: top;\n",
       "    }\n",
       "\n",
       "    .dataframe thead th {\n",
       "        text-align: right;\n",
       "    }\n",
       "</style>\n",
       "<table border=\"1\" class=\"dataframe\">\n",
       "  <thead>\n",
       "    <tr style=\"text-align: right;\">\n",
       "      <th></th>\n",
       "      <th>City</th>\n",
       "      <th>State</th>\n",
       "      <th>Median Age</th>\n",
       "      <th>Male Population</th>\n",
       "      <th>Female Population</th>\n",
       "      <th>Total Population</th>\n",
       "      <th>Number of Veterans</th>\n",
       "      <th>Foreign-born</th>\n",
       "      <th>Average Household Size</th>\n",
       "      <th>State Code</th>\n",
       "      <th>Race</th>\n",
       "      <th>Count</th>\n",
       "    </tr>\n",
       "  </thead>\n",
       "  <tbody>\n",
       "    <tr>\n",
       "      <th>0</th>\n",
       "      <td>Silver Spring</td>\n",
       "      <td>Maryland</td>\n",
       "      <td>33.8</td>\n",
       "      <td>40601.0</td>\n",
       "      <td>41862.0</td>\n",
       "      <td>82463</td>\n",
       "      <td>1562.0</td>\n",
       "      <td>30908.0</td>\n",
       "      <td>2.60</td>\n",
       "      <td>MD</td>\n",
       "      <td>Hispanic or Latino</td>\n",
       "      <td>25924</td>\n",
       "    </tr>\n",
       "    <tr>\n",
       "      <th>1</th>\n",
       "      <td>Quincy</td>\n",
       "      <td>Massachusetts</td>\n",
       "      <td>41.0</td>\n",
       "      <td>44129.0</td>\n",
       "      <td>49500.0</td>\n",
       "      <td>93629</td>\n",
       "      <td>4147.0</td>\n",
       "      <td>32935.0</td>\n",
       "      <td>2.39</td>\n",
       "      <td>MA</td>\n",
       "      <td>White</td>\n",
       "      <td>58723</td>\n",
       "    </tr>\n",
       "    <tr>\n",
       "      <th>2</th>\n",
       "      <td>Hoover</td>\n",
       "      <td>Alabama</td>\n",
       "      <td>38.5</td>\n",
       "      <td>38040.0</td>\n",
       "      <td>46799.0</td>\n",
       "      <td>84839</td>\n",
       "      <td>4819.0</td>\n",
       "      <td>8229.0</td>\n",
       "      <td>2.58</td>\n",
       "      <td>AL</td>\n",
       "      <td>Asian</td>\n",
       "      <td>4759</td>\n",
       "    </tr>\n",
       "    <tr>\n",
       "      <th>3</th>\n",
       "      <td>Rancho Cucamonga</td>\n",
       "      <td>California</td>\n",
       "      <td>34.5</td>\n",
       "      <td>88127.0</td>\n",
       "      <td>87105.0</td>\n",
       "      <td>175232</td>\n",
       "      <td>5821.0</td>\n",
       "      <td>33878.0</td>\n",
       "      <td>3.18</td>\n",
       "      <td>CA</td>\n",
       "      <td>Black or African-American</td>\n",
       "      <td>24437</td>\n",
       "    </tr>\n",
       "    <tr>\n",
       "      <th>4</th>\n",
       "      <td>Newark</td>\n",
       "      <td>New Jersey</td>\n",
       "      <td>34.6</td>\n",
       "      <td>138040.0</td>\n",
       "      <td>143873.0</td>\n",
       "      <td>281913</td>\n",
       "      <td>5829.0</td>\n",
       "      <td>86253.0</td>\n",
       "      <td>2.73</td>\n",
       "      <td>NJ</td>\n",
       "      <td>White</td>\n",
       "      <td>76402</td>\n",
       "    </tr>\n",
       "  </tbody>\n",
       "</table>\n",
       "</div>"
      ],
      "text/plain": [
       "               City          State  Median Age  Male Population  \\\n",
       "0     Silver Spring       Maryland        33.8          40601.0   \n",
       "1            Quincy  Massachusetts        41.0          44129.0   \n",
       "2            Hoover        Alabama        38.5          38040.0   \n",
       "3  Rancho Cucamonga     California        34.5          88127.0   \n",
       "4            Newark     New Jersey        34.6         138040.0   \n",
       "\n",
       "   Female Population  Total Population  Number of Veterans  Foreign-born  \\\n",
       "0            41862.0             82463              1562.0       30908.0   \n",
       "1            49500.0             93629              4147.0       32935.0   \n",
       "2            46799.0             84839              4819.0        8229.0   \n",
       "3            87105.0            175232              5821.0       33878.0   \n",
       "4           143873.0            281913              5829.0       86253.0   \n",
       "\n",
       "   Average Household Size State Code                       Race  Count  \n",
       "0                    2.60         MD         Hispanic or Latino  25924  \n",
       "1                    2.39         MA                      White  58723  \n",
       "2                    2.58         AL                      Asian   4759  \n",
       "3                    3.18         CA  Black or African-American  24437  \n",
       "4                    2.73         NJ                      White  76402  "
      ]
     },
     "execution_count": 18,
     "metadata": {},
     "output_type": "execute_result"
    }
   ],
   "source": [
    "df_demographic.head()"
   ]
  },
  {
   "cell_type": "code",
   "execution_count": 19,
   "metadata": {
    "editable": true
   },
   "outputs": [
    {
     "data": {
      "text/html": [
       "<div>\n",
       "<style scoped>\n",
       "    .dataframe tbody tr th:only-of-type {\n",
       "        vertical-align: middle;\n",
       "    }\n",
       "\n",
       "    .dataframe tbody tr th {\n",
       "        vertical-align: top;\n",
       "    }\n",
       "\n",
       "    .dataframe thead th {\n",
       "        text-align: right;\n",
       "    }\n",
       "</style>\n",
       "<table border=\"1\" class=\"dataframe\">\n",
       "  <thead>\n",
       "    <tr style=\"text-align: right;\">\n",
       "      <th></th>\n",
       "      <th>city</th>\n",
       "      <th>state_code</th>\n",
       "      <th>male_pop</th>\n",
       "      <th>female_pop</th>\n",
       "      <th>num_vetarans</th>\n",
       "      <th>foreign_born</th>\n",
       "      <th>race</th>\n",
       "    </tr>\n",
       "  </thead>\n",
       "  <tbody>\n",
       "    <tr>\n",
       "      <th>0</th>\n",
       "      <td>Silver Spring</td>\n",
       "      <td>MD</td>\n",
       "      <td>40601.0</td>\n",
       "      <td>41862.0</td>\n",
       "      <td>1562.0</td>\n",
       "      <td>30908.0</td>\n",
       "      <td>Hispanic or Latino</td>\n",
       "    </tr>\n",
       "    <tr>\n",
       "      <th>1</th>\n",
       "      <td>Quincy</td>\n",
       "      <td>MA</td>\n",
       "      <td>44129.0</td>\n",
       "      <td>49500.0</td>\n",
       "      <td>4147.0</td>\n",
       "      <td>32935.0</td>\n",
       "      <td>White</td>\n",
       "    </tr>\n",
       "    <tr>\n",
       "      <th>2</th>\n",
       "      <td>Hoover</td>\n",
       "      <td>AL</td>\n",
       "      <td>38040.0</td>\n",
       "      <td>46799.0</td>\n",
       "      <td>4819.0</td>\n",
       "      <td>8229.0</td>\n",
       "      <td>Asian</td>\n",
       "    </tr>\n",
       "    <tr>\n",
       "      <th>3</th>\n",
       "      <td>Rancho Cucamonga</td>\n",
       "      <td>CA</td>\n",
       "      <td>88127.0</td>\n",
       "      <td>87105.0</td>\n",
       "      <td>5821.0</td>\n",
       "      <td>33878.0</td>\n",
       "      <td>Black or African-American</td>\n",
       "    </tr>\n",
       "    <tr>\n",
       "      <th>4</th>\n",
       "      <td>Newark</td>\n",
       "      <td>NJ</td>\n",
       "      <td>138040.0</td>\n",
       "      <td>143873.0</td>\n",
       "      <td>5829.0</td>\n",
       "      <td>86253.0</td>\n",
       "      <td>White</td>\n",
       "    </tr>\n",
       "  </tbody>\n",
       "</table>\n",
       "</div>"
      ],
      "text/plain": [
       "               city state_code  male_pop  female_pop  num_vetarans  \\\n",
       "0     Silver Spring         MD   40601.0     41862.0        1562.0   \n",
       "1            Quincy         MA   44129.0     49500.0        4147.0   \n",
       "2            Hoover         AL   38040.0     46799.0        4819.0   \n",
       "3  Rancho Cucamonga         CA   88127.0     87105.0        5821.0   \n",
       "4            Newark         NJ  138040.0    143873.0        5829.0   \n",
       "\n",
       "   foreign_born                       race  \n",
       "0       30908.0         Hispanic or Latino  \n",
       "1       32935.0                      White  \n",
       "2        8229.0                      Asian  \n",
       "3       33878.0  Black or African-American  \n",
       "4       86253.0                      White  "
      ]
     },
     "execution_count": 19,
     "metadata": {},
     "output_type": "execute_result"
    }
   ],
   "source": [
    "dim_demographic_population = df_demographic[['City', 'State Code', 'Male Population', 'Female Population', 'Number of Veterans', 'Foreign-born', 'Race']]\n",
    "dim_demographic_population.columns = ['city', 'state_code', 'male_pop', 'female_pop', 'num_vetarans', 'foreign_born', 'race']\n",
    "dim_demographic_population.head()"
   ]
  },
  {
   "cell_type": "code",
   "execution_count": 20,
   "metadata": {
    "editable": true
   },
   "outputs": [
    {
     "data": {
      "text/html": [
       "<div>\n",
       "<style scoped>\n",
       "    .dataframe tbody tr th:only-of-type {\n",
       "        vertical-align: middle;\n",
       "    }\n",
       "\n",
       "    .dataframe tbody tr th {\n",
       "        vertical-align: top;\n",
       "    }\n",
       "\n",
       "    .dataframe thead th {\n",
       "        text-align: right;\n",
       "    }\n",
       "</style>\n",
       "<table border=\"1\" class=\"dataframe\">\n",
       "  <thead>\n",
       "    <tr style=\"text-align: right;\">\n",
       "      <th></th>\n",
       "      <th>city</th>\n",
       "      <th>state_code</th>\n",
       "      <th>median_age</th>\n",
       "      <th>avg_household_size</th>\n",
       "    </tr>\n",
       "  </thead>\n",
       "  <tbody>\n",
       "    <tr>\n",
       "      <th>0</th>\n",
       "      <td>Silver Spring</td>\n",
       "      <td>MD</td>\n",
       "      <td>33.8</td>\n",
       "      <td>2.60</td>\n",
       "    </tr>\n",
       "    <tr>\n",
       "      <th>1</th>\n",
       "      <td>Quincy</td>\n",
       "      <td>MA</td>\n",
       "      <td>41.0</td>\n",
       "      <td>2.39</td>\n",
       "    </tr>\n",
       "    <tr>\n",
       "      <th>2</th>\n",
       "      <td>Hoover</td>\n",
       "      <td>AL</td>\n",
       "      <td>38.5</td>\n",
       "      <td>2.58</td>\n",
       "    </tr>\n",
       "    <tr>\n",
       "      <th>3</th>\n",
       "      <td>Rancho Cucamonga</td>\n",
       "      <td>CA</td>\n",
       "      <td>34.5</td>\n",
       "      <td>3.18</td>\n",
       "    </tr>\n",
       "    <tr>\n",
       "      <th>4</th>\n",
       "      <td>Newark</td>\n",
       "      <td>NJ</td>\n",
       "      <td>34.6</td>\n",
       "      <td>2.73</td>\n",
       "    </tr>\n",
       "  </tbody>\n",
       "</table>\n",
       "</div>"
      ],
      "text/plain": [
       "               city state_code  median_age  avg_household_size\n",
       "0     Silver Spring         MD        33.8                2.60\n",
       "1            Quincy         MA        41.0                2.39\n",
       "2            Hoover         AL        38.5                2.58\n",
       "3  Rancho Cucamonga         CA        34.5                3.18\n",
       "4            Newark         NJ        34.6                2.73"
      ]
     },
     "execution_count": 20,
     "metadata": {},
     "output_type": "execute_result"
    }
   ],
   "source": [
    "dim_demographic_statistics = df_demographic[['City', 'State Code', 'Median Age', 'Average Household Size']]\n",
    "dim_demographic_statistics.columns = ['city', 'state_code', 'median_age', 'avg_household_size']\n",
    "dim_demographic_statistics.head()"
   ]
  },
  {
   "cell_type": "markdown",
   "metadata": {
    "editable": true
   },
   "source": [
    "### Airport Codes Data Set"
   ]
  },
  {
   "cell_type": "code",
   "execution_count": 21,
   "metadata": {
    "editable": true
   },
   "outputs": [],
   "source": [
    "df_airport = pd.read_csv(\"airport-codes_csv.csv\")"
   ]
  },
  {
   "cell_type": "code",
   "execution_count": 22,
   "metadata": {
    "editable": true
   },
   "outputs": [
    {
     "data": {
      "text/html": [
       "<div>\n",
       "<style scoped>\n",
       "    .dataframe tbody tr th:only-of-type {\n",
       "        vertical-align: middle;\n",
       "    }\n",
       "\n",
       "    .dataframe tbody tr th {\n",
       "        vertical-align: top;\n",
       "    }\n",
       "\n",
       "    .dataframe thead th {\n",
       "        text-align: right;\n",
       "    }\n",
       "</style>\n",
       "<table border=\"1\" class=\"dataframe\">\n",
       "  <thead>\n",
       "    <tr style=\"text-align: right;\">\n",
       "      <th></th>\n",
       "      <th>ident</th>\n",
       "      <th>type</th>\n",
       "      <th>name</th>\n",
       "      <th>elevation_ft</th>\n",
       "      <th>continent</th>\n",
       "      <th>iso_country</th>\n",
       "      <th>iso_region</th>\n",
       "      <th>municipality</th>\n",
       "      <th>gps_code</th>\n",
       "      <th>iata_code</th>\n",
       "      <th>local_code</th>\n",
       "      <th>coordinates</th>\n",
       "    </tr>\n",
       "  </thead>\n",
       "  <tbody>\n",
       "    <tr>\n",
       "      <th>0</th>\n",
       "      <td>00A</td>\n",
       "      <td>heliport</td>\n",
       "      <td>Total Rf Heliport</td>\n",
       "      <td>11.0</td>\n",
       "      <td>NaN</td>\n",
       "      <td>US</td>\n",
       "      <td>US-PA</td>\n",
       "      <td>Bensalem</td>\n",
       "      <td>00A</td>\n",
       "      <td>NaN</td>\n",
       "      <td>00A</td>\n",
       "      <td>-74.93360137939453, 40.07080078125</td>\n",
       "    </tr>\n",
       "    <tr>\n",
       "      <th>1</th>\n",
       "      <td>00AA</td>\n",
       "      <td>small_airport</td>\n",
       "      <td>Aero B Ranch Airport</td>\n",
       "      <td>3435.0</td>\n",
       "      <td>NaN</td>\n",
       "      <td>US</td>\n",
       "      <td>US-KS</td>\n",
       "      <td>Leoti</td>\n",
       "      <td>00AA</td>\n",
       "      <td>NaN</td>\n",
       "      <td>00AA</td>\n",
       "      <td>-101.473911, 38.704022</td>\n",
       "    </tr>\n",
       "    <tr>\n",
       "      <th>2</th>\n",
       "      <td>00AK</td>\n",
       "      <td>small_airport</td>\n",
       "      <td>Lowell Field</td>\n",
       "      <td>450.0</td>\n",
       "      <td>NaN</td>\n",
       "      <td>US</td>\n",
       "      <td>US-AK</td>\n",
       "      <td>Anchor Point</td>\n",
       "      <td>00AK</td>\n",
       "      <td>NaN</td>\n",
       "      <td>00AK</td>\n",
       "      <td>-151.695999146, 59.94919968</td>\n",
       "    </tr>\n",
       "    <tr>\n",
       "      <th>3</th>\n",
       "      <td>00AL</td>\n",
       "      <td>small_airport</td>\n",
       "      <td>Epps Airpark</td>\n",
       "      <td>820.0</td>\n",
       "      <td>NaN</td>\n",
       "      <td>US</td>\n",
       "      <td>US-AL</td>\n",
       "      <td>Harvest</td>\n",
       "      <td>00AL</td>\n",
       "      <td>NaN</td>\n",
       "      <td>00AL</td>\n",
       "      <td>-86.77030181884766, 34.86479949951172</td>\n",
       "    </tr>\n",
       "    <tr>\n",
       "      <th>4</th>\n",
       "      <td>00AR</td>\n",
       "      <td>closed</td>\n",
       "      <td>Newport Hospital &amp; Clinic Heliport</td>\n",
       "      <td>237.0</td>\n",
       "      <td>NaN</td>\n",
       "      <td>US</td>\n",
       "      <td>US-AR</td>\n",
       "      <td>Newport</td>\n",
       "      <td>NaN</td>\n",
       "      <td>NaN</td>\n",
       "      <td>NaN</td>\n",
       "      <td>-91.254898, 35.6087</td>\n",
       "    </tr>\n",
       "  </tbody>\n",
       "</table>\n",
       "</div>"
      ],
      "text/plain": [
       "  ident           type                                name  elevation_ft  \\\n",
       "0   00A       heliport                   Total Rf Heliport          11.0   \n",
       "1  00AA  small_airport                Aero B Ranch Airport        3435.0   \n",
       "2  00AK  small_airport                        Lowell Field         450.0   \n",
       "3  00AL  small_airport                        Epps Airpark         820.0   \n",
       "4  00AR         closed  Newport Hospital & Clinic Heliport         237.0   \n",
       "\n",
       "  continent iso_country iso_region  municipality gps_code iata_code  \\\n",
       "0       NaN          US      US-PA      Bensalem      00A       NaN   \n",
       "1       NaN          US      US-KS         Leoti     00AA       NaN   \n",
       "2       NaN          US      US-AK  Anchor Point     00AK       NaN   \n",
       "3       NaN          US      US-AL       Harvest     00AL       NaN   \n",
       "4       NaN          US      US-AR       Newport      NaN       NaN   \n",
       "\n",
       "  local_code                            coordinates  \n",
       "0        00A     -74.93360137939453, 40.07080078125  \n",
       "1       00AA                 -101.473911, 38.704022  \n",
       "2       00AK            -151.695999146, 59.94919968  \n",
       "3       00AL  -86.77030181884766, 34.86479949951172  \n",
       "4        NaN                    -91.254898, 35.6087  "
      ]
     },
     "execution_count": 22,
     "metadata": {},
     "output_type": "execute_result"
    }
   ],
   "source": [
    "df_airport.head()"
   ]
  },
  {
   "cell_type": "code",
   "execution_count": 23,
   "metadata": {
    "editable": true
   },
   "outputs": [
    {
     "data": {
      "text/html": [
       "<div>\n",
       "<style scoped>\n",
       "    .dataframe tbody tr th:only-of-type {\n",
       "        vertical-align: middle;\n",
       "    }\n",
       "\n",
       "    .dataframe tbody tr th {\n",
       "        vertical-align: top;\n",
       "    }\n",
       "\n",
       "    .dataframe thead th {\n",
       "        text-align: right;\n",
       "    }\n",
       "</style>\n",
       "<table border=\"1\" class=\"dataframe\">\n",
       "  <thead>\n",
       "    <tr style=\"text-align: right;\">\n",
       "      <th></th>\n",
       "      <th>ident</th>\n",
       "      <th>type</th>\n",
       "      <th>name</th>\n",
       "      <th>elevation_ft</th>\n",
       "      <th>continent</th>\n",
       "      <th>iso_country</th>\n",
       "      <th>iso_region</th>\n",
       "      <th>municipality</th>\n",
       "      <th>gps_code</th>\n",
       "      <th>iata_code</th>\n",
       "      <th>local_code</th>\n",
       "      <th>coordinates</th>\n",
       "    </tr>\n",
       "  </thead>\n",
       "  <tbody>\n",
       "    <tr>\n",
       "      <th>223</th>\n",
       "      <td>03N</td>\n",
       "      <td>small_airport</td>\n",
       "      <td>Utirik Airport</td>\n",
       "      <td>4.0</td>\n",
       "      <td>OC</td>\n",
       "      <td>MH</td>\n",
       "      <td>MH-UTI</td>\n",
       "      <td>Utirik Island</td>\n",
       "      <td>K03N</td>\n",
       "      <td>UTK</td>\n",
       "      <td>03N</td>\n",
       "      <td>169.852005, 11.222</td>\n",
       "    </tr>\n",
       "    <tr>\n",
       "      <th>440</th>\n",
       "      <td>07FA</td>\n",
       "      <td>small_airport</td>\n",
       "      <td>Ocean Reef Club Airport</td>\n",
       "      <td>8.0</td>\n",
       "      <td>NaN</td>\n",
       "      <td>US</td>\n",
       "      <td>US-FL</td>\n",
       "      <td>Key Largo</td>\n",
       "      <td>07FA</td>\n",
       "      <td>OCA</td>\n",
       "      <td>07FA</td>\n",
       "      <td>-80.274803161621, 25.325399398804</td>\n",
       "    </tr>\n",
       "    <tr>\n",
       "      <th>594</th>\n",
       "      <td>0AK</td>\n",
       "      <td>small_airport</td>\n",
       "      <td>Pilot Station Airport</td>\n",
       "      <td>305.0</td>\n",
       "      <td>NaN</td>\n",
       "      <td>US</td>\n",
       "      <td>US-AK</td>\n",
       "      <td>Pilot Station</td>\n",
       "      <td>NaN</td>\n",
       "      <td>PQS</td>\n",
       "      <td>0AK</td>\n",
       "      <td>-162.899994, 61.934601</td>\n",
       "    </tr>\n",
       "    <tr>\n",
       "      <th>673</th>\n",
       "      <td>0CO2</td>\n",
       "      <td>small_airport</td>\n",
       "      <td>Crested Butte Airpark</td>\n",
       "      <td>8980.0</td>\n",
       "      <td>NaN</td>\n",
       "      <td>US</td>\n",
       "      <td>US-CO</td>\n",
       "      <td>Crested Butte</td>\n",
       "      <td>0CO2</td>\n",
       "      <td>CSE</td>\n",
       "      <td>0CO2</td>\n",
       "      <td>-106.928341, 38.851918</td>\n",
       "    </tr>\n",
       "    <tr>\n",
       "      <th>1088</th>\n",
       "      <td>0TE7</td>\n",
       "      <td>small_airport</td>\n",
       "      <td>LBJ Ranch Airport</td>\n",
       "      <td>1515.0</td>\n",
       "      <td>NaN</td>\n",
       "      <td>US</td>\n",
       "      <td>US-TX</td>\n",
       "      <td>Johnson City</td>\n",
       "      <td>0TE7</td>\n",
       "      <td>JCY</td>\n",
       "      <td>0TE7</td>\n",
       "      <td>-98.62249755859999, 30.251800537100003</td>\n",
       "    </tr>\n",
       "  </tbody>\n",
       "</table>\n",
       "</div>"
      ],
      "text/plain": [
       "     ident           type                     name  elevation_ft continent  \\\n",
       "223    03N  small_airport           Utirik Airport           4.0        OC   \n",
       "440   07FA  small_airport  Ocean Reef Club Airport           8.0       NaN   \n",
       "594    0AK  small_airport    Pilot Station Airport         305.0       NaN   \n",
       "673   0CO2  small_airport    Crested Butte Airpark        8980.0       NaN   \n",
       "1088  0TE7  small_airport        LBJ Ranch Airport        1515.0       NaN   \n",
       "\n",
       "     iso_country iso_region   municipality gps_code iata_code local_code  \\\n",
       "223           MH     MH-UTI  Utirik Island     K03N       UTK        03N   \n",
       "440           US      US-FL      Key Largo     07FA       OCA       07FA   \n",
       "594           US      US-AK  Pilot Station      NaN       PQS        0AK   \n",
       "673           US      US-CO  Crested Butte     0CO2       CSE       0CO2   \n",
       "1088          US      US-TX   Johnson City     0TE7       JCY       0TE7   \n",
       "\n",
       "                                 coordinates  \n",
       "223                       169.852005, 11.222  \n",
       "440        -80.274803161621, 25.325399398804  \n",
       "594                   -162.899994, 61.934601  \n",
       "673                   -106.928341, 38.851918  \n",
       "1088  -98.62249755859999, 30.251800537100003  "
      ]
     },
     "execution_count": 23,
     "metadata": {},
     "output_type": "execute_result"
    }
   ],
   "source": [
    "df_airport[~df_airport['iata_code'].isnull()].head()"
   ]
  },
  {
   "cell_type": "code",
   "execution_count": 24,
   "metadata": {
    "editable": true
   },
   "outputs": [
    {
     "data": {
      "text/html": [
       "<div>\n",
       "<style scoped>\n",
       "    .dataframe tbody tr th:only-of-type {\n",
       "        vertical-align: middle;\n",
       "    }\n",
       "\n",
       "    .dataframe tbody tr th {\n",
       "        vertical-align: top;\n",
       "    }\n",
       "\n",
       "    .dataframe thead th {\n",
       "        text-align: right;\n",
       "    }\n",
       "</style>\n",
       "<table border=\"1\" class=\"dataframe\">\n",
       "  <thead>\n",
       "    <tr style=\"text-align: right;\">\n",
       "      <th></th>\n",
       "      <th>ident</th>\n",
       "      <th>type</th>\n",
       "      <th>name</th>\n",
       "      <th>elevation_ft</th>\n",
       "      <th>continent</th>\n",
       "      <th>iso_country</th>\n",
       "      <th>iso_region</th>\n",
       "      <th>municipality</th>\n",
       "      <th>gps_code</th>\n",
       "      <th>iata_code</th>\n",
       "      <th>local_code</th>\n",
       "      <th>coordinates</th>\n",
       "    </tr>\n",
       "  </thead>\n",
       "  <tbody>\n",
       "    <tr>\n",
       "      <th>26128</th>\n",
       "      <td>KATL</td>\n",
       "      <td>large_airport</td>\n",
       "      <td>Hartsfield Jackson Atlanta International Airport</td>\n",
       "      <td>1026.0</td>\n",
       "      <td>NaN</td>\n",
       "      <td>US</td>\n",
       "      <td>US-GA</td>\n",
       "      <td>Atlanta</td>\n",
       "      <td>KATL</td>\n",
       "      <td>ATL</td>\n",
       "      <td>ATL</td>\n",
       "      <td>-84.428101, 33.6367</td>\n",
       "    </tr>\n",
       "  </tbody>\n",
       "</table>\n",
       "</div>"
      ],
      "text/plain": [
       "      ident           type                                              name  \\\n",
       "26128  KATL  large_airport  Hartsfield Jackson Atlanta International Airport   \n",
       "\n",
       "       elevation_ft continent iso_country iso_region municipality gps_code  \\\n",
       "26128        1026.0       NaN          US      US-GA      Atlanta     KATL   \n",
       "\n",
       "      iata_code local_code          coordinates  \n",
       "26128       ATL        ATL  -84.428101, 33.6367  "
      ]
     },
     "execution_count": 24,
     "metadata": {},
     "output_type": "execute_result"
    }
   ],
   "source": [
    "df_airport[(df_airport['iata_code']==\"ATL\") & (df_airport['iso_country']==\"US\")]"
   ]
  },
  {
   "cell_type": "markdown",
   "metadata": {
    "editable": true
   },
   "source": [
    "##### Need to filter with non-missing iata_code and \"US\" as iso_country for this data warehouse, otherwise errors may be generated. e.g. with iata_code as LOS, it is not referring to Los Angles in US, but rather to Lagos Airport in Nigeria."
   ]
  },
  {
   "cell_type": "code",
   "execution_count": 25,
   "metadata": {
    "editable": true
   },
   "outputs": [],
   "source": [
    "dim_airport = df_airport[~df_airport['iata_code'].isnull() & (df_airport['iso_country']==\"US\")] \n",
    "\n",
    "dim_airport = dim_airport[['iata_code', 'name', 'type', 'iso_country', 'iso_region', 'municipality', 'coordinates']]\n",
    "dim_airport.columns = [['iata_code', 'name', 'type', 'country', 'state', 'municipality', 'coordinates']]"
   ]
  },
  {
   "cell_type": "code",
   "execution_count": 26,
   "metadata": {
    "editable": true
   },
   "outputs": [
    {
     "data": {
      "text/html": [
       "<div>\n",
       "<style scoped>\n",
       "    .dataframe tbody tr th:only-of-type {\n",
       "        vertical-align: middle;\n",
       "    }\n",
       "\n",
       "    .dataframe tbody tr th {\n",
       "        vertical-align: top;\n",
       "    }\n",
       "\n",
       "    .dataframe thead tr th {\n",
       "        text-align: left;\n",
       "    }\n",
       "</style>\n",
       "<table border=\"1\" class=\"dataframe\">\n",
       "  <thead>\n",
       "    <tr>\n",
       "      <th></th>\n",
       "      <th>iata_code</th>\n",
       "      <th>name</th>\n",
       "      <th>type</th>\n",
       "      <th>country</th>\n",
       "      <th>state</th>\n",
       "      <th>municipality</th>\n",
       "      <th>coordinates</th>\n",
       "    </tr>\n",
       "  </thead>\n",
       "  <tbody>\n",
       "    <tr>\n",
       "      <th>440</th>\n",
       "      <td>OCA</td>\n",
       "      <td>Ocean Reef Club Airport</td>\n",
       "      <td>small_airport</td>\n",
       "      <td>US</td>\n",
       "      <td>US-FL</td>\n",
       "      <td>Key Largo</td>\n",
       "      <td>-80.274803161621, 25.325399398804</td>\n",
       "    </tr>\n",
       "    <tr>\n",
       "      <th>594</th>\n",
       "      <td>PQS</td>\n",
       "      <td>Pilot Station Airport</td>\n",
       "      <td>small_airport</td>\n",
       "      <td>US</td>\n",
       "      <td>US-AK</td>\n",
       "      <td>Pilot Station</td>\n",
       "      <td>-162.899994, 61.934601</td>\n",
       "    </tr>\n",
       "    <tr>\n",
       "      <th>673</th>\n",
       "      <td>CSE</td>\n",
       "      <td>Crested Butte Airpark</td>\n",
       "      <td>small_airport</td>\n",
       "      <td>US</td>\n",
       "      <td>US-CO</td>\n",
       "      <td>Crested Butte</td>\n",
       "      <td>-106.928341, 38.851918</td>\n",
       "    </tr>\n",
       "    <tr>\n",
       "      <th>1088</th>\n",
       "      <td>JCY</td>\n",
       "      <td>LBJ Ranch Airport</td>\n",
       "      <td>small_airport</td>\n",
       "      <td>US</td>\n",
       "      <td>US-TX</td>\n",
       "      <td>Johnson City</td>\n",
       "      <td>-98.62249755859999, 30.251800537100003</td>\n",
       "    </tr>\n",
       "    <tr>\n",
       "      <th>1402</th>\n",
       "      <td>PMX</td>\n",
       "      <td>Metropolitan Airport</td>\n",
       "      <td>small_airport</td>\n",
       "      <td>US</td>\n",
       "      <td>US-MA</td>\n",
       "      <td>Palmer</td>\n",
       "      <td>-72.31140136719999, 42.223300933800004</td>\n",
       "    </tr>\n",
       "  </tbody>\n",
       "</table>\n",
       "</div>"
      ],
      "text/plain": [
       "     iata_code                     name           type country  state  \\\n",
       "440        OCA  Ocean Reef Club Airport  small_airport      US  US-FL   \n",
       "594        PQS    Pilot Station Airport  small_airport      US  US-AK   \n",
       "673        CSE    Crested Butte Airpark  small_airport      US  US-CO   \n",
       "1088       JCY        LBJ Ranch Airport  small_airport      US  US-TX   \n",
       "1402       PMX     Metropolitan Airport  small_airport      US  US-MA   \n",
       "\n",
       "       municipality                             coordinates  \n",
       "440       Key Largo       -80.274803161621, 25.325399398804  \n",
       "594   Pilot Station                  -162.899994, 61.934601  \n",
       "673   Crested Butte                  -106.928341, 38.851918  \n",
       "1088   Johnson City  -98.62249755859999, 30.251800537100003  \n",
       "1402         Palmer  -72.31140136719999, 42.223300933800004  "
      ]
     },
     "execution_count": 26,
     "metadata": {},
     "output_type": "execute_result"
    }
   ],
   "source": [
    "dim_airport.head()"
   ]
  },
  {
   "cell_type": "code",
   "execution_count": 27,
   "metadata": {
    "editable": true
   },
   "outputs": [],
   "source": [
    "from pyspark.sql import SparkSession\n",
    "\n",
    "spark = SparkSession.builder.\\\n",
    "config(\"spark.jars.repositories\", \"https://repos.spark-packages.org/\").\\\n",
    "config(\"spark.jars.packages\", \"saurfang:spark-sas7bdat:2.0.0-s_2.11\").\\\n",
    "enableHiveSupport().getOrCreate()\n",
    "\n",
    "df_spark = spark.read.format('com.github.saurfang.sas.spark').load('../../data/18-83510-I94-Data-2016/i94_apr16_sub.sas7bdat')\n"
   ]
  },
  {
   "cell_type": "code",
   "execution_count": 28,
   "metadata": {
    "editable": true
   },
   "outputs": [],
   "source": [
    "#write to parquet\n",
    "df_spark.write.parquet(\"sas_data\", mode=\"overwrite\")\n",
    "df_spark=spark.read.parquet(\"sas_data\")"
   ]
  },
  {
   "cell_type": "code",
   "execution_count": 29,
   "metadata": {
    "editable": true
   },
   "outputs": [
    {
     "data": {
      "text/plain": [
       "[Row(cicid=5748517.0, i94yr=2016.0, i94mon=4.0, i94cit=245.0, i94res=438.0, i94port='LOS', arrdate=20574.0, i94mode=1.0, i94addr='CA', depdate=20582.0, i94bir=40.0, i94visa=1.0, count=1.0, dtadfile='20160430', visapost='SYD', occup=None, entdepa='G', entdepd='O', entdepu=None, matflag='M', biryear=1976.0, dtaddto='10292016', gender='F', insnum=None, airline='QF', admnum=94953870030.0, fltno='00011', visatype='B1')]"
      ]
     },
     "execution_count": 29,
     "metadata": {},
     "output_type": "execute_result"
    }
   ],
   "source": [
    "df_spark.head(1)"
   ]
  },
  {
   "cell_type": "markdown",
   "metadata": {
    "editable": true
   },
   "source": [
    "#### Cleaning Steps\n",
    "Document steps necessary to clean the data"
   ]
  },
  {
   "cell_type": "markdown",
   "metadata": {
    "editable": true
   },
   "source": [
    "1.Immigration Data:\n",
    "* get the corresponding code and name/detail for country, visa, port(city/state) information from I94_SAS_Labels_Descriptions.SAS"
   ]
  },
  {
   "cell_type": "code",
   "execution_count": 30,
   "metadata": {
    "editable": true
   },
   "outputs": [],
   "source": [
    "with open(\"I94_SAS_Labels_Descriptions.SAS\") as f:\n",
    "    contents = f.readlines()"
   ]
  },
  {
   "cell_type": "code",
   "execution_count": 31,
   "metadata": {
    "editable": true
   },
   "outputs": [],
   "source": [
    "country_code = {}\n",
    "for countries in contents[9:298]:\n",
    "    pair = countries.split('=')\n",
    "    code, country = pair[0].strip(), pair[1].strip().strip(\"'\")\n",
    "    country_code[code] = country"
   ]
  },
  {
   "cell_type": "code",
   "execution_count": 32,
   "metadata": {
    "editable": true
   },
   "outputs": [
    {
     "data": {
      "text/html": [
       "<div>\n",
       "<style scoped>\n",
       "    .dataframe tbody tr th:only-of-type {\n",
       "        vertical-align: middle;\n",
       "    }\n",
       "\n",
       "    .dataframe tbody tr th {\n",
       "        vertical-align: top;\n",
       "    }\n",
       "\n",
       "    .dataframe thead th {\n",
       "        text-align: right;\n",
       "    }\n",
       "</style>\n",
       "<table border=\"1\" class=\"dataframe\">\n",
       "  <thead>\n",
       "    <tr style=\"text-align: right;\">\n",
       "      <th></th>\n",
       "      <th>code</th>\n",
       "      <th>country</th>\n",
       "    </tr>\n",
       "  </thead>\n",
       "  <tbody>\n",
       "    <tr>\n",
       "      <th>0</th>\n",
       "      <td>582</td>\n",
       "      <td>MEXICO Air Sea, and Not Reported (I-94, no lan...</td>\n",
       "    </tr>\n",
       "    <tr>\n",
       "      <th>1</th>\n",
       "      <td>236</td>\n",
       "      <td>AFGHANISTAN</td>\n",
       "    </tr>\n",
       "    <tr>\n",
       "      <th>2</th>\n",
       "      <td>101</td>\n",
       "      <td>ALBANIA</td>\n",
       "    </tr>\n",
       "    <tr>\n",
       "      <th>3</th>\n",
       "      <td>316</td>\n",
       "      <td>ALGERIA</td>\n",
       "    </tr>\n",
       "    <tr>\n",
       "      <th>4</th>\n",
       "      <td>102</td>\n",
       "      <td>ANDORRA</td>\n",
       "    </tr>\n",
       "  </tbody>\n",
       "</table>\n",
       "</div>"
      ],
      "text/plain": [
       "  code                                            country\n",
       "0  582  MEXICO Air Sea, and Not Reported (I-94, no lan...\n",
       "1  236                                        AFGHANISTAN\n",
       "2  101                                            ALBANIA\n",
       "3  316                                            ALGERIA\n",
       "4  102                                            ANDORRA"
      ]
     },
     "execution_count": 32,
     "metadata": {},
     "output_type": "execute_result"
    }
   ],
   "source": [
    "df_country_code = pd.DataFrame(list(country_code.items()), columns=['code', 'country'])\n",
    "df_country_code.head()"
   ]
  },
  {
   "cell_type": "code",
   "execution_count": 33,
   "metadata": {
    "editable": true
   },
   "outputs": [],
   "source": [
    "port_code = {}\n",
    "for ports in contents[302:962]:\n",
    "    pair = ports.split('=')\n",
    "    code, port = pair[0].strip().strip(\"''\"), pair[1].strip('\\t').strip().strip(\"'\")\n",
    "    port_code[code] = port"
   ]
  },
  {
   "cell_type": "code",
   "execution_count": 34,
   "metadata": {
    "editable": true
   },
   "outputs": [
    {
     "data": {
      "text/html": [
       "<div>\n",
       "<style scoped>\n",
       "    .dataframe tbody tr th:only-of-type {\n",
       "        vertical-align: middle;\n",
       "    }\n",
       "\n",
       "    .dataframe tbody tr th {\n",
       "        vertical-align: top;\n",
       "    }\n",
       "\n",
       "    .dataframe thead th {\n",
       "        text-align: right;\n",
       "    }\n",
       "</style>\n",
       "<table border=\"1\" class=\"dataframe\">\n",
       "  <thead>\n",
       "    <tr style=\"text-align: right;\">\n",
       "      <th></th>\n",
       "      <th>code</th>\n",
       "      <th>port</th>\n",
       "    </tr>\n",
       "  </thead>\n",
       "  <tbody>\n",
       "    <tr>\n",
       "      <th>0</th>\n",
       "      <td>ALC</td>\n",
       "      <td>ALCAN, AK</td>\n",
       "    </tr>\n",
       "    <tr>\n",
       "      <th>1</th>\n",
       "      <td>ANC</td>\n",
       "      <td>ANCHORAGE, AK</td>\n",
       "    </tr>\n",
       "    <tr>\n",
       "      <th>2</th>\n",
       "      <td>BAR</td>\n",
       "      <td>BAKER AAF - BAKER ISLAND, AK</td>\n",
       "    </tr>\n",
       "    <tr>\n",
       "      <th>3</th>\n",
       "      <td>DAC</td>\n",
       "      <td>DALTONS CACHE, AK</td>\n",
       "    </tr>\n",
       "    <tr>\n",
       "      <th>4</th>\n",
       "      <td>PIZ</td>\n",
       "      <td>DEW STATION PT LAY DEW, AK</td>\n",
       "    </tr>\n",
       "  </tbody>\n",
       "</table>\n",
       "</div>"
      ],
      "text/plain": [
       "  code                          port\n",
       "0  ALC        ALCAN, AK             \n",
       "1  ANC        ANCHORAGE, AK         \n",
       "2  BAR  BAKER AAF - BAKER ISLAND, AK\n",
       "3  DAC        DALTONS CACHE, AK     \n",
       "4  PIZ    DEW STATION PT LAY DEW, AK"
      ]
     },
     "execution_count": 34,
     "metadata": {},
     "output_type": "execute_result"
    }
   ],
   "source": [
    "df_port_code = pd.DataFrame(list(port_code.items()), columns=['code', 'port'])\n",
    "df_port_code.head()"
   ]
  },
  {
   "cell_type": "code",
   "execution_count": 35,
   "metadata": {
    "editable": true
   },
   "outputs": [],
   "source": [
    "state_code = {}\n",
    "for states in contents[981:1036]:\n",
    "    pair = states.split('=')\n",
    "    code, state = pair[0].strip().strip(\"''\"), pair[1].strip('\\t').strip().strip(\"'\")\n",
    "    state_code[code] = state"
   ]
  },
  {
   "cell_type": "code",
   "execution_count": 36,
   "metadata": {
    "editable": true
   },
   "outputs": [
    {
     "data": {
      "text/html": [
       "<div>\n",
       "<style scoped>\n",
       "    .dataframe tbody tr th:only-of-type {\n",
       "        vertical-align: middle;\n",
       "    }\n",
       "\n",
       "    .dataframe tbody tr th {\n",
       "        vertical-align: top;\n",
       "    }\n",
       "\n",
       "    .dataframe thead th {\n",
       "        text-align: right;\n",
       "    }\n",
       "</style>\n",
       "<table border=\"1\" class=\"dataframe\">\n",
       "  <thead>\n",
       "    <tr style=\"text-align: right;\">\n",
       "      <th></th>\n",
       "      <th>code</th>\n",
       "      <th>state</th>\n",
       "    </tr>\n",
       "  </thead>\n",
       "  <tbody>\n",
       "    <tr>\n",
       "      <th>0</th>\n",
       "      <td>AL</td>\n",
       "      <td>ALABAMA</td>\n",
       "    </tr>\n",
       "    <tr>\n",
       "      <th>1</th>\n",
       "      <td>AK</td>\n",
       "      <td>ALASKA</td>\n",
       "    </tr>\n",
       "    <tr>\n",
       "      <th>2</th>\n",
       "      <td>AZ</td>\n",
       "      <td>ARIZONA</td>\n",
       "    </tr>\n",
       "    <tr>\n",
       "      <th>3</th>\n",
       "      <td>AR</td>\n",
       "      <td>ARKANSAS</td>\n",
       "    </tr>\n",
       "    <tr>\n",
       "      <th>4</th>\n",
       "      <td>CA</td>\n",
       "      <td>CALIFORNIA</td>\n",
       "    </tr>\n",
       "  </tbody>\n",
       "</table>\n",
       "</div>"
      ],
      "text/plain": [
       "  code       state\n",
       "0   AL     ALABAMA\n",
       "1   AK      ALASKA\n",
       "2   AZ     ARIZONA\n",
       "3   AR    ARKANSAS\n",
       "4   CA  CALIFORNIA"
      ]
     },
     "execution_count": 36,
     "metadata": {},
     "output_type": "execute_result"
    }
   ],
   "source": [
    "df_state_code = pd.DataFrame(list(state_code.items()), columns=['code', 'state'])\n",
    "df_state_code.head()"
   ]
  },
  {
   "cell_type": "code",
   "execution_count": 37,
   "metadata": {
    "editable": true
   },
   "outputs": [],
   "source": [
    "visa_code = {}\n",
    "for visas in contents[1046:1049]:\n",
    "    pair = visas.split('=')\n",
    "    code, visa = pair[0].strip().strip(\"''\"), pair[1].strip().strip(\"'\")\n",
    "    visa_code[code] = visa\n"
   ]
  },
  {
   "cell_type": "code",
   "execution_count": 38,
   "metadata": {
    "editable": true
   },
   "outputs": [
    {
     "data": {
      "text/html": [
       "<div>\n",
       "<style scoped>\n",
       "    .dataframe tbody tr th:only-of-type {\n",
       "        vertical-align: middle;\n",
       "    }\n",
       "\n",
       "    .dataframe tbody tr th {\n",
       "        vertical-align: top;\n",
       "    }\n",
       "\n",
       "    .dataframe thead th {\n",
       "        text-align: right;\n",
       "    }\n",
       "</style>\n",
       "<table border=\"1\" class=\"dataframe\">\n",
       "  <thead>\n",
       "    <tr style=\"text-align: right;\">\n",
       "      <th></th>\n",
       "      <th>code</th>\n",
       "      <th>visa</th>\n",
       "    </tr>\n",
       "  </thead>\n",
       "  <tbody>\n",
       "    <tr>\n",
       "      <th>0</th>\n",
       "      <td>1</td>\n",
       "      <td>Business</td>\n",
       "    </tr>\n",
       "    <tr>\n",
       "      <th>1</th>\n",
       "      <td>2</td>\n",
       "      <td>Pleasure</td>\n",
       "    </tr>\n",
       "    <tr>\n",
       "      <th>2</th>\n",
       "      <td>3</td>\n",
       "      <td>Student</td>\n",
       "    </tr>\n",
       "  </tbody>\n",
       "</table>\n",
       "</div>"
      ],
      "text/plain": [
       "  code      visa\n",
       "0    1  Business\n",
       "1    2  Pleasure\n",
       "2    3   Student"
      ]
     },
     "execution_count": 38,
     "metadata": {},
     "output_type": "execute_result"
    }
   ],
   "source": [
    "df_visa_code = pd.DataFrame(list(visa_code.items()), columns=['code', 'visa'])\n",
    "df_visa_code"
   ]
  },
  {
   "cell_type": "code",
   "execution_count": 39,
   "metadata": {
    "editable": true
   },
   "outputs": [],
   "source": [
    "travel_code = {}\n",
    "for travels in contents[972:976]:\n",
    "    pair = travels.split('=')\n",
    "    code, travel = pair[0].strip().strip(\"''\"), pair[1].strip('\\n').strip(\";\").strip().strip(\"''\")\n",
    "    travel_code[code] = travel\n"
   ]
  },
  {
   "cell_type": "code",
   "execution_count": 40,
   "metadata": {
    "editable": true
   },
   "outputs": [
    {
     "data": {
      "text/html": [
       "<div>\n",
       "<style scoped>\n",
       "    .dataframe tbody tr th:only-of-type {\n",
       "        vertical-align: middle;\n",
       "    }\n",
       "\n",
       "    .dataframe tbody tr th {\n",
       "        vertical-align: top;\n",
       "    }\n",
       "\n",
       "    .dataframe thead th {\n",
       "        text-align: right;\n",
       "    }\n",
       "</style>\n",
       "<table border=\"1\" class=\"dataframe\">\n",
       "  <thead>\n",
       "    <tr style=\"text-align: right;\">\n",
       "      <th></th>\n",
       "      <th>code</th>\n",
       "      <th>travel</th>\n",
       "    </tr>\n",
       "  </thead>\n",
       "  <tbody>\n",
       "    <tr>\n",
       "      <th>0</th>\n",
       "      <td>1</td>\n",
       "      <td>Air</td>\n",
       "    </tr>\n",
       "    <tr>\n",
       "      <th>1</th>\n",
       "      <td>2</td>\n",
       "      <td>Sea</td>\n",
       "    </tr>\n",
       "    <tr>\n",
       "      <th>2</th>\n",
       "      <td>3</td>\n",
       "      <td>Land</td>\n",
       "    </tr>\n",
       "    <tr>\n",
       "      <th>3</th>\n",
       "      <td>9</td>\n",
       "      <td>Not reported</td>\n",
       "    </tr>\n",
       "  </tbody>\n",
       "</table>\n",
       "</div>"
      ],
      "text/plain": [
       "  code        travel\n",
       "0    1           Air\n",
       "1    2           Sea\n",
       "2    3          Land\n",
       "3    9  Not reported"
      ]
     },
     "execution_count": 40,
     "metadata": {},
     "output_type": "execute_result"
    }
   ],
   "source": [
    "df_travel_code = pd.DataFrame(list(travel_code.items()), columns=['code', 'travel'])\n",
    "df_travel_code"
   ]
  },
  {
   "cell_type": "markdown",
   "metadata": {
    "editable": true
   },
   "source": [
    "* Transform arrive_date, departure_date in immigration data from SAS time format to pandad datetime format"
   ]
  },
  {
   "cell_type": "code",
   "execution_count": 41,
   "metadata": {
    "editable": true
   },
   "outputs": [],
   "source": [
    "def process_SAS_date(date):\n",
    "    return pd.to_timedelta(date, unit='D') + pd.Timestamp('1960-1-1')"
   ]
  },
  {
   "cell_type": "code",
   "execution_count": 42,
   "metadata": {
    "editable": true
   },
   "outputs": [
    {
     "name": "stderr",
     "output_type": "stream",
     "text": [
      "/opt/conda/lib/python3.6/site-packages/ipykernel_launcher.py:1: SettingWithCopyWarning: \n",
      "A value is trying to be set on a copy of a slice from a DataFrame.\n",
      "Try using .loc[row_indexer,col_indexer] = value instead\n",
      "\n",
      "See the caveats in the documentation: http://pandas.pydata.org/pandas-docs/stable/indexing.html#indexing-view-versus-copy\n",
      "  \"\"\"Entry point for launching an IPython kernel.\n",
      "/opt/conda/lib/python3.6/site-packages/ipykernel_launcher.py:2: SettingWithCopyWarning: \n",
      "A value is trying to be set on a copy of a slice from a DataFrame.\n",
      "Try using .loc[row_indexer,col_indexer] = value instead\n",
      "\n",
      "See the caveats in the documentation: http://pandas.pydata.org/pandas-docs/stable/indexing.html#indexing-view-versus-copy\n",
      "  \n"
     ]
    }
   ],
   "source": [
    "fact_immi[\"arrive_date\"] = process_SAS_date(fact_immi[\"arrive_date\"])\n",
    "fact_immi[\"departure_date\"] = process_SAS_date(fact_immi[\"departure_date\"])"
   ]
  },
  {
   "cell_type": "code",
   "execution_count": 43,
   "metadata": {
    "editable": true
   },
   "outputs": [
    {
     "data": {
      "text/html": [
       "<div>\n",
       "<style scoped>\n",
       "    .dataframe tbody tr th:only-of-type {\n",
       "        vertical-align: middle;\n",
       "    }\n",
       "\n",
       "    .dataframe tbody tr th {\n",
       "        vertical-align: top;\n",
       "    }\n",
       "\n",
       "    .dataframe thead th {\n",
       "        text-align: right;\n",
       "    }\n",
       "</style>\n",
       "<table border=\"1\" class=\"dataframe\">\n",
       "  <thead>\n",
       "    <tr style=\"text-align: right;\">\n",
       "      <th></th>\n",
       "      <th>cic_id</th>\n",
       "      <th>year</th>\n",
       "      <th>month</th>\n",
       "      <th>port_code</th>\n",
       "      <th>state_code</th>\n",
       "      <th>arrive_date</th>\n",
       "      <th>departure_date</th>\n",
       "      <th>travel_code</th>\n",
       "      <th>visa_code</th>\n",
       "      <th>country</th>\n",
       "    </tr>\n",
       "  </thead>\n",
       "  <tbody>\n",
       "    <tr>\n",
       "      <th>0</th>\n",
       "      <td>4084316.0</td>\n",
       "      <td>2016.0</td>\n",
       "      <td>4.0</td>\n",
       "      <td>HHW</td>\n",
       "      <td>HI</td>\n",
       "      <td>2016-04-22</td>\n",
       "      <td>2016-04-29</td>\n",
       "      <td>1.0</td>\n",
       "      <td>2.0</td>\n",
       "      <td>United States</td>\n",
       "    </tr>\n",
       "    <tr>\n",
       "      <th>1</th>\n",
       "      <td>4422636.0</td>\n",
       "      <td>2016.0</td>\n",
       "      <td>4.0</td>\n",
       "      <td>MCA</td>\n",
       "      <td>TX</td>\n",
       "      <td>2016-04-23</td>\n",
       "      <td>2016-04-24</td>\n",
       "      <td>1.0</td>\n",
       "      <td>2.0</td>\n",
       "      <td>United States</td>\n",
       "    </tr>\n",
       "    <tr>\n",
       "      <th>2</th>\n",
       "      <td>1195600.0</td>\n",
       "      <td>2016.0</td>\n",
       "      <td>4.0</td>\n",
       "      <td>OGG</td>\n",
       "      <td>FL</td>\n",
       "      <td>2016-04-07</td>\n",
       "      <td>2016-04-27</td>\n",
       "      <td>1.0</td>\n",
       "      <td>2.0</td>\n",
       "      <td>United States</td>\n",
       "    </tr>\n",
       "    <tr>\n",
       "      <th>3</th>\n",
       "      <td>5291768.0</td>\n",
       "      <td>2016.0</td>\n",
       "      <td>4.0</td>\n",
       "      <td>LOS</td>\n",
       "      <td>CA</td>\n",
       "      <td>2016-04-28</td>\n",
       "      <td>2016-05-07</td>\n",
       "      <td>1.0</td>\n",
       "      <td>2.0</td>\n",
       "      <td>United States</td>\n",
       "    </tr>\n",
       "    <tr>\n",
       "      <th>4</th>\n",
       "      <td>985523.0</td>\n",
       "      <td>2016.0</td>\n",
       "      <td>4.0</td>\n",
       "      <td>CHM</td>\n",
       "      <td>NY</td>\n",
       "      <td>2016-04-06</td>\n",
       "      <td>2016-04-09</td>\n",
       "      <td>3.0</td>\n",
       "      <td>2.0</td>\n",
       "      <td>United States</td>\n",
       "    </tr>\n",
       "  </tbody>\n",
       "</table>\n",
       "</div>"
      ],
      "text/plain": [
       "      cic_id    year  month port_code state_code arrive_date departure_date  \\\n",
       "0  4084316.0  2016.0    4.0       HHW         HI  2016-04-22     2016-04-29   \n",
       "1  4422636.0  2016.0    4.0       MCA         TX  2016-04-23     2016-04-24   \n",
       "2  1195600.0  2016.0    4.0       OGG         FL  2016-04-07     2016-04-27   \n",
       "3  5291768.0  2016.0    4.0       LOS         CA  2016-04-28     2016-05-07   \n",
       "4   985523.0  2016.0    4.0       CHM         NY  2016-04-06     2016-04-09   \n",
       "\n",
       "   travel_code  visa_code        country  \n",
       "0          1.0        2.0  United States  \n",
       "1          1.0        2.0  United States  \n",
       "2          1.0        2.0  United States  \n",
       "3          1.0        2.0  United States  \n",
       "4          3.0        2.0  United States  "
      ]
     },
     "execution_count": 43,
     "metadata": {},
     "output_type": "execute_result"
    }
   ],
   "source": [
    "fact_immi.head()"
   ]
  },
  {
   "cell_type": "markdown",
   "metadata": {
    "editable": true
   },
   "source": [
    "2.Demographic Data Set\n",
    "* Upper Case city so it could match the port_code dataframe"
   ]
  },
  {
   "cell_type": "code",
   "execution_count": 44,
   "metadata": {
    "editable": true
   },
   "outputs": [
    {
     "name": "stderr",
     "output_type": "stream",
     "text": [
      "/opt/conda/lib/python3.6/site-packages/ipykernel_launcher.py:1: SettingWithCopyWarning: \n",
      "A value is trying to be set on a copy of a slice from a DataFrame.\n",
      "Try using .loc[row_indexer,col_indexer] = value instead\n",
      "\n",
      "See the caveats in the documentation: http://pandas.pydata.org/pandas-docs/stable/indexing.html#indexing-view-versus-copy\n",
      "  \"\"\"Entry point for launching an IPython kernel.\n"
     ]
    }
   ],
   "source": [
    "dim_demographic_population[\"city\"] = dim_demographic_population[\"city\"].apply(lambda x: x.upper())"
   ]
  },
  {
   "cell_type": "code",
   "execution_count": 45,
   "metadata": {
    "editable": true
   },
   "outputs": [
    {
     "name": "stderr",
     "output_type": "stream",
     "text": [
      "/opt/conda/lib/python3.6/site-packages/pandas/core/indexing.py:543: SettingWithCopyWarning: \n",
      "A value is trying to be set on a copy of a slice from a DataFrame.\n",
      "Try using .loc[row_indexer,col_indexer] = value instead\n",
      "\n",
      "See the caveats in the documentation: http://pandas.pydata.org/pandas-docs/stable/indexing.html#indexing-view-versus-copy\n",
      "  self.obj[item] = s\n"
     ]
    }
   ],
   "source": [
    "dim_demographic_statistics.loc[:,\"city\"] = dim_demographic_statistics.loc[:,\"city\"].apply(lambda x: x.upper())"
   ]
  },
  {
   "cell_type": "code",
   "execution_count": 46,
   "metadata": {
    "editable": true
   },
   "outputs": [
    {
     "data": {
      "text/html": [
       "<div>\n",
       "<style scoped>\n",
       "    .dataframe tbody tr th:only-of-type {\n",
       "        vertical-align: middle;\n",
       "    }\n",
       "\n",
       "    .dataframe tbody tr th {\n",
       "        vertical-align: top;\n",
       "    }\n",
       "\n",
       "    .dataframe thead th {\n",
       "        text-align: right;\n",
       "    }\n",
       "</style>\n",
       "<table border=\"1\" class=\"dataframe\">\n",
       "  <thead>\n",
       "    <tr style=\"text-align: right;\">\n",
       "      <th></th>\n",
       "      <th>city</th>\n",
       "      <th>state_code</th>\n",
       "      <th>male_pop</th>\n",
       "      <th>female_pop</th>\n",
       "      <th>num_vetarans</th>\n",
       "      <th>foreign_born</th>\n",
       "      <th>race</th>\n",
       "    </tr>\n",
       "  </thead>\n",
       "  <tbody>\n",
       "    <tr>\n",
       "      <th>0</th>\n",
       "      <td>SILVER SPRING</td>\n",
       "      <td>MD</td>\n",
       "      <td>40601.0</td>\n",
       "      <td>41862.0</td>\n",
       "      <td>1562.0</td>\n",
       "      <td>30908.0</td>\n",
       "      <td>Hispanic or Latino</td>\n",
       "    </tr>\n",
       "    <tr>\n",
       "      <th>1</th>\n",
       "      <td>QUINCY</td>\n",
       "      <td>MA</td>\n",
       "      <td>44129.0</td>\n",
       "      <td>49500.0</td>\n",
       "      <td>4147.0</td>\n",
       "      <td>32935.0</td>\n",
       "      <td>White</td>\n",
       "    </tr>\n",
       "    <tr>\n",
       "      <th>2</th>\n",
       "      <td>HOOVER</td>\n",
       "      <td>AL</td>\n",
       "      <td>38040.0</td>\n",
       "      <td>46799.0</td>\n",
       "      <td>4819.0</td>\n",
       "      <td>8229.0</td>\n",
       "      <td>Asian</td>\n",
       "    </tr>\n",
       "    <tr>\n",
       "      <th>3</th>\n",
       "      <td>RANCHO CUCAMONGA</td>\n",
       "      <td>CA</td>\n",
       "      <td>88127.0</td>\n",
       "      <td>87105.0</td>\n",
       "      <td>5821.0</td>\n",
       "      <td>33878.0</td>\n",
       "      <td>Black or African-American</td>\n",
       "    </tr>\n",
       "    <tr>\n",
       "      <th>4</th>\n",
       "      <td>NEWARK</td>\n",
       "      <td>NJ</td>\n",
       "      <td>138040.0</td>\n",
       "      <td>143873.0</td>\n",
       "      <td>5829.0</td>\n",
       "      <td>86253.0</td>\n",
       "      <td>White</td>\n",
       "    </tr>\n",
       "  </tbody>\n",
       "</table>\n",
       "</div>"
      ],
      "text/plain": [
       "               city state_code  male_pop  female_pop  num_vetarans  \\\n",
       "0     SILVER SPRING         MD   40601.0     41862.0        1562.0   \n",
       "1            QUINCY         MA   44129.0     49500.0        4147.0   \n",
       "2            HOOVER         AL   38040.0     46799.0        4819.0   \n",
       "3  RANCHO CUCAMONGA         CA   88127.0     87105.0        5821.0   \n",
       "4            NEWARK         NJ  138040.0    143873.0        5829.0   \n",
       "\n",
       "   foreign_born                       race  \n",
       "0       30908.0         Hispanic or Latino  \n",
       "1       32935.0                      White  \n",
       "2        8229.0                      Asian  \n",
       "3       33878.0  Black or African-American  \n",
       "4       86253.0                      White  "
      ]
     },
     "execution_count": 46,
     "metadata": {},
     "output_type": "execute_result"
    }
   ],
   "source": [
    "dim_demographic_population.head()"
   ]
  },
  {
   "cell_type": "code",
   "execution_count": 47,
   "metadata": {
    "editable": true
   },
   "outputs": [
    {
     "data": {
      "text/html": [
       "<div>\n",
       "<style scoped>\n",
       "    .dataframe tbody tr th:only-of-type {\n",
       "        vertical-align: middle;\n",
       "    }\n",
       "\n",
       "    .dataframe tbody tr th {\n",
       "        vertical-align: top;\n",
       "    }\n",
       "\n",
       "    .dataframe thead th {\n",
       "        text-align: right;\n",
       "    }\n",
       "</style>\n",
       "<table border=\"1\" class=\"dataframe\">\n",
       "  <thead>\n",
       "    <tr style=\"text-align: right;\">\n",
       "      <th></th>\n",
       "      <th>city</th>\n",
       "      <th>state_code</th>\n",
       "      <th>median_age</th>\n",
       "      <th>avg_household_size</th>\n",
       "    </tr>\n",
       "  </thead>\n",
       "  <tbody>\n",
       "    <tr>\n",
       "      <th>0</th>\n",
       "      <td>SILVER SPRING</td>\n",
       "      <td>MD</td>\n",
       "      <td>33.8</td>\n",
       "      <td>2.60</td>\n",
       "    </tr>\n",
       "    <tr>\n",
       "      <th>1</th>\n",
       "      <td>QUINCY</td>\n",
       "      <td>MA</td>\n",
       "      <td>41.0</td>\n",
       "      <td>2.39</td>\n",
       "    </tr>\n",
       "    <tr>\n",
       "      <th>2</th>\n",
       "      <td>HOOVER</td>\n",
       "      <td>AL</td>\n",
       "      <td>38.5</td>\n",
       "      <td>2.58</td>\n",
       "    </tr>\n",
       "    <tr>\n",
       "      <th>3</th>\n",
       "      <td>RANCHO CUCAMONGA</td>\n",
       "      <td>CA</td>\n",
       "      <td>34.5</td>\n",
       "      <td>3.18</td>\n",
       "    </tr>\n",
       "    <tr>\n",
       "      <th>4</th>\n",
       "      <td>NEWARK</td>\n",
       "      <td>NJ</td>\n",
       "      <td>34.6</td>\n",
       "      <td>2.73</td>\n",
       "    </tr>\n",
       "  </tbody>\n",
       "</table>\n",
       "</div>"
      ],
      "text/plain": [
       "               city state_code  median_age  avg_household_size\n",
       "0     SILVER SPRING         MD        33.8                2.60\n",
       "1            QUINCY         MA        41.0                2.39\n",
       "2            HOOVER         AL        38.5                2.58\n",
       "3  RANCHO CUCAMONGA         CA        34.5                3.18\n",
       "4            NEWARK         NJ        34.6                2.73"
      ]
     },
     "execution_count": 47,
     "metadata": {},
     "output_type": "execute_result"
    }
   ],
   "source": [
    "dim_demographic_statistics.head()"
   ]
  },
  {
   "cell_type": "markdown",
   "metadata": {
    "editable": true
   },
   "source": [
    "* Convert the city with corresponding port code"
   ]
  },
  {
   "cell_type": "code",
   "execution_count": 48,
   "metadata": {
    "editable": true
   },
   "outputs": [],
   "source": [
    "port_code_reverse = {}\n",
    "for ports in contents[302:962]:\n",
    "    pair = ports.split('=')\n",
    "    port, code = pair[1].strip('\\t').strip().strip(\"'\").split(\",\")[0], pair[0].strip().strip(\"''\")\n",
    "    port_code_reverse[port] = code"
   ]
  },
  {
   "cell_type": "code",
   "execution_count": 49,
   "metadata": {
    "editable": true
   },
   "outputs": [
    {
     "data": {
      "text/html": [
       "<div>\n",
       "<style scoped>\n",
       "    .dataframe tbody tr th:only-of-type {\n",
       "        vertical-align: middle;\n",
       "    }\n",
       "\n",
       "    .dataframe tbody tr th {\n",
       "        vertical-align: top;\n",
       "    }\n",
       "\n",
       "    .dataframe thead th {\n",
       "        text-align: right;\n",
       "    }\n",
       "</style>\n",
       "<table border=\"1\" class=\"dataframe\">\n",
       "  <thead>\n",
       "    <tr style=\"text-align: right;\">\n",
       "      <th></th>\n",
       "      <th>port</th>\n",
       "      <th>code</th>\n",
       "    </tr>\n",
       "  </thead>\n",
       "  <tbody>\n",
       "    <tr>\n",
       "      <th>0</th>\n",
       "      <td>ALCAN</td>\n",
       "      <td>ALC</td>\n",
       "    </tr>\n",
       "    <tr>\n",
       "      <th>1</th>\n",
       "      <td>ANCHORAGE</td>\n",
       "      <td>ANC</td>\n",
       "    </tr>\n",
       "    <tr>\n",
       "      <th>2</th>\n",
       "      <td>BAKER AAF - BAKER ISLAND</td>\n",
       "      <td>BAR</td>\n",
       "    </tr>\n",
       "    <tr>\n",
       "      <th>3</th>\n",
       "      <td>DALTONS CACHE</td>\n",
       "      <td>DAC</td>\n",
       "    </tr>\n",
       "    <tr>\n",
       "      <th>4</th>\n",
       "      <td>DEW STATION PT LAY DEW</td>\n",
       "      <td>PIZ</td>\n",
       "    </tr>\n",
       "  </tbody>\n",
       "</table>\n",
       "</div>"
      ],
      "text/plain": [
       "                       port code\n",
       "0                     ALCAN  ALC\n",
       "1                 ANCHORAGE  ANC\n",
       "2  BAKER AAF - BAKER ISLAND  BAR\n",
       "3             DALTONS CACHE  DAC\n",
       "4    DEW STATION PT LAY DEW  PIZ"
      ]
     },
     "execution_count": 49,
     "metadata": {},
     "output_type": "execute_result"
    }
   ],
   "source": [
    "df_port_code_reverse = pd.DataFrame(list(port_code_reverse.items()), columns=['port', 'code'])\n",
    "df_port_code_reverse.head()"
   ]
  },
  {
   "cell_type": "code",
   "execution_count": 50,
   "metadata": {
    "editable": true
   },
   "outputs": [
    {
     "name": "stderr",
     "output_type": "stream",
     "text": [
      "/opt/conda/lib/python3.6/site-packages/ipykernel_launcher.py:1: SettingWithCopyWarning: \n",
      "A value is trying to be set on a copy of a slice from a DataFrame.\n",
      "Try using .loc[row_indexer,col_indexer] = value instead\n",
      "\n",
      "See the caveats in the documentation: http://pandas.pydata.org/pandas-docs/stable/indexing.html#indexing-view-versus-copy\n",
      "  \"\"\"Entry point for launching an IPython kernel.\n"
     ]
    }
   ],
   "source": [
    "dim_demographic_population[\"city_code\"] = dim_demographic_population[\"city\"].apply(lambda x:  port_code_reverse[x] if x in port_code_reverse else x)"
   ]
  },
  {
   "cell_type": "code",
   "execution_count": 51,
   "metadata": {
    "editable": true
   },
   "outputs": [
    {
     "data": {
      "text/html": [
       "<div>\n",
       "<style scoped>\n",
       "    .dataframe tbody tr th:only-of-type {\n",
       "        vertical-align: middle;\n",
       "    }\n",
       "\n",
       "    .dataframe tbody tr th {\n",
       "        vertical-align: top;\n",
       "    }\n",
       "\n",
       "    .dataframe thead th {\n",
       "        text-align: right;\n",
       "    }\n",
       "</style>\n",
       "<table border=\"1\" class=\"dataframe\">\n",
       "  <thead>\n",
       "    <tr style=\"text-align: right;\">\n",
       "      <th></th>\n",
       "      <th>city</th>\n",
       "      <th>state_code</th>\n",
       "      <th>male_pop</th>\n",
       "      <th>female_pop</th>\n",
       "      <th>num_vetarans</th>\n",
       "      <th>foreign_born</th>\n",
       "      <th>race</th>\n",
       "      <th>city_code</th>\n",
       "    </tr>\n",
       "  </thead>\n",
       "  <tbody>\n",
       "    <tr>\n",
       "      <th>0</th>\n",
       "      <td>SILVER SPRING</td>\n",
       "      <td>MD</td>\n",
       "      <td>40601.0</td>\n",
       "      <td>41862.0</td>\n",
       "      <td>1562.0</td>\n",
       "      <td>30908.0</td>\n",
       "      <td>Hispanic or Latino</td>\n",
       "      <td>SILVER SPRING</td>\n",
       "    </tr>\n",
       "    <tr>\n",
       "      <th>1</th>\n",
       "      <td>QUINCY</td>\n",
       "      <td>MA</td>\n",
       "      <td>44129.0</td>\n",
       "      <td>49500.0</td>\n",
       "      <td>4147.0</td>\n",
       "      <td>32935.0</td>\n",
       "      <td>White</td>\n",
       "      <td>QUINCY</td>\n",
       "    </tr>\n",
       "    <tr>\n",
       "      <th>2</th>\n",
       "      <td>HOOVER</td>\n",
       "      <td>AL</td>\n",
       "      <td>38040.0</td>\n",
       "      <td>46799.0</td>\n",
       "      <td>4819.0</td>\n",
       "      <td>8229.0</td>\n",
       "      <td>Asian</td>\n",
       "      <td>HOOVER</td>\n",
       "    </tr>\n",
       "    <tr>\n",
       "      <th>3</th>\n",
       "      <td>RANCHO CUCAMONGA</td>\n",
       "      <td>CA</td>\n",
       "      <td>88127.0</td>\n",
       "      <td>87105.0</td>\n",
       "      <td>5821.0</td>\n",
       "      <td>33878.0</td>\n",
       "      <td>Black or African-American</td>\n",
       "      <td>RANCHO CUCAMONGA</td>\n",
       "    </tr>\n",
       "    <tr>\n",
       "      <th>4</th>\n",
       "      <td>NEWARK</td>\n",
       "      <td>NJ</td>\n",
       "      <td>138040.0</td>\n",
       "      <td>143873.0</td>\n",
       "      <td>5829.0</td>\n",
       "      <td>86253.0</td>\n",
       "      <td>White</td>\n",
       "      <td>NEWARK</td>\n",
       "    </tr>\n",
       "    <tr>\n",
       "      <th>5</th>\n",
       "      <td>PEORIA</td>\n",
       "      <td>IL</td>\n",
       "      <td>56229.0</td>\n",
       "      <td>62432.0</td>\n",
       "      <td>6634.0</td>\n",
       "      <td>7517.0</td>\n",
       "      <td>American Indian and Alaska Native</td>\n",
       "      <td>PEORIA</td>\n",
       "    </tr>\n",
       "    <tr>\n",
       "      <th>6</th>\n",
       "      <td>AVONDALE</td>\n",
       "      <td>AZ</td>\n",
       "      <td>38712.0</td>\n",
       "      <td>41971.0</td>\n",
       "      <td>4815.0</td>\n",
       "      <td>8355.0</td>\n",
       "      <td>Black or African-American</td>\n",
       "      <td>AVONDALE</td>\n",
       "    </tr>\n",
       "    <tr>\n",
       "      <th>7</th>\n",
       "      <td>WEST COVINA</td>\n",
       "      <td>CA</td>\n",
       "      <td>51629.0</td>\n",
       "      <td>56860.0</td>\n",
       "      <td>3800.0</td>\n",
       "      <td>37038.0</td>\n",
       "      <td>Asian</td>\n",
       "      <td>WEST COVINA</td>\n",
       "    </tr>\n",
       "    <tr>\n",
       "      <th>8</th>\n",
       "      <td>O'FALLON</td>\n",
       "      <td>MO</td>\n",
       "      <td>41762.0</td>\n",
       "      <td>43270.0</td>\n",
       "      <td>5783.0</td>\n",
       "      <td>3269.0</td>\n",
       "      <td>Hispanic or Latino</td>\n",
       "      <td>O'FALLON</td>\n",
       "    </tr>\n",
       "    <tr>\n",
       "      <th>9</th>\n",
       "      <td>HIGH POINT</td>\n",
       "      <td>NC</td>\n",
       "      <td>51751.0</td>\n",
       "      <td>58077.0</td>\n",
       "      <td>5204.0</td>\n",
       "      <td>16315.0</td>\n",
       "      <td>Asian</td>\n",
       "      <td>HIGH POINT</td>\n",
       "    </tr>\n",
       "    <tr>\n",
       "      <th>10</th>\n",
       "      <td>FOLSOM</td>\n",
       "      <td>CA</td>\n",
       "      <td>41051.0</td>\n",
       "      <td>35317.0</td>\n",
       "      <td>4187.0</td>\n",
       "      <td>13234.0</td>\n",
       "      <td>Hispanic or Latino</td>\n",
       "      <td>FOLSOM</td>\n",
       "    </tr>\n",
       "    <tr>\n",
       "      <th>11</th>\n",
       "      <td>FOLSOM</td>\n",
       "      <td>CA</td>\n",
       "      <td>41051.0</td>\n",
       "      <td>35317.0</td>\n",
       "      <td>4187.0</td>\n",
       "      <td>13234.0</td>\n",
       "      <td>American Indian and Alaska Native</td>\n",
       "      <td>FOLSOM</td>\n",
       "    </tr>\n",
       "    <tr>\n",
       "      <th>12</th>\n",
       "      <td>PHILADELPHIA</td>\n",
       "      <td>PA</td>\n",
       "      <td>741270.0</td>\n",
       "      <td>826172.0</td>\n",
       "      <td>61995.0</td>\n",
       "      <td>205339.0</td>\n",
       "      <td>Asian</td>\n",
       "      <td>PHI</td>\n",
       "    </tr>\n",
       "    <tr>\n",
       "      <th>13</th>\n",
       "      <td>WICHITA</td>\n",
       "      <td>KS</td>\n",
       "      <td>192354.0</td>\n",
       "      <td>197601.0</td>\n",
       "      <td>23978.0</td>\n",
       "      <td>40270.0</td>\n",
       "      <td>Hispanic or Latino</td>\n",
       "      <td>WICHITA</td>\n",
       "    </tr>\n",
       "    <tr>\n",
       "      <th>14</th>\n",
       "      <td>WICHITA</td>\n",
       "      <td>KS</td>\n",
       "      <td>192354.0</td>\n",
       "      <td>197601.0</td>\n",
       "      <td>23978.0</td>\n",
       "      <td>40270.0</td>\n",
       "      <td>American Indian and Alaska Native</td>\n",
       "      <td>WICHITA</td>\n",
       "    </tr>\n",
       "    <tr>\n",
       "      <th>15</th>\n",
       "      <td>FORT MYERS</td>\n",
       "      <td>FL</td>\n",
       "      <td>36850.0</td>\n",
       "      <td>37165.0</td>\n",
       "      <td>4312.0</td>\n",
       "      <td>15365.0</td>\n",
       "      <td>White</td>\n",
       "      <td>FMY</td>\n",
       "    </tr>\n",
       "    <tr>\n",
       "      <th>16</th>\n",
       "      <td>PITTSBURGH</td>\n",
       "      <td>PA</td>\n",
       "      <td>149690.0</td>\n",
       "      <td>154695.0</td>\n",
       "      <td>17728.0</td>\n",
       "      <td>28187.0</td>\n",
       "      <td>White</td>\n",
       "      <td>PITTSBURGH</td>\n",
       "    </tr>\n",
       "    <tr>\n",
       "      <th>17</th>\n",
       "      <td>LAREDO</td>\n",
       "      <td>TX</td>\n",
       "      <td>124305.0</td>\n",
       "      <td>131484.0</td>\n",
       "      <td>4921.0</td>\n",
       "      <td>68427.0</td>\n",
       "      <td>American Indian and Alaska Native</td>\n",
       "      <td>LAR</td>\n",
       "    </tr>\n",
       "    <tr>\n",
       "      <th>18</th>\n",
       "      <td>BERKELEY</td>\n",
       "      <td>CA</td>\n",
       "      <td>60142.0</td>\n",
       "      <td>60829.0</td>\n",
       "      <td>3736.0</td>\n",
       "      <td>25000.0</td>\n",
       "      <td>Asian</td>\n",
       "      <td>BERKELEY</td>\n",
       "    </tr>\n",
       "    <tr>\n",
       "      <th>19</th>\n",
       "      <td>SANTA CLARA</td>\n",
       "      <td>CA</td>\n",
       "      <td>63278.0</td>\n",
       "      <td>62938.0</td>\n",
       "      <td>4426.0</td>\n",
       "      <td>52281.0</td>\n",
       "      <td>White</td>\n",
       "      <td>SANTA CLARA</td>\n",
       "    </tr>\n",
       "  </tbody>\n",
       "</table>\n",
       "</div>"
      ],
      "text/plain": [
       "                city state_code  male_pop  female_pop  num_vetarans  \\\n",
       "0      SILVER SPRING         MD   40601.0     41862.0        1562.0   \n",
       "1             QUINCY         MA   44129.0     49500.0        4147.0   \n",
       "2             HOOVER         AL   38040.0     46799.0        4819.0   \n",
       "3   RANCHO CUCAMONGA         CA   88127.0     87105.0        5821.0   \n",
       "4             NEWARK         NJ  138040.0    143873.0        5829.0   \n",
       "5             PEORIA         IL   56229.0     62432.0        6634.0   \n",
       "6           AVONDALE         AZ   38712.0     41971.0        4815.0   \n",
       "7        WEST COVINA         CA   51629.0     56860.0        3800.0   \n",
       "8           O'FALLON         MO   41762.0     43270.0        5783.0   \n",
       "9         HIGH POINT         NC   51751.0     58077.0        5204.0   \n",
       "10            FOLSOM         CA   41051.0     35317.0        4187.0   \n",
       "11            FOLSOM         CA   41051.0     35317.0        4187.0   \n",
       "12      PHILADELPHIA         PA  741270.0    826172.0       61995.0   \n",
       "13           WICHITA         KS  192354.0    197601.0       23978.0   \n",
       "14           WICHITA         KS  192354.0    197601.0       23978.0   \n",
       "15        FORT MYERS         FL   36850.0     37165.0        4312.0   \n",
       "16        PITTSBURGH         PA  149690.0    154695.0       17728.0   \n",
       "17            LAREDO         TX  124305.0    131484.0        4921.0   \n",
       "18          BERKELEY         CA   60142.0     60829.0        3736.0   \n",
       "19       SANTA CLARA         CA   63278.0     62938.0        4426.0   \n",
       "\n",
       "    foreign_born                               race         city_code  \n",
       "0        30908.0                 Hispanic or Latino     SILVER SPRING  \n",
       "1        32935.0                              White            QUINCY  \n",
       "2         8229.0                              Asian            HOOVER  \n",
       "3        33878.0          Black or African-American  RANCHO CUCAMONGA  \n",
       "4        86253.0                              White            NEWARK  \n",
       "5         7517.0  American Indian and Alaska Native            PEORIA  \n",
       "6         8355.0          Black or African-American          AVONDALE  \n",
       "7        37038.0                              Asian       WEST COVINA  \n",
       "8         3269.0                 Hispanic or Latino          O'FALLON  \n",
       "9        16315.0                              Asian        HIGH POINT  \n",
       "10       13234.0                 Hispanic or Latino            FOLSOM  \n",
       "11       13234.0  American Indian and Alaska Native            FOLSOM  \n",
       "12      205339.0                              Asian               PHI  \n",
       "13       40270.0                 Hispanic or Latino           WICHITA  \n",
       "14       40270.0  American Indian and Alaska Native           WICHITA  \n",
       "15       15365.0                              White               FMY  \n",
       "16       28187.0                              White        PITTSBURGH  \n",
       "17       68427.0  American Indian and Alaska Native               LAR  \n",
       "18       25000.0                              Asian          BERKELEY  \n",
       "19       52281.0                              White       SANTA CLARA  "
      ]
     },
     "execution_count": 51,
     "metadata": {},
     "output_type": "execute_result"
    }
   ],
   "source": [
    "dim_demographic_population.head(20)"
   ]
  },
  {
   "cell_type": "markdown",
   "metadata": {
    "editable": true
   },
   "source": [
    "##### It seems that the same city might consist of several \"race-partitioned\" record, so further action might be available here to \"pivot\" the dataset."
   ]
  },
  {
   "cell_type": "code",
   "execution_count": 52,
   "metadata": {
    "editable": true
   },
   "outputs": [
    {
     "name": "stderr",
     "output_type": "stream",
     "text": [
      "/opt/conda/lib/python3.6/site-packages/ipykernel_launcher.py:1: SettingWithCopyWarning: \n",
      "A value is trying to be set on a copy of a slice from a DataFrame.\n",
      "Try using .loc[row_indexer,col_indexer] = value instead\n",
      "\n",
      "See the caveats in the documentation: http://pandas.pydata.org/pandas-docs/stable/indexing.html#indexing-view-versus-copy\n",
      "  \"\"\"Entry point for launching an IPython kernel.\n"
     ]
    }
   ],
   "source": [
    "dim_demographic_statistics[\"city\"] = dim_demographic_statistics[\"city\"].apply(lambda x:  port_code_reverse[x] if x in port_code_reverse else x)"
   ]
  },
  {
   "cell_type": "code",
   "execution_count": 53,
   "metadata": {
    "editable": true
   },
   "outputs": [
    {
     "data": {
      "text/html": [
       "<div>\n",
       "<style scoped>\n",
       "    .dataframe tbody tr th:only-of-type {\n",
       "        vertical-align: middle;\n",
       "    }\n",
       "\n",
       "    .dataframe tbody tr th {\n",
       "        vertical-align: top;\n",
       "    }\n",
       "\n",
       "    .dataframe thead th {\n",
       "        text-align: right;\n",
       "    }\n",
       "</style>\n",
       "<table border=\"1\" class=\"dataframe\">\n",
       "  <thead>\n",
       "    <tr style=\"text-align: right;\">\n",
       "      <th></th>\n",
       "      <th>city</th>\n",
       "      <th>state_code</th>\n",
       "      <th>median_age</th>\n",
       "      <th>avg_household_size</th>\n",
       "    </tr>\n",
       "  </thead>\n",
       "  <tbody>\n",
       "    <tr>\n",
       "      <th>0</th>\n",
       "      <td>SILVER SPRING</td>\n",
       "      <td>MD</td>\n",
       "      <td>33.8</td>\n",
       "      <td>2.60</td>\n",
       "    </tr>\n",
       "    <tr>\n",
       "      <th>1</th>\n",
       "      <td>QUINCY</td>\n",
       "      <td>MA</td>\n",
       "      <td>41.0</td>\n",
       "      <td>2.39</td>\n",
       "    </tr>\n",
       "    <tr>\n",
       "      <th>2</th>\n",
       "      <td>HOOVER</td>\n",
       "      <td>AL</td>\n",
       "      <td>38.5</td>\n",
       "      <td>2.58</td>\n",
       "    </tr>\n",
       "    <tr>\n",
       "      <th>3</th>\n",
       "      <td>RANCHO CUCAMONGA</td>\n",
       "      <td>CA</td>\n",
       "      <td>34.5</td>\n",
       "      <td>3.18</td>\n",
       "    </tr>\n",
       "    <tr>\n",
       "      <th>4</th>\n",
       "      <td>NEWARK</td>\n",
       "      <td>NJ</td>\n",
       "      <td>34.6</td>\n",
       "      <td>2.73</td>\n",
       "    </tr>\n",
       "  </tbody>\n",
       "</table>\n",
       "</div>"
      ],
      "text/plain": [
       "               city state_code  median_age  avg_household_size\n",
       "0     SILVER SPRING         MD        33.8                2.60\n",
       "1            QUINCY         MA        41.0                2.39\n",
       "2            HOOVER         AL        38.5                2.58\n",
       "3  RANCHO CUCAMONGA         CA        34.5                3.18\n",
       "4            NEWARK         NJ        34.6                2.73"
      ]
     },
     "execution_count": 53,
     "metadata": {},
     "output_type": "execute_result"
    }
   ],
   "source": [
    "dim_demographic_statistics.head()"
   ]
  },
  {
   "cell_type": "markdown",
   "metadata": {
    "editable": true
   },
   "source": [
    "##### It is found that not all citys have a corresponding 3-letter code in SAS_Labels_Description, so we leave the original full names"
   ]
  },
  {
   "cell_type": "markdown",
   "metadata": {
    "editable": true
   },
   "source": [
    "3.Airport Dataset\n",
    "* Clean the coordiantes into longitude and latitude"
   ]
  },
  {
   "cell_type": "code",
   "execution_count": 54,
   "metadata": {
    "editable": true
   },
   "outputs": [
    {
     "data": {
      "text/html": [
       "<div>\n",
       "<style scoped>\n",
       "    .dataframe tbody tr th:only-of-type {\n",
       "        vertical-align: middle;\n",
       "    }\n",
       "\n",
       "    .dataframe tbody tr th {\n",
       "        vertical-align: top;\n",
       "    }\n",
       "\n",
       "    .dataframe thead tr th {\n",
       "        text-align: left;\n",
       "    }\n",
       "</style>\n",
       "<table border=\"1\" class=\"dataframe\">\n",
       "  <thead>\n",
       "    <tr>\n",
       "      <th></th>\n",
       "      <th>iata_code</th>\n",
       "      <th>name</th>\n",
       "      <th>type</th>\n",
       "      <th>country</th>\n",
       "      <th>state</th>\n",
       "      <th>municipality</th>\n",
       "      <th>coordinates</th>\n",
       "    </tr>\n",
       "  </thead>\n",
       "  <tbody>\n",
       "    <tr>\n",
       "      <th>440</th>\n",
       "      <td>OCA</td>\n",
       "      <td>Ocean Reef Club Airport</td>\n",
       "      <td>small_airport</td>\n",
       "      <td>US</td>\n",
       "      <td>US-FL</td>\n",
       "      <td>Key Largo</td>\n",
       "      <td>-80.274803161621, 25.325399398804</td>\n",
       "    </tr>\n",
       "    <tr>\n",
       "      <th>594</th>\n",
       "      <td>PQS</td>\n",
       "      <td>Pilot Station Airport</td>\n",
       "      <td>small_airport</td>\n",
       "      <td>US</td>\n",
       "      <td>US-AK</td>\n",
       "      <td>Pilot Station</td>\n",
       "      <td>-162.899994, 61.934601</td>\n",
       "    </tr>\n",
       "    <tr>\n",
       "      <th>673</th>\n",
       "      <td>CSE</td>\n",
       "      <td>Crested Butte Airpark</td>\n",
       "      <td>small_airport</td>\n",
       "      <td>US</td>\n",
       "      <td>US-CO</td>\n",
       "      <td>Crested Butte</td>\n",
       "      <td>-106.928341, 38.851918</td>\n",
       "    </tr>\n",
       "    <tr>\n",
       "      <th>1088</th>\n",
       "      <td>JCY</td>\n",
       "      <td>LBJ Ranch Airport</td>\n",
       "      <td>small_airport</td>\n",
       "      <td>US</td>\n",
       "      <td>US-TX</td>\n",
       "      <td>Johnson City</td>\n",
       "      <td>-98.62249755859999, 30.251800537100003</td>\n",
       "    </tr>\n",
       "    <tr>\n",
       "      <th>1402</th>\n",
       "      <td>PMX</td>\n",
       "      <td>Metropolitan Airport</td>\n",
       "      <td>small_airport</td>\n",
       "      <td>US</td>\n",
       "      <td>US-MA</td>\n",
       "      <td>Palmer</td>\n",
       "      <td>-72.31140136719999, 42.223300933800004</td>\n",
       "    </tr>\n",
       "  </tbody>\n",
       "</table>\n",
       "</div>"
      ],
      "text/plain": [
       "     iata_code                     name           type country  state  \\\n",
       "440        OCA  Ocean Reef Club Airport  small_airport      US  US-FL   \n",
       "594        PQS    Pilot Station Airport  small_airport      US  US-AK   \n",
       "673        CSE    Crested Butte Airpark  small_airport      US  US-CO   \n",
       "1088       JCY        LBJ Ranch Airport  small_airport      US  US-TX   \n",
       "1402       PMX     Metropolitan Airport  small_airport      US  US-MA   \n",
       "\n",
       "       municipality                             coordinates  \n",
       "440       Key Largo       -80.274803161621, 25.325399398804  \n",
       "594   Pilot Station                  -162.899994, 61.934601  \n",
       "673   Crested Butte                  -106.928341, 38.851918  \n",
       "1088   Johnson City  -98.62249755859999, 30.251800537100003  \n",
       "1402         Palmer  -72.31140136719999, 42.223300933800004  "
      ]
     },
     "execution_count": 54,
     "metadata": {},
     "output_type": "execute_result"
    }
   ],
   "source": [
    "dim_airport.head()"
   ]
  },
  {
   "cell_type": "code",
   "execution_count": 55,
   "metadata": {
    "editable": true
   },
   "outputs": [],
   "source": [
    "dim_airport = dim_airport.reset_index()"
   ]
  },
  {
   "cell_type": "code",
   "execution_count": 56,
   "metadata": {
    "editable": true
   },
   "outputs": [
    {
     "data": {
      "text/html": [
       "<div>\n",
       "<style scoped>\n",
       "    .dataframe tbody tr th:only-of-type {\n",
       "        vertical-align: middle;\n",
       "    }\n",
       "\n",
       "    .dataframe tbody tr th {\n",
       "        vertical-align: top;\n",
       "    }\n",
       "\n",
       "    .dataframe thead tr th {\n",
       "        text-align: left;\n",
       "    }\n",
       "</style>\n",
       "<table border=\"1\" class=\"dataframe\">\n",
       "  <thead>\n",
       "    <tr>\n",
       "      <th></th>\n",
       "      <th>index</th>\n",
       "      <th>iata_code</th>\n",
       "      <th>name</th>\n",
       "      <th>type</th>\n",
       "      <th>country</th>\n",
       "      <th>state</th>\n",
       "      <th>municipality</th>\n",
       "      <th>coordinates</th>\n",
       "    </tr>\n",
       "  </thead>\n",
       "  <tbody>\n",
       "    <tr>\n",
       "      <th>0</th>\n",
       "      <td>440</td>\n",
       "      <td>OCA</td>\n",
       "      <td>Ocean Reef Club Airport</td>\n",
       "      <td>small_airport</td>\n",
       "      <td>US</td>\n",
       "      <td>US-FL</td>\n",
       "      <td>Key Largo</td>\n",
       "      <td>-80.274803161621, 25.325399398804</td>\n",
       "    </tr>\n",
       "    <tr>\n",
       "      <th>1</th>\n",
       "      <td>594</td>\n",
       "      <td>PQS</td>\n",
       "      <td>Pilot Station Airport</td>\n",
       "      <td>small_airport</td>\n",
       "      <td>US</td>\n",
       "      <td>US-AK</td>\n",
       "      <td>Pilot Station</td>\n",
       "      <td>-162.899994, 61.934601</td>\n",
       "    </tr>\n",
       "    <tr>\n",
       "      <th>2</th>\n",
       "      <td>673</td>\n",
       "      <td>CSE</td>\n",
       "      <td>Crested Butte Airpark</td>\n",
       "      <td>small_airport</td>\n",
       "      <td>US</td>\n",
       "      <td>US-CO</td>\n",
       "      <td>Crested Butte</td>\n",
       "      <td>-106.928341, 38.851918</td>\n",
       "    </tr>\n",
       "    <tr>\n",
       "      <th>3</th>\n",
       "      <td>1088</td>\n",
       "      <td>JCY</td>\n",
       "      <td>LBJ Ranch Airport</td>\n",
       "      <td>small_airport</td>\n",
       "      <td>US</td>\n",
       "      <td>US-TX</td>\n",
       "      <td>Johnson City</td>\n",
       "      <td>-98.62249755859999, 30.251800537100003</td>\n",
       "    </tr>\n",
       "    <tr>\n",
       "      <th>4</th>\n",
       "      <td>1402</td>\n",
       "      <td>PMX</td>\n",
       "      <td>Metropolitan Airport</td>\n",
       "      <td>small_airport</td>\n",
       "      <td>US</td>\n",
       "      <td>US-MA</td>\n",
       "      <td>Palmer</td>\n",
       "      <td>-72.31140136719999, 42.223300933800004</td>\n",
       "    </tr>\n",
       "  </tbody>\n",
       "</table>\n",
       "</div>"
      ],
      "text/plain": [
       "  index iata_code                     name           type country  state  \\\n",
       "0   440       OCA  Ocean Reef Club Airport  small_airport      US  US-FL   \n",
       "1   594       PQS    Pilot Station Airport  small_airport      US  US-AK   \n",
       "2   673       CSE    Crested Butte Airpark  small_airport      US  US-CO   \n",
       "3  1088       JCY        LBJ Ranch Airport  small_airport      US  US-TX   \n",
       "4  1402       PMX     Metropolitan Airport  small_airport      US  US-MA   \n",
       "\n",
       "    municipality                             coordinates  \n",
       "0      Key Largo       -80.274803161621, 25.325399398804  \n",
       "1  Pilot Station                  -162.899994, 61.934601  \n",
       "2  Crested Butte                  -106.928341, 38.851918  \n",
       "3   Johnson City  -98.62249755859999, 30.251800537100003  \n",
       "4         Palmer  -72.31140136719999, 42.223300933800004  "
      ]
     },
     "execution_count": 56,
     "metadata": {},
     "output_type": "execute_result"
    }
   ],
   "source": [
    "dim_airport.head()"
   ]
  },
  {
   "cell_type": "code",
   "execution_count": 57,
   "metadata": {
    "editable": true
   },
   "outputs": [],
   "source": [
    "import numpy as np"
   ]
  },
  {
   "cell_type": "code",
   "execution_count": 58,
   "metadata": {
    "editable": true
   },
   "outputs": [],
   "source": [
    "idx = np.where(dim_airport.columns.get_loc(\"coordinates\"))[0][0]"
   ]
  },
  {
   "cell_type": "code",
   "execution_count": 59,
   "metadata": {
    "editable": true
   },
   "outputs": [],
   "source": [
    "dim_airport_coor = pd.DataFrame(dim_airport.iloc[:,idx].str.split(\", \").tolist(), columns = ['longitude','latitude'])"
   ]
  },
  {
   "cell_type": "code",
   "execution_count": 60,
   "metadata": {
    "editable": true
   },
   "outputs": [
    {
     "data": {
      "text/html": [
       "<div>\n",
       "<style scoped>\n",
       "    .dataframe tbody tr th:only-of-type {\n",
       "        vertical-align: middle;\n",
       "    }\n",
       "\n",
       "    .dataframe tbody tr th {\n",
       "        vertical-align: top;\n",
       "    }\n",
       "\n",
       "    .dataframe thead th {\n",
       "        text-align: right;\n",
       "    }\n",
       "</style>\n",
       "<table border=\"1\" class=\"dataframe\">\n",
       "  <thead>\n",
       "    <tr style=\"text-align: right;\">\n",
       "      <th></th>\n",
       "      <th>longitude</th>\n",
       "      <th>latitude</th>\n",
       "    </tr>\n",
       "  </thead>\n",
       "  <tbody>\n",
       "    <tr>\n",
       "      <th>0</th>\n",
       "      <td>-80.274803161621</td>\n",
       "      <td>25.325399398804</td>\n",
       "    </tr>\n",
       "    <tr>\n",
       "      <th>1</th>\n",
       "      <td>-162.899994</td>\n",
       "      <td>61.934601</td>\n",
       "    </tr>\n",
       "    <tr>\n",
       "      <th>2</th>\n",
       "      <td>-106.928341</td>\n",
       "      <td>38.851918</td>\n",
       "    </tr>\n",
       "    <tr>\n",
       "      <th>3</th>\n",
       "      <td>-98.62249755859999</td>\n",
       "      <td>30.251800537100003</td>\n",
       "    </tr>\n",
       "    <tr>\n",
       "      <th>4</th>\n",
       "      <td>-72.31140136719999</td>\n",
       "      <td>42.223300933800004</td>\n",
       "    </tr>\n",
       "  </tbody>\n",
       "</table>\n",
       "</div>"
      ],
      "text/plain": [
       "            longitude            latitude\n",
       "0    -80.274803161621     25.325399398804\n",
       "1         -162.899994           61.934601\n",
       "2         -106.928341           38.851918\n",
       "3  -98.62249755859999  30.251800537100003\n",
       "4  -72.31140136719999  42.223300933800004"
      ]
     },
     "execution_count": 60,
     "metadata": {},
     "output_type": "execute_result"
    }
   ],
   "source": [
    "dim_airport_coor.head()"
   ]
  },
  {
   "cell_type": "code",
   "execution_count": 61,
   "metadata": {
    "editable": true
   },
   "outputs": [],
   "source": [
    "dim_airport = pd.concat([dim_airport,dim_airport_coor], axis=1, join=\"inner\")"
   ]
  },
  {
   "cell_type": "code",
   "execution_count": 62,
   "metadata": {
    "editable": true
   },
   "outputs": [],
   "source": [
    "dim_airport.columns = [\"index\", \"iata_code\", \"name\", \"type\", \"country\", \"state\", \"municipality\", \"coordinates\", \"longitude\", \"latitude\"]"
   ]
  },
  {
   "cell_type": "code",
   "execution_count": 63,
   "metadata": {
    "editable": true
   },
   "outputs": [
    {
     "data": {
      "text/html": [
       "<div>\n",
       "<style scoped>\n",
       "    .dataframe tbody tr th:only-of-type {\n",
       "        vertical-align: middle;\n",
       "    }\n",
       "\n",
       "    .dataframe tbody tr th {\n",
       "        vertical-align: top;\n",
       "    }\n",
       "\n",
       "    .dataframe thead th {\n",
       "        text-align: right;\n",
       "    }\n",
       "</style>\n",
       "<table border=\"1\" class=\"dataframe\">\n",
       "  <thead>\n",
       "    <tr style=\"text-align: right;\">\n",
       "      <th></th>\n",
       "      <th>iata_code</th>\n",
       "      <th>name</th>\n",
       "      <th>type</th>\n",
       "      <th>country</th>\n",
       "      <th>state</th>\n",
       "      <th>municipality</th>\n",
       "      <th>longitude</th>\n",
       "      <th>latitude</th>\n",
       "    </tr>\n",
       "  </thead>\n",
       "  <tbody>\n",
       "    <tr>\n",
       "      <th>0</th>\n",
       "      <td>OCA</td>\n",
       "      <td>Ocean Reef Club Airport</td>\n",
       "      <td>small_airport</td>\n",
       "      <td>US</td>\n",
       "      <td>US-FL</td>\n",
       "      <td>Key Largo</td>\n",
       "      <td>-80.274803161621</td>\n",
       "      <td>25.325399398804</td>\n",
       "    </tr>\n",
       "    <tr>\n",
       "      <th>1</th>\n",
       "      <td>PQS</td>\n",
       "      <td>Pilot Station Airport</td>\n",
       "      <td>small_airport</td>\n",
       "      <td>US</td>\n",
       "      <td>US-AK</td>\n",
       "      <td>Pilot Station</td>\n",
       "      <td>-162.899994</td>\n",
       "      <td>61.934601</td>\n",
       "    </tr>\n",
       "    <tr>\n",
       "      <th>2</th>\n",
       "      <td>CSE</td>\n",
       "      <td>Crested Butte Airpark</td>\n",
       "      <td>small_airport</td>\n",
       "      <td>US</td>\n",
       "      <td>US-CO</td>\n",
       "      <td>Crested Butte</td>\n",
       "      <td>-106.928341</td>\n",
       "      <td>38.851918</td>\n",
       "    </tr>\n",
       "    <tr>\n",
       "      <th>3</th>\n",
       "      <td>JCY</td>\n",
       "      <td>LBJ Ranch Airport</td>\n",
       "      <td>small_airport</td>\n",
       "      <td>US</td>\n",
       "      <td>US-TX</td>\n",
       "      <td>Johnson City</td>\n",
       "      <td>-98.62249755859999</td>\n",
       "      <td>30.251800537100003</td>\n",
       "    </tr>\n",
       "    <tr>\n",
       "      <th>4</th>\n",
       "      <td>PMX</td>\n",
       "      <td>Metropolitan Airport</td>\n",
       "      <td>small_airport</td>\n",
       "      <td>US</td>\n",
       "      <td>US-MA</td>\n",
       "      <td>Palmer</td>\n",
       "      <td>-72.31140136719999</td>\n",
       "      <td>42.223300933800004</td>\n",
       "    </tr>\n",
       "  </tbody>\n",
       "</table>\n",
       "</div>"
      ],
      "text/plain": [
       "  iata_code                     name           type country  state  \\\n",
       "0       OCA  Ocean Reef Club Airport  small_airport      US  US-FL   \n",
       "1       PQS    Pilot Station Airport  small_airport      US  US-AK   \n",
       "2       CSE    Crested Butte Airpark  small_airport      US  US-CO   \n",
       "3       JCY        LBJ Ranch Airport  small_airport      US  US-TX   \n",
       "4       PMX     Metropolitan Airport  small_airport      US  US-MA   \n",
       "\n",
       "    municipality           longitude            latitude  \n",
       "0      Key Largo    -80.274803161621     25.325399398804  \n",
       "1  Pilot Station         -162.899994           61.934601  \n",
       "2  Crested Butte         -106.928341           38.851918  \n",
       "3   Johnson City  -98.62249755859999  30.251800537100003  \n",
       "4         Palmer  -72.31140136719999  42.223300933800004  "
      ]
     },
     "execution_count": 63,
     "metadata": {},
     "output_type": "execute_result"
    }
   ],
   "source": [
    "dim_airport.drop([\"index\", \"coordinates\"], axis=1).head()"
   ]
  },
  {
   "cell_type": "code",
   "execution_count": 64,
   "metadata": {
    "editable": true
   },
   "outputs": [],
   "source": [
    "dim_airport = dim_airport.drop([\"index\", \"coordinates\"], axis=1)"
   ]
  },
  {
   "cell_type": "code",
   "execution_count": 65,
   "metadata": {
    "editable": true
   },
   "outputs": [],
   "source": [
    "dim_airport[\"longitude\"] = dim_airport[\"longitude\"].astype(float)"
   ]
  },
  {
   "cell_type": "code",
   "execution_count": 66,
   "metadata": {
    "editable": true
   },
   "outputs": [],
   "source": [
    "dim_airport[\"latitude\"] = dim_airport[\"latitude\"].astype(float)"
   ]
  },
  {
   "cell_type": "code",
   "execution_count": 67,
   "metadata": {
    "editable": true
   },
   "outputs": [
    {
     "data": {
      "text/html": [
       "<div>\n",
       "<style scoped>\n",
       "    .dataframe tbody tr th:only-of-type {\n",
       "        vertical-align: middle;\n",
       "    }\n",
       "\n",
       "    .dataframe tbody tr th {\n",
       "        vertical-align: top;\n",
       "    }\n",
       "\n",
       "    .dataframe thead th {\n",
       "        text-align: right;\n",
       "    }\n",
       "</style>\n",
       "<table border=\"1\" class=\"dataframe\">\n",
       "  <thead>\n",
       "    <tr style=\"text-align: right;\">\n",
       "      <th></th>\n",
       "      <th>iata_code</th>\n",
       "      <th>name</th>\n",
       "      <th>type</th>\n",
       "      <th>country</th>\n",
       "      <th>state</th>\n",
       "      <th>municipality</th>\n",
       "      <th>longitude</th>\n",
       "      <th>latitude</th>\n",
       "    </tr>\n",
       "  </thead>\n",
       "  <tbody>\n",
       "    <tr>\n",
       "      <th>0</th>\n",
       "      <td>OCA</td>\n",
       "      <td>Ocean Reef Club Airport</td>\n",
       "      <td>small_airport</td>\n",
       "      <td>US</td>\n",
       "      <td>US-FL</td>\n",
       "      <td>Key Largo</td>\n",
       "      <td>-80.274803</td>\n",
       "      <td>25.325399</td>\n",
       "    </tr>\n",
       "    <tr>\n",
       "      <th>1</th>\n",
       "      <td>PQS</td>\n",
       "      <td>Pilot Station Airport</td>\n",
       "      <td>small_airport</td>\n",
       "      <td>US</td>\n",
       "      <td>US-AK</td>\n",
       "      <td>Pilot Station</td>\n",
       "      <td>-162.899994</td>\n",
       "      <td>61.934601</td>\n",
       "    </tr>\n",
       "    <tr>\n",
       "      <th>2</th>\n",
       "      <td>CSE</td>\n",
       "      <td>Crested Butte Airpark</td>\n",
       "      <td>small_airport</td>\n",
       "      <td>US</td>\n",
       "      <td>US-CO</td>\n",
       "      <td>Crested Butte</td>\n",
       "      <td>-106.928341</td>\n",
       "      <td>38.851918</td>\n",
       "    </tr>\n",
       "    <tr>\n",
       "      <th>3</th>\n",
       "      <td>JCY</td>\n",
       "      <td>LBJ Ranch Airport</td>\n",
       "      <td>small_airport</td>\n",
       "      <td>US</td>\n",
       "      <td>US-TX</td>\n",
       "      <td>Johnson City</td>\n",
       "      <td>-98.622498</td>\n",
       "      <td>30.251801</td>\n",
       "    </tr>\n",
       "    <tr>\n",
       "      <th>4</th>\n",
       "      <td>PMX</td>\n",
       "      <td>Metropolitan Airport</td>\n",
       "      <td>small_airport</td>\n",
       "      <td>US</td>\n",
       "      <td>US-MA</td>\n",
       "      <td>Palmer</td>\n",
       "      <td>-72.311401</td>\n",
       "      <td>42.223301</td>\n",
       "    </tr>\n",
       "  </tbody>\n",
       "</table>\n",
       "</div>"
      ],
      "text/plain": [
       "  iata_code                     name           type country  state  \\\n",
       "0       OCA  Ocean Reef Club Airport  small_airport      US  US-FL   \n",
       "1       PQS    Pilot Station Airport  small_airport      US  US-AK   \n",
       "2       CSE    Crested Butte Airpark  small_airport      US  US-CO   \n",
       "3       JCY        LBJ Ranch Airport  small_airport      US  US-TX   \n",
       "4       PMX     Metropolitan Airport  small_airport      US  US-MA   \n",
       "\n",
       "    municipality   longitude   latitude  \n",
       "0      Key Largo  -80.274803  25.325399  \n",
       "1  Pilot Station -162.899994  61.934601  \n",
       "2  Crested Butte -106.928341  38.851918  \n",
       "3   Johnson City  -98.622498  30.251801  \n",
       "4         Palmer  -72.311401  42.223301  "
      ]
     },
     "execution_count": 67,
     "metadata": {},
     "output_type": "execute_result"
    }
   ],
   "source": [
    "dim_airport.head()"
   ]
  },
  {
   "cell_type": "markdown",
   "metadata": {
    "editable": true
   },
   "source": [
    "* Remove country code in the state"
   ]
  },
  {
   "cell_type": "code",
   "execution_count": 68,
   "metadata": {
    "editable": true
   },
   "outputs": [],
   "source": [
    "dim_airport[\"state\"] = dim_airport[\"state\"].apply(lambda x: x.split(\"-\")[1])"
   ]
  },
  {
   "cell_type": "code",
   "execution_count": 69,
   "metadata": {
    "editable": true
   },
   "outputs": [],
   "source": [
    "dim_airport[\"country\"] = \"United States\""
   ]
  },
  {
   "cell_type": "code",
   "execution_count": 70,
   "metadata": {
    "editable": true
   },
   "outputs": [],
   "source": [
    "dim_airport.columns = [\"iata_code\", \"name\", \"type\", \"country\", \"state_code\", \"municipality\", \"longitude\", \"latitude\"]"
   ]
  },
  {
   "cell_type": "code",
   "execution_count": 71,
   "metadata": {
    "editable": true
   },
   "outputs": [
    {
     "data": {
      "text/html": [
       "<div>\n",
       "<style scoped>\n",
       "    .dataframe tbody tr th:only-of-type {\n",
       "        vertical-align: middle;\n",
       "    }\n",
       "\n",
       "    .dataframe tbody tr th {\n",
       "        vertical-align: top;\n",
       "    }\n",
       "\n",
       "    .dataframe thead th {\n",
       "        text-align: right;\n",
       "    }\n",
       "</style>\n",
       "<table border=\"1\" class=\"dataframe\">\n",
       "  <thead>\n",
       "    <tr style=\"text-align: right;\">\n",
       "      <th></th>\n",
       "      <th>iata_code</th>\n",
       "      <th>name</th>\n",
       "      <th>type</th>\n",
       "      <th>country</th>\n",
       "      <th>state_code</th>\n",
       "      <th>municipality</th>\n",
       "      <th>longitude</th>\n",
       "      <th>latitude</th>\n",
       "    </tr>\n",
       "  </thead>\n",
       "  <tbody>\n",
       "    <tr>\n",
       "      <th>0</th>\n",
       "      <td>OCA</td>\n",
       "      <td>Ocean Reef Club Airport</td>\n",
       "      <td>small_airport</td>\n",
       "      <td>United States</td>\n",
       "      <td>FL</td>\n",
       "      <td>Key Largo</td>\n",
       "      <td>-80.274803</td>\n",
       "      <td>25.325399</td>\n",
       "    </tr>\n",
       "    <tr>\n",
       "      <th>1</th>\n",
       "      <td>PQS</td>\n",
       "      <td>Pilot Station Airport</td>\n",
       "      <td>small_airport</td>\n",
       "      <td>United States</td>\n",
       "      <td>AK</td>\n",
       "      <td>Pilot Station</td>\n",
       "      <td>-162.899994</td>\n",
       "      <td>61.934601</td>\n",
       "    </tr>\n",
       "    <tr>\n",
       "      <th>2</th>\n",
       "      <td>CSE</td>\n",
       "      <td>Crested Butte Airpark</td>\n",
       "      <td>small_airport</td>\n",
       "      <td>United States</td>\n",
       "      <td>CO</td>\n",
       "      <td>Crested Butte</td>\n",
       "      <td>-106.928341</td>\n",
       "      <td>38.851918</td>\n",
       "    </tr>\n",
       "    <tr>\n",
       "      <th>3</th>\n",
       "      <td>JCY</td>\n",
       "      <td>LBJ Ranch Airport</td>\n",
       "      <td>small_airport</td>\n",
       "      <td>United States</td>\n",
       "      <td>TX</td>\n",
       "      <td>Johnson City</td>\n",
       "      <td>-98.622498</td>\n",
       "      <td>30.251801</td>\n",
       "    </tr>\n",
       "    <tr>\n",
       "      <th>4</th>\n",
       "      <td>PMX</td>\n",
       "      <td>Metropolitan Airport</td>\n",
       "      <td>small_airport</td>\n",
       "      <td>United States</td>\n",
       "      <td>MA</td>\n",
       "      <td>Palmer</td>\n",
       "      <td>-72.311401</td>\n",
       "      <td>42.223301</td>\n",
       "    </tr>\n",
       "  </tbody>\n",
       "</table>\n",
       "</div>"
      ],
      "text/plain": [
       "  iata_code                     name           type        country state_code  \\\n",
       "0       OCA  Ocean Reef Club Airport  small_airport  United States         FL   \n",
       "1       PQS    Pilot Station Airport  small_airport  United States         AK   \n",
       "2       CSE    Crested Butte Airpark  small_airport  United States         CO   \n",
       "3       JCY        LBJ Ranch Airport  small_airport  United States         TX   \n",
       "4       PMX     Metropolitan Airport  small_airport  United States         MA   \n",
       "\n",
       "    municipality   longitude   latitude  \n",
       "0      Key Largo  -80.274803  25.325399  \n",
       "1  Pilot Station -162.899994  61.934601  \n",
       "2  Crested Butte -106.928341  38.851918  \n",
       "3   Johnson City  -98.622498  30.251801  \n",
       "4         Palmer  -72.311401  42.223301  "
      ]
     },
     "execution_count": 71,
     "metadata": {},
     "output_type": "execute_result"
    }
   ],
   "source": [
    "dim_airport.head()"
   ]
  },
  {
   "cell_type": "markdown",
   "metadata": {
    "editable": true
   },
   "source": [
    "### Step 3: Define the Data Model\n",
    "#### 3.1 Conceptual Data Model\n",
    "\n",
    "Since the purpose of this data warehouse is for OLAP and BI app usage, these data sets will be modelled with star schema into a fact table and several dimension tables.\n",
    "Details could be seen from this figure:\n"
   ]
  },
  {
   "cell_type": "markdown",
   "metadata": {
    "editable": true
   },
   "source": [
    "<img src=\"img/star_schema.png\" style=\"float: left;\" alt=\"\" width=\"1000\"/>"
   ]
  },
  {
   "cell_type": "markdown",
   "metadata": {
    "editable": true
   },
   "source": [
    "\n",
    "#### 3.2 Mapping Out Data Pipelines\n",
    "1. Althrough all data sets are provided locally, we may assume all data sets are stored in S3 buckets as below\n",
    "#####  [Source_S3_Bucket]/immigration/18-83510-I94-Data-2016/*.sas7bdat\n",
    "##### [Source_S3_Bucket]/I94_SAS_Labels_Descriptions.SAS\n",
    "##### [Source_S3_Bucket]/temperature/GlobalLandTemperaturesByCity.csv\n",
    "##### [Source_S3_Bucket]/demography/us-cities-demographics.csv\n",
    "2. Follow by Step 2 – Cleaning step to clean up data sets:\n",
    "##### Transform immigration data to 1 fact table and 2 dimension tables, fact table will be partitioned by state\n",
    "##### Parsing label description file to additional tables to document the codes and names\n",
    "##### ----\n",
    "##### Transform temperature data to dimension table\n",
    "##### Filter only for US which are relevent for this datawarehouse\n",
    "##### ----\n",
    "##### Split demography data to 2 dimension tables\n",
    "##### Upper case the state and port name where additional tables created above will also help here\n",
    "##### Depending on the usage, further aggregation may be applied here too\n",
    "##### ----\n",
    "##### Transform airport data to dimension table\n",
    "##### Filter only for US and non-iata rows\n",
    "##### Split to get the coordinates and clean the state code\n",
    "\n",
    "\n",
    "3. Store these tables back to target S3 bucket"
   ]
  },
  {
   "cell_type": "markdown",
   "metadata": {
    "editable": true
   },
   "source": [
    "### Step 4: Run Pipelines to Model the Data \n",
    "#### 4.1 Create the data model\n",
    "Build the data pipelines to create the data model.\n",
    "Refer and run etl.py for the cleaned and entire process into target S3 bucket."
   ]
  },
  {
   "cell_type": "code",
   "execution_count": 72,
   "metadata": {
    "editable": true
   },
   "outputs": [],
   "source": [
    "from pyspark.sql.types import DateType\n",
    "from pyspark.sql.functions import udf, col, lit, year, month, upper, to_date\n",
    "from pyspark.sql.functions import monotonically_increasing_id\n",
    "from pyspark.sql.types import DateType\n",
    "from pyspark.sql.functions import split\n",
    "from pyspark.sql.types import FloatType, IntegerType, LongType"
   ]
  },
  {
   "cell_type": "code",
   "execution_count": 73,
   "metadata": {
    "editable": true
   },
   "outputs": [],
   "source": [
    "input_data = \"./\"   # to be replaced with source S3 bucket if needed\n",
    "output_data = \"/opt/output/\" # to be replaced with target S3 bucket in etl.py"
   ]
  },
  {
   "cell_type": "code",
   "execution_count": 74,
   "metadata": {
    "editable": true
   },
   "outputs": [],
   "source": [
    "def rename_columns(table, new_columns):\n",
    "    for original, new in zip(table.columns, new_columns):\n",
    "        table = table.withColumnRenamed(original, new)\n",
    "    return table"
   ]
  },
  {
   "cell_type": "markdown",
   "metadata": {
    "editable": true
   },
   "source": [
    "#### Fact table"
   ]
  },
  {
   "cell_type": "code",
   "execution_count": 75,
   "metadata": {
    "editable": true
   },
   "outputs": [],
   "source": [
    "df_spark = spark.read.format('com.github.saurfang.sas.spark').load('../../data/18-83510-I94-Data-2016/i94_apr16_sub.sas7bdat')"
   ]
  },
  {
   "cell_type": "code",
   "execution_count": 76,
   "metadata": {
    "editable": true
   },
   "outputs": [],
   "source": [
    "fact_immi = df_spark.select('cicid', 'i94yr', 'i94mon', 'i94port', 'i94addr', 'arrdate', 'depdate', 'i94mode', 'i94visa').distinct()\\\n",
    "                         .withColumn(\"immigration_id\", monotonically_increasing_id())\n",
    "\n",
    "new_columns = ['cic_id', 'year', 'month', 'port_code', 'state_code', 'arrive_date', 'departure_date', 'travel_code', 'visa_code']\n",
    "fact_immi = rename_columns(fact_immi, new_columns)"
   ]
  },
  {
   "cell_type": "code",
   "execution_count": 77,
   "metadata": {
    "editable": true
   },
   "outputs": [],
   "source": [
    "fact_immi = fact_immi.withColumn(\"country\", lit(\"United States\"))"
   ]
  },
  {
   "cell_type": "code",
   "execution_count": 78,
   "metadata": {
    "editable": true
   },
   "outputs": [],
   "source": [
    "def SAS_to_date(date):\n",
    "    if date is not None:\n",
    "        return pd.to_timedelta(date, unit='D') + pd.Timestamp('1960-1-1')\n",
    "    else:\n",
    "        return None"
   ]
  },
  {
   "cell_type": "code",
   "execution_count": 79,
   "metadata": {
    "editable": true
   },
   "outputs": [],
   "source": [
    "process_SAS_date_udf = udf(SAS_to_date, DateType())"
   ]
  },
  {
   "cell_type": "code",
   "execution_count": 80,
   "metadata": {
    "editable": true
   },
   "outputs": [],
   "source": [
    "fact_immi = fact_immi.withColumn('arrive_date',  process_SAS_date_udf(col('arrive_date')))\n",
    "fact_immi = fact_immi.withColumn('departure_date',  process_SAS_date_udf(col('departure_date')))"
   ]
  },
  {
   "cell_type": "code",
   "execution_count": 81,
   "metadata": {
    "editable": true
   },
   "outputs": [
    {
     "name": "stdout",
     "output_type": "stream",
     "text": [
      "+------+------+-----+---------+----------+-----------+--------------+-----------+---------+--------------+-------------+\n",
      "|cic_id|  year|month|port_code|state_code|arrive_date|departure_date|travel_code|visa_code|immigration_id|      country|\n",
      "+------+------+-----+---------+----------+-----------+--------------+-----------+---------+--------------+-------------+\n",
      "|  27.0|2016.0|  4.0|      BOS|        MA| 2016-04-01|    2016-04-05|        1.0|      1.0|             0|United States|\n",
      "| 233.0|2016.0|  4.0|      NYC|        NY| 2016-04-01|    2016-04-07|        1.0|      2.0|             1|United States|\n",
      "|1103.0|2016.0|  4.0|      NEW|        NY| 2016-04-01|    2016-04-09|        1.0|      2.0|             2|United States|\n",
      "|1123.0|2016.0|  4.0|      NEW|        PA| 2016-04-01|    2016-04-08|        1.0|      1.0|             3|United States|\n",
      "|1446.0|2016.0|  4.0|      NYC|        NY| 2016-04-01|    2016-04-07|        1.0|      2.0|             4|United States|\n",
      "+------+------+-----+---------+----------+-----------+--------------+-----------+---------+--------------+-------------+\n",
      "only showing top 5 rows\n",
      "\n"
     ]
    }
   ],
   "source": [
    "fact_immi.show(5)"
   ]
  },
  {
   "cell_type": "code",
   "execution_count": 82,
   "metadata": {
    "editable": true
   },
   "outputs": [],
   "source": [
    "fact_immi = fact_immi.withColumn('cic_id',  col('cic_id').cast(IntegerType()))\n",
    "fact_immi = fact_immi.withColumn('year',  col('year').cast(IntegerType()))\n",
    "fact_immi = fact_immi.withColumn('month',  col('month').cast(IntegerType()))\n",
    "fact_immi = fact_immi.withColumn('travel_code',  col('travel_code').cast(IntegerType()))\n",
    "fact_immi = fact_immi.withColumn('visa_code',  col('visa_code').cast(IntegerType()))"
   ]
  },
  {
   "cell_type": "code",
   "execution_count": 83,
   "metadata": {
    "editable": true
   },
   "outputs": [],
   "source": [
    "fact_immi.write.mode(\"overwrite\").partitionBy('state_code')\\\n",
    "                    .parquet(path=output_data + 'fact_immi')"
   ]
  },
  {
   "cell_type": "markdown",
   "metadata": {
    "editable": true
   },
   "source": [
    "#### Dimension personal table"
   ]
  },
  {
   "cell_type": "code",
   "execution_count": 84,
   "metadata": {
    "editable": true
   },
   "outputs": [],
   "source": [
    "dim_immi_personal = df_spark.select('cicid', 'i94cit', 'i94res', 'biryear', 'gender', 'insnum').distinct()\\\n",
    "                                .withColumn(\"immi_person_id\",  monotonically_increasing_id())"
   ]
  },
  {
   "cell_type": "code",
   "execution_count": 85,
   "metadata": {
    "editable": true
   },
   "outputs": [],
   "source": [
    "new_columns = ['cic_id', 'citizen_country', 'residence_country', 'birth_year', 'gender', 'ins_num']\n",
    "dim_immi_personal = rename_columns(dim_immi_personal, new_columns)"
   ]
  },
  {
   "cell_type": "code",
   "execution_count": 86,
   "metadata": {
    "editable": true
   },
   "outputs": [],
   "source": [
    "dim_immi_personal = dim_immi_personal.withColumn('cic_id',  col('cic_id').cast(IntegerType()))\n",
    "dim_immi_personal = dim_immi_personal.withColumn('citizen_country',  col('citizen_country').cast(IntegerType()))\n",
    "dim_immi_personal = dim_immi_personal.withColumn('residence_country',  col('residence_country').cast(IntegerType()))\n",
    "dim_immi_personal = dim_immi_personal.withColumn('birth_year',  col('birth_year').cast(IntegerType()))"
   ]
  },
  {
   "cell_type": "code",
   "execution_count": 87,
   "metadata": {
    "editable": true
   },
   "outputs": [
    {
     "name": "stdout",
     "output_type": "stream",
     "text": [
      "+------+---------------+-----------------+----------+------+-------+--------------+\n",
      "|cic_id|citizen_country|residence_country|birth_year|gender|ins_num|immi_person_id|\n",
      "+------+---------------+-----------------+----------+------+-------+--------------+\n",
      "|    16|            101|              101|      1988|  null|   null|             0|\n",
      "|    84|            103|              103|      1994|     M|   null|             1|\n",
      "|   536|            103|              103|      1956|     M|   null|             2|\n",
      "|   670|            103|              124|      1979|     M|   null|             3|\n",
      "|   681|            103|              112|      1955|     F|   null|             4|\n",
      "+------+---------------+-----------------+----------+------+-------+--------------+\n",
      "only showing top 5 rows\n",
      "\n"
     ]
    }
   ],
   "source": [
    "dim_immi_personal.show(5)"
   ]
  },
  {
   "cell_type": "code",
   "execution_count": 88,
   "metadata": {
    "editable": true
   },
   "outputs": [],
   "source": [
    "dim_immi_personal.write.mode(\"overwrite\")\\\n",
    "                    .parquet(path=output_data + 'dim_immi_personal')"
   ]
  },
  {
   "cell_type": "markdown",
   "metadata": {
    "editable": true
   },
   "source": [
    "#### Dimension airline table"
   ]
  },
  {
   "cell_type": "code",
   "execution_count": 89,
   "metadata": {
    "editable": true
   },
   "outputs": [],
   "source": [
    "dim_immi_airline = df_spark.select('cicid', 'airline', 'admnum', 'fltno', 'visatype','i94port').distinct()\\\n",
    "                                .withColumn(\"immi_airline_id\",  monotonically_increasing_id())"
   ]
  },
  {
   "cell_type": "code",
   "execution_count": 90,
   "metadata": {
    "editable": true
   },
   "outputs": [],
   "source": [
    "new_columns = ['cic_id', 'airline', 'admin_num', 'flight_number', 'visa_type', 'port_code']\n",
    "dim_immi_airline = rename_columns(dim_immi_airline, new_columns)"
   ]
  },
  {
   "cell_type": "code",
   "execution_count": 91,
   "metadata": {
    "editable": true
   },
   "outputs": [],
   "source": [
    "dim_immi_airline = dim_immi_airline.withColumn('cic_id',  col('cic_id').cast(IntegerType()))"
   ]
  },
  {
   "cell_type": "code",
   "execution_count": 92,
   "metadata": {
    "editable": true
   },
   "outputs": [],
   "source": [
    "dim_immi_airline = dim_immi_airline.withColumn('admin_num',  col('admin_num').cast(LongType()))"
   ]
  },
  {
   "cell_type": "code",
   "execution_count": 93,
   "metadata": {
    "editable": true
   },
   "outputs": [
    {
     "name": "stdout",
     "output_type": "stream",
     "text": [
      "+------+-------+-----------+-------------+---------+---------+---------------+\n",
      "|cic_id|airline|  admin_num|flight_number|visa_type|port_code|immi_airline_id|\n",
      "+------+-------+-----------+-------------+---------+---------+---------------+\n",
      "|   472|    VES|55408590533|        91285|       WT|      FTL|              0|\n",
      "|  1019|     UA|55438475733|        02067|       WT|      NEW|              1|\n",
      "|  1932|     SK|55415788133|        00909|       WB|      NEW|              2|\n",
      "|  2252|     DY|92512109330|        07031|       B2|      FTL|              3|\n",
      "|  2358|     LH|92476163130|        00440|       B1|      HOU|              4|\n",
      "+------+-------+-----------+-------------+---------+---------+---------------+\n",
      "only showing top 5 rows\n",
      "\n"
     ]
    }
   ],
   "source": [
    "dim_immi_airline.show(5)"
   ]
  },
  {
   "cell_type": "code",
   "execution_count": 94,
   "metadata": {
    "editable": true
   },
   "outputs": [],
   "source": [
    "dim_immi_airline.write.mode(\"overwrite\")\\\n",
    "                    .parquet(path=output_data + 'dim_immi_airline')"
   ]
  },
  {
   "cell_type": "markdown",
   "metadata": {
    "editable": true
   },
   "source": [
    "#### Write additional code tables with spark"
   ]
  },
  {
   "cell_type": "code",
   "execution_count": 95,
   "metadata": {
    "editable": true
   },
   "outputs": [],
   "source": [
    "spark.createDataFrame(country_code.items(), ['code', 'country'])\\\n",
    "         .withColumn('code', col('code').cast(IntegerType()))\\\n",
    "         .write.mode(\"overwrite\")\\\n",
    "         .parquet(path=output_data + 'country_code')"
   ]
  },
  {
   "cell_type": "code",
   "execution_count": 96,
   "metadata": {
    "editable": true
   },
   "outputs": [],
   "source": [
    "spark.createDataFrame(port_code.items(), ['code', 'port'])\\\n",
    "         .write.mode(\"overwrite\")\\\n",
    "         .parquet(path=output_data + 'port_code')"
   ]
  },
  {
   "cell_type": "code",
   "execution_count": 97,
   "metadata": {
    "editable": true
   },
   "outputs": [],
   "source": [
    "spark.createDataFrame(state_code.items(), ['code', 'state'])\\\n",
    "         .write.mode(\"overwrite\")\\\n",
    "         .parquet(path=output_data + 'state_code')"
   ]
  },
  {
   "cell_type": "code",
   "execution_count": 98,
   "metadata": {
    "editable": true
   },
   "outputs": [],
   "source": [
    "spark.createDataFrame(visa_code.items(), ['code', 'visa'])\\\n",
    "         .withColumn('code', col('code').cast(IntegerType()))\\\n",
    "         .write.mode(\"overwrite\")\\\n",
    "         .parquet(path=output_data + 'visa_code')"
   ]
  },
  {
   "cell_type": "code",
   "execution_count": 99,
   "metadata": {
    "editable": true
   },
   "outputs": [],
   "source": [
    "spark.createDataFrame(travel_code.items(), ['code', 'travel'])\\\n",
    "         .withColumn('code', col('code').cast(IntegerType()))\\\n",
    "         .write.mode(\"overwrite\")\\\n",
    "         .parquet(path=output_data + 'travel_code')"
   ]
  },
  {
   "cell_type": "markdown",
   "metadata": {
    "editable": true
   },
   "source": [
    "#### Dimension demographic table"
   ]
  },
  {
   "cell_type": "code",
   "execution_count": 100,
   "metadata": {
    "editable": true
   },
   "outputs": [],
   "source": [
    "import os"
   ]
  },
  {
   "cell_type": "code",
   "execution_count": 101,
   "metadata": {
    "editable": true
   },
   "outputs": [],
   "source": [
    "path = os.path.join(input_data + '/us-cities-demographics.csv')"
   ]
  },
  {
   "cell_type": "code",
   "execution_count": 102,
   "metadata": {
    "editable": true
   },
   "outputs": [],
   "source": [
    "df_spark = spark.read.format('csv').options(header=True, delimiter=';').load(path)"
   ]
  },
  {
   "cell_type": "code",
   "execution_count": 103,
   "metadata": {
    "editable": true
   },
   "outputs": [],
   "source": [
    "dim_demographic_population = df_spark.select('City', 'State Code', 'Male Population', 'Female Population', 'Number of Veterans', 'Foreign-born', 'Race').distinct()\\\n",
    "                                .withColumn(\"pop_id\",  monotonically_increasing_id())"
   ]
  },
  {
   "cell_type": "code",
   "execution_count": 104,
   "metadata": {
    "editable": true
   },
   "outputs": [],
   "source": [
    "new_columns = ['city', 'state_code', 'male_pop', 'female_pop', 'num_vetarans', 'foreign_born', 'race']\n",
    "dim_demographic_population = rename_columns(dim_demographic_population, new_columns)"
   ]
  },
  {
   "cell_type": "code",
   "execution_count": 105,
   "metadata": {
    "editable": true
   },
   "outputs": [
    {
     "name": "stdout",
     "output_type": "stream",
     "text": [
      "+----------+----------+--------+----------+------------+------------+--------------------+------+\n",
      "|      city|state_code|male_pop|female_pop|num_vetarans|foreign_born|                race|pop_id|\n",
      "+----------+----------+--------+----------+------------+------------+--------------------+------+\n",
      "|Providence|        RI|   89090|     90114|        4933|       53532|               Asian|     0|\n",
      "| Iowa City|        IA|   37089|     37138|        2047|        9202|American Indian a...|     1|\n",
      "|     Tampa|        FL|  175517|    193511|       20636|       58795|American Indian a...|     2|\n",
      "|  Richmond|        VA|  104793|    115496|       12538|       15741|American Indian a...|     3|\n",
      "|  McKinney|        TX|   77339|     85548|        8082|       25760|  Hispanic or Latino|     4|\n",
      "+----------+----------+--------+----------+------------+------------+--------------------+------+\n",
      "only showing top 5 rows\n",
      "\n"
     ]
    }
   ],
   "source": [
    "dim_demographic_population.show(5)"
   ]
  },
  {
   "cell_type": "code",
   "execution_count": 106,
   "metadata": {
    "editable": true
   },
   "outputs": [],
   "source": [
    "dim_demographic_population.write.mode(\"overwrite\").partitionBy('state_code')\\\n",
    "                    .parquet(path=output_data + 'dim_demographic_population')"
   ]
  },
  {
   "cell_type": "code",
   "execution_count": 107,
   "metadata": {
    "editable": true
   },
   "outputs": [],
   "source": [
    "dim_demographic_statistics = df_spark.select('City', 'State Code', 'Median Age', 'Average Household Size').distinct()\\\n",
    "                                .withColumn(\"stat_id\",  monotonically_increasing_id())"
   ]
  },
  {
   "cell_type": "code",
   "execution_count": 108,
   "metadata": {
    "editable": true
   },
   "outputs": [],
   "source": [
    "new_columns = ['city', 'state_code', 'median_age', 'avg_household_size']\n",
    "dim_demographic_statistics = rename_columns(dim_demographic_statistics, new_columns)"
   ]
  },
  {
   "cell_type": "code",
   "execution_count": 109,
   "metadata": {
    "editable": true
   },
   "outputs": [],
   "source": [
    "dim_demographic_statistics = dim_demographic_statistics.withColumn('city', upper(col('city')))"
   ]
  },
  {
   "cell_type": "code",
   "execution_count": 110,
   "metadata": {
    "editable": true
   },
   "outputs": [
    {
     "name": "stdout",
     "output_type": "stream",
     "text": [
      "+-----------------+----------+----------+------------------+----------+\n",
      "|             city|state_code|median_age|avg_household_size|   stat_id|\n",
      "+-----------------+----------+----------+------------------+----------+\n",
      "|ARLINGTON HEIGHTS|        IL|      45.9|              2.38|         0|\n",
      "|         GULFPORT|        MS|      35.1|              2.54|         1|\n",
      "| WEST VALLEY CITY|        UT|      30.7|              3.81|         2|\n",
      "|       RIO RANCHO|        NM|      38.3|              2.86|8589934592|\n",
      "|          ANTIOCH|        CA|      34.0|              3.31|8589934593|\n",
      "+-----------------+----------+----------+------------------+----------+\n",
      "only showing top 5 rows\n",
      "\n"
     ]
    }
   ],
   "source": [
    "dim_demographic_statistics.show(5)"
   ]
  },
  {
   "cell_type": "code",
   "execution_count": 111,
   "metadata": {
    "editable": true
   },
   "outputs": [],
   "source": [
    "dim_demographic_statistics.write.mode(\"overwrite\").partitionBy('state_code')\\\n",
    "                    .parquet(path=output_data + 'dim_demographic_statistics')"
   ]
  },
  {
   "cell_type": "markdown",
   "metadata": {
    "editable": true
   },
   "source": [
    "#### Dimension airport table"
   ]
  },
  {
   "cell_type": "code",
   "execution_count": 112,
   "metadata": {
    "editable": true
   },
   "outputs": [],
   "source": [
    "path = os.path.join(input_data + '/airport-codes_csv.csv')"
   ]
  },
  {
   "cell_type": "code",
   "execution_count": 113,
   "metadata": {
    "editable": true
   },
   "outputs": [],
   "source": [
    "df_spark = spark.read.format('csv').options(header=True).load(path)"
   ]
  },
  {
   "cell_type": "code",
   "execution_count": 114,
   "metadata": {
    "editable": true
   },
   "outputs": [],
   "source": [
    "dim_airport = df_spark.select('iata_code', 'name', 'type', 'iso_country', 'iso_region', 'municipality', 'coordinates').distinct()"
   ]
  },
  {
   "cell_type": "code",
   "execution_count": 115,
   "metadata": {
    "editable": true
   },
   "outputs": [],
   "source": [
    "new_columns = ['iata_code', 'name', 'type', 'country', 'state_code', 'municipality', 'coordinates']\n",
    "dim_airport = rename_columns(dim_airport, new_columns)"
   ]
  },
  {
   "cell_type": "code",
   "execution_count": 116,
   "metadata": {
    "editable": true
   },
   "outputs": [],
   "source": [
    "dim_airport = dim_airport.filter(col(\"iata_code\").isNotNull()).filter(col('iso_country')=='US')"
   ]
  },
  {
   "cell_type": "code",
   "execution_count": 117,
   "metadata": {
    "editable": true
   },
   "outputs": [],
   "source": [
    "dim_airport = dim_airport.withColumn(\"longitude\", split('coordinates', \", \")[0].cast(FloatType()))"
   ]
  },
  {
   "cell_type": "code",
   "execution_count": 118,
   "metadata": {
    "editable": true
   },
   "outputs": [],
   "source": [
    "dim_airport = dim_airport.withColumn(\"latitude\", split('coordinates', \", \")[1].cast(FloatType()))"
   ]
  },
  {
   "cell_type": "code",
   "execution_count": 119,
   "metadata": {
    "editable": true
   },
   "outputs": [],
   "source": [
    "dim_airport = dim_airport.drop(col(\"coordinates\"))"
   ]
  },
  {
   "cell_type": "code",
   "execution_count": 120,
   "metadata": {
    "editable": true
   },
   "outputs": [],
   "source": [
    "dim_airport = dim_airport.withColumn(\"state_code\", split(\"state_code\", \"-\")[1])"
   ]
  },
  {
   "cell_type": "code",
   "execution_count": 121,
   "metadata": {
    "editable": true
   },
   "outputs": [],
   "source": [
    "dim_airport = dim_airport.withColumn(\"country\", lit(\"United States\"))"
   ]
  },
  {
   "cell_type": "code",
   "execution_count": 122,
   "metadata": {
    "editable": true
   },
   "outputs": [
    {
     "name": "stdout",
     "output_type": "stream",
     "text": [
      "+---------+--------------------+--------------+-------------+----------+------------+---------+--------+\n",
      "|iata_code|                name|          type|      country|state_code|municipality|longitude|latitude|\n",
      "+---------+--------------------+--------------+-------------+----------+------------+---------+--------+\n",
      "|      BSW| Boswell Bay Airport| small_airport|United States|        AK| Boswell Bay| -146.146| 60.4231|\n",
      "|      DGW|Converse County A...| small_airport|United States|        WY|     Douglas| -105.386| 42.7972|\n",
      "|      DUC|   Halliburton Field| small_airport|United States|        OK|      Duncan| -97.9599| 34.4709|\n",
      "|      GTG|Grantsburg Munici...| small_airport|United States|        WI|  Grantsburg| -92.6644| 45.7981|\n",
      "|      ISO|Kinston Regional ...|medium_airport|United States|        NC|     Kinston| -77.6088| 35.3314|\n",
      "+---------+--------------------+--------------+-------------+----------+------------+---------+--------+\n",
      "only showing top 5 rows\n",
      "\n"
     ]
    }
   ],
   "source": [
    "dim_airport.show(5)"
   ]
  },
  {
   "cell_type": "code",
   "execution_count": 123,
   "metadata": {
    "editable": true
   },
   "outputs": [],
   "source": [
    "dim_airport.write.mode(\"overwrite\").partitionBy('state_code')\\\n",
    "                    .parquet(path=output_data + 'dim_airport')"
   ]
  },
  {
   "cell_type": "markdown",
   "metadata": {
    "editable": true
   },
   "source": [
    "#### Dimension temperature table"
   ]
  },
  {
   "cell_type": "code",
   "execution_count": 124,
   "metadata": {
    "editable": true
   },
   "outputs": [],
   "source": [
    "df_spark = spark.read.format('csv').options(header=True).load('../../data2/GlobalLandTemperaturesByCity.csv')"
   ]
  },
  {
   "cell_type": "code",
   "execution_count": 125,
   "metadata": {
    "editable": true
   },
   "outputs": [],
   "source": [
    "dim_temperature = df_spark.filter(col('country')=='United States')"
   ]
  },
  {
   "cell_type": "code",
   "execution_count": 126,
   "metadata": {
    "editable": true
   },
   "outputs": [],
   "source": [
    "dim_temperature = dim_temperature.select('dt', 'AverageTemperature', 'AverageTemperatureUncertainty', 'City', 'Country')"
   ]
  },
  {
   "cell_type": "code",
   "execution_count": 127,
   "metadata": {
    "editable": true
   },
   "outputs": [],
   "source": [
    "new_columns = ['dt', 'avg_temp', 'avg_temp_uncertnty', 'city', 'country']\n",
    "dim_temperature = rename_columns(dim_temperature, new_columns)"
   ]
  },
  {
   "cell_type": "code",
   "execution_count": 128,
   "metadata": {
    "editable": true
   },
   "outputs": [],
   "source": [
    "dim_temperature = dim_temperature.withColumn('dt', to_date(col('dt')))\n",
    "dim_temperature = dim_temperature.withColumn('year', year(col('dt')))\n",
    "dim_temperature = dim_temperature.withColumn('month', month(col('dt')))\n",
    "dim_temperature = dim_temperature.withColumn(\"record_id\",  monotonically_increasing_id())"
   ]
  },
  {
   "cell_type": "code",
   "execution_count": 129,
   "metadata": {
    "editable": true
   },
   "outputs": [],
   "source": [
    "dim_temperature = dim_temperature.withColumn('avg_temp', col('avg_temp').cast(FloatType()))\n",
    "dim_temperature = dim_temperature.withColumn('avg_temp_uncertnty', col('avg_temp_uncertnty').cast(FloatType()))"
   ]
  },
  {
   "cell_type": "code",
   "execution_count": 130,
   "metadata": {
    "editable": true
   },
   "outputs": [
    {
     "name": "stdout",
     "output_type": "stream",
     "text": [
      "+----------+--------+------------------+-------+-------------+----+-----+---------+\n",
      "|        dt|avg_temp|avg_temp_uncertnty|   city|      country|year|month|record_id|\n",
      "+----------+--------+------------------+-------+-------------+----+-----+---------+\n",
      "|1820-01-01|   2.101|             3.217|Abilene|United States|1820|    1|        0|\n",
      "|1820-02-01|   6.926|             2.853|Abilene|United States|1820|    2|        1|\n",
      "|1820-03-01|  10.767|             2.395|Abilene|United States|1820|    3|        2|\n",
      "|1820-04-01|  17.989|             2.202|Abilene|United States|1820|    4|        3|\n",
      "|1820-05-01|  21.809|             2.036|Abilene|United States|1820|    5|        4|\n",
      "+----------+--------+------------------+-------+-------------+----+-----+---------+\n",
      "only showing top 5 rows\n",
      "\n"
     ]
    }
   ],
   "source": [
    "dim_temperature.show(5)"
   ]
  },
  {
   "cell_type": "code",
   "execution_count": 131,
   "metadata": {
    "editable": true
   },
   "outputs": [
    {
     "data": {
      "text/plain": [
       "687289"
      ]
     },
     "execution_count": 131,
     "metadata": {},
     "output_type": "execute_result"
    }
   ],
   "source": [
    "dim_temperature.count()"
   ]
  },
  {
   "cell_type": "code",
   "execution_count": 132,
   "metadata": {
    "editable": true
   },
   "outputs": [
    {
     "data": {
      "text/plain": [
       "3239"
      ]
     },
     "execution_count": 132,
     "metadata": {},
     "output_type": "execute_result"
    }
   ],
   "source": [
    "dim_temperature.select('dt').distinct().count()"
   ]
  },
  {
   "cell_type": "code",
   "execution_count": 133,
   "metadata": {
    "editable": true
   },
   "outputs": [],
   "source": [
    "dim_temperature.write.mode(\"overwrite\")\\\n",
    "                .parquet(path=output_data + 'dim_temperature')\n",
    "\n",
    "#if too slow, without partition"
   ]
  },
  {
   "cell_type": "markdown",
   "metadata": {
    "editable": true
   },
   "source": [
    "#### 4.2 Data Quality Checks\n",
    "Explain the data quality checks you'll perform to ensure the pipeline ran as expected. These could include:\n",
    " * Integrity constraints on the relational database (e.g., unique key, data type, etc.)\n",
    " * Unit tests for the scripts to ensure they are doing the right thing\n",
    " * Source/Count checks to ensure completeness\n",
    " \n",
    "##### Run Quality Checks (Assuming they are written into the local repositories; the checks could also be done if they are written into S3 after the ETL processes)"
   ]
  },
  {
   "cell_type": "code",
   "execution_count": 134,
   "metadata": {
    "editable": true
   },
   "outputs": [
    {
     "name": "stdout",
     "output_type": "stream",
     "text": [
      "Table: country_code\n",
      "root\n",
      " |-- code: integer (nullable = true)\n",
      " |-- country: string (nullable = true)\n",
      "\n",
      "Table: visa_code\n",
      "root\n",
      " |-- code: integer (nullable = true)\n",
      " |-- visa: string (nullable = true)\n",
      "\n",
      "Table: port_code\n",
      "root\n",
      " |-- code: string (nullable = true)\n",
      " |-- port: string (nullable = true)\n",
      "\n",
      "Table: state_code\n",
      "root\n",
      " |-- code: string (nullable = true)\n",
      " |-- state: string (nullable = true)\n",
      "\n",
      "Table: dim_demographic_statistics\n",
      "root\n",
      " |-- city: string (nullable = true)\n",
      " |-- median_age: string (nullable = true)\n",
      " |-- avg_household_size: string (nullable = true)\n",
      " |-- stat_id: long (nullable = true)\n",
      " |-- state_code: string (nullable = true)\n",
      "\n",
      "Table: dim_airport\n",
      "root\n",
      " |-- iata_code: string (nullable = true)\n",
      " |-- name: string (nullable = true)\n",
      " |-- type: string (nullable = true)\n",
      " |-- country: string (nullable = true)\n",
      " |-- municipality: string (nullable = true)\n",
      " |-- longitude: float (nullable = true)\n",
      " |-- latitude: float (nullable = true)\n",
      " |-- state_code: string (nullable = true)\n",
      "\n",
      "Table: travel_code\n",
      "root\n",
      " |-- code: integer (nullable = true)\n",
      " |-- travel: string (nullable = true)\n",
      "\n",
      "Table: dim_immi_personal\n",
      "root\n",
      " |-- cic_id: integer (nullable = true)\n",
      " |-- citizen_country: integer (nullable = true)\n",
      " |-- residence_country: integer (nullable = true)\n",
      " |-- birth_year: integer (nullable = true)\n",
      " |-- gender: string (nullable = true)\n",
      " |-- ins_num: string (nullable = true)\n",
      " |-- immi_person_id: long (nullable = true)\n",
      "\n",
      "Table: fact_immi\n",
      "root\n",
      " |-- cic_id: integer (nullable = true)\n",
      " |-- year: integer (nullable = true)\n",
      " |-- month: integer (nullable = true)\n",
      " |-- port_code: string (nullable = true)\n",
      " |-- arrive_date: date (nullable = true)\n",
      " |-- departure_date: date (nullable = true)\n",
      " |-- travel_code: integer (nullable = true)\n",
      " |-- visa_code: integer (nullable = true)\n",
      " |-- immigration_id: long (nullable = true)\n",
      " |-- country: string (nullable = true)\n",
      " |-- state_code: string (nullable = true)\n",
      "\n",
      "Table: dim_immi_airline\n",
      "root\n",
      " |-- cic_id: integer (nullable = true)\n",
      " |-- airline: string (nullable = true)\n",
      " |-- admin_num: long (nullable = true)\n",
      " |-- flight_number: string (nullable = true)\n",
      " |-- visa_type: string (nullable = true)\n",
      " |-- port_code: string (nullable = true)\n",
      " |-- immi_airline_id: long (nullable = true)\n",
      "\n",
      "Table: dim_temperature\n",
      "root\n",
      " |-- dt: date (nullable = true)\n",
      " |-- avg_temp: float (nullable = true)\n",
      " |-- avg_temp_uncertnty: float (nullable = true)\n",
      " |-- city: string (nullable = true)\n",
      " |-- country: string (nullable = true)\n",
      " |-- year: integer (nullable = true)\n",
      " |-- month: integer (nullable = true)\n",
      " |-- record_id: long (nullable = true)\n",
      "\n",
      "Table: dim_demographic_population\n",
      "root\n",
      " |-- city: string (nullable = true)\n",
      " |-- male_pop: string (nullable = true)\n",
      " |-- female_pop: string (nullable = true)\n",
      " |-- num_vetarans: string (nullable = true)\n",
      " |-- foreign_born: string (nullable = true)\n",
      " |-- race: string (nullable = true)\n",
      " |-- pop_id: long (nullable = true)\n",
      " |-- state_code: string (nullable = true)\n",
      "\n"
     ]
    }
   ],
   "source": [
    "# iterate over files in\n",
    "# that directory\n",
    "for filename in os.listdir(output_data):\n",
    "    f = os.path.join(output_data, filename)\n",
    "    if not filename == \".ipynb_checkpoints\" and os.path.isdir(f):\n",
    "        df = spark.read.parquet(f)\n",
    "        print(\"Table: \" + f.split('/')[-1])\n",
    "        df.printSchema()\n"
   ]
  },
  {
   "cell_type": "code",
   "execution_count": 135,
   "metadata": {
    "editable": true
   },
   "outputs": [
    {
     "name": "stdout",
     "output_type": "stream",
     "text": [
      "Table: country_code is not empty: total 289 records.\n",
      "Table: visa_code is not empty: total 3 records.\n",
      "Table: port_code is not empty: total 660 records.\n",
      "Table: state_code is not empty: total 55 records.\n",
      "Table: dim_demographic_statistics is not empty: total 596 records.\n",
      "Table: dim_airport is not empty: total 2018 records.\n",
      "Table: travel_code is not empty: total 4 records.\n",
      "Table: dim_immi_personal is not empty: total 3096313 records.\n",
      "Table: fact_immi is not empty: total 3096313 records.\n",
      "Table: dim_immi_airline is not empty: total 3096313 records.\n",
      "Table: dim_temperature is not empty: total 687289 records.\n",
      "Table: dim_demographic_population is not empty: total 2891 records.\n"
     ]
    }
   ],
   "source": [
    "for filename in os.listdir(output_data):\n",
    "    f = os.path.join(output_data, filename)\n",
    "    if not filename == \".ipynb_checkpoints\" and os.path.isdir(f):\n",
    "        df = spark.read.parquet(f)\n",
    "        record_num = df.count()\n",
    "        if record_num <= 0:\n",
    "            raise ValueError(\"This table is empty!\")\n",
    "        else:\n",
    "            print(\"Table: \" + f.split('/')[-1] + f\" is not empty: total {record_num} records.\")"
   ]
  },
  {
   "cell_type": "markdown",
   "metadata": {
    "editable": true
   },
   "source": [
    "#### Check integrity through anti joins"
   ]
  },
  {
   "cell_type": "code",
   "execution_count": 136,
   "metadata": {
    "editable": true
   },
   "outputs": [],
   "source": [
    "integrity_airline = fact_immi.select(col(\"cic_id\")).distinct() \\\n",
    "                             .join(dim_immi_airline, fact_immi[\"cic_id\"] == dim_immi_airline[\"cic_id\"], \"left_anti\") \\\n",
    "                             .count() "
   ]
  },
  {
   "cell_type": "code",
   "execution_count": 137,
   "metadata": {
    "editable": true
   },
   "outputs": [],
   "source": [
    "integrity_airports = fact_immi.select(col(\"port_code\")).distinct() \\\n",
    "                                 .join(dim_airport, fact_immi[\"port_code\"] == dim_airport [\"iata_code\"], \"left_anti\") \\\n",
    "                                 .count()"
   ]
  },
  {
   "cell_type": "code",
   "execution_count": 138,
   "metadata": {
    "editable": true
   },
   "outputs": [],
   "source": [
    "integrity_demo_pop = fact_immi.select(col(\"state_code\")).distinct() \\\n",
    "                                 .join(dim_demographic_population , fact_immi[\"state_code\"] == dim_demographic_population[\"state_code\"], \"left_anti\") \\\n",
    "                                 .count() "
   ]
  },
  {
   "cell_type": "code",
   "execution_count": 139,
   "metadata": {
    "editable": true
   },
   "outputs": [],
   "source": [
    "integrity_demo_stat = fact_immi.select(col(\"state_code\")).distinct() \\\n",
    "                                 .join(dim_demographic_statistics  , fact_immi[\"state_code\"] == dim_demographic_statistics[\"state_code\"], \"left_anti\") \\\n",
    "                                 .count() "
   ]
  },
  {
   "cell_type": "code",
   "execution_count": 140,
   "metadata": {
    "editable": true
   },
   "outputs": [],
   "source": [
    "integrity_personal = fact_immi.select(col(\"cic_id\")).distinct() \\\n",
    "                             .join(dim_immi_personal , fact_immi[\"cic_id\"] == dim_immi_personal [\"cic_id\"], \"left_anti\") \\\n",
    "                             .count() "
   ]
  },
  {
   "cell_type": "code",
   "execution_count": 141,
   "metadata": {
    "editable": true
   },
   "outputs": [
    {
     "name": "stdout",
     "output_type": "stream",
     "text": [
      "0 167 409 409 0\n"
     ]
    }
   ],
   "source": [
    "print (integrity_airline, integrity_airports, integrity_demo_pop, integrity_demo_stat, integrity_personal)"
   ]
  },
  {
   "cell_type": "code",
   "execution_count": 142,
   "metadata": {
    "editable": true
   },
   "outputs": [],
   "source": [
    "dim_demographic_population_test = dim_demographic_population.select(col(\"state_code\")).distinct()"
   ]
  },
  {
   "cell_type": "code",
   "execution_count": 143,
   "metadata": {
    "editable": true
   },
   "outputs": [],
   "source": [
    "fact_immi_test = fact_immi.select(col(\"state_code\")).distinct()"
   ]
  },
  {
   "cell_type": "code",
   "execution_count": 144,
   "metadata": {
    "editable": true
   },
   "outputs": [
    {
     "name": "stdout",
     "output_type": "stream",
     "text": [
      "+----------+\n",
      "|state_code|\n",
      "+----------+\n",
      "|.N        |\n",
      "|YH        |\n",
      "|RG        |\n",
      "|RF        |\n",
      "|CI        |\n",
      "|FT        |\n",
      "|TC        |\n",
      "|AZ        |\n",
      "|SC        |\n",
      "|IC        |\n",
      "|FI        |\n",
      "|UA        |\n",
      "|PU        |\n",
      "|EA        |\n",
      "|NS        |\n",
      "|KI        |\n",
      "|RO        |\n",
      "|SL        |\n",
      "|PI        |\n",
      "|LA        |\n",
      "|YN        |\n",
      "|NL        |\n",
      "|MN        |\n",
      "|BS        |\n",
      "|FC        |\n",
      "|BW        |\n",
      "|11        |\n",
      "|NK        |\n",
      "|OI        |\n",
      "|PS        |\n",
      "|AM        |\n",
      "|PL        |\n",
      "|RE        |\n",
      "|AA        |\n",
      "|MK        |\n",
      "|NJ        |\n",
      "|DR        |\n",
      "|RA        |\n",
      "|73        |\n",
      "|WC        |\n",
      "|MX        |\n",
      "|HW        |\n",
      "|3         |\n",
      "|30        |\n",
      "|JF        |\n",
      "|F         |\n",
      "|VL        |\n",
      "|DC        |\n",
      "|QL        |\n",
      "|GL        |\n",
      "|TV        |\n",
      "|EE        |\n",
      "|EX        |\n",
      "|PD        |\n",
      "|VG        |\n",
      "|ZN        |\n",
      "|CN        |\n",
      "|4B        |\n",
      "|S6        |\n",
      "|OR        |\n",
      "|JC        |\n",
      "|FG        |\n",
      "|RY        |\n",
      "|UR        |\n",
      "|UM        |\n",
      "|TI        |\n",
      "|AT        |\n",
      "|85        |\n",
      "|NW        |\n",
      "|52        |\n",
      "|UL        |\n",
      "|SW        |\n",
      "|OL        |\n",
      "|HH        |\n",
      "|AV        |\n",
      "|NA        |\n",
      "|0         |\n",
      "|LF        |\n",
      "|RU        |\n",
      "|HY        |\n",
      "|GO        |\n",
      "|IQ        |\n",
      "|BU        |\n",
      "|KF        |\n",
      "|71        |\n",
      "|EV        |\n",
      "|SJ        |\n",
      "|99        |\n",
      "|EQ        |\n",
      "|XN        |\n",
      "|CG        |\n",
      "|NT        |\n",
      "|LI        |\n",
      "|SV        |\n",
      "|HR        |\n",
      "|null      |\n",
      "|VA        |\n",
      "|WE        |\n",
      "|NP        |\n",
      "|CZ        |\n",
      "+----------+\n",
      "only showing top 100 rows\n",
      "\n"
     ]
    }
   ],
   "source": [
    "fact_immi_test.show(100,False)"
   ]
  },
  {
   "cell_type": "code",
   "execution_count": 145,
   "metadata": {
    "editable": true
   },
   "outputs": [
    {
     "name": "stdout",
     "output_type": "stream",
     "text": [
      "+-------+----+-----+---------+----------+-----------+--------------+-----------+---------+--------------+-------------+\n",
      "| cic_id|year|month|port_code|state_code|arrive_date|departure_date|travel_code|visa_code|immigration_id|      country|\n",
      "+-------+----+-----+---------+----------+-----------+--------------+-----------+---------+--------------+-------------+\n",
      "|1400855|2016|    4|      DAL|        YH| 2016-04-08|    2016-04-19|          1|        2|   25769807262|United States|\n",
      "+-------+----+-----+---------+----------+-----------+--------------+-----------+---------+--------------+-------------+\n",
      "\n"
     ]
    }
   ],
   "source": [
    "fact_immi.filter(fact_immi.state_code==\"YH\").show()"
   ]
  },
  {
   "cell_type": "code",
   "execution_count": 146,
   "metadata": {
    "editable": true
   },
   "outputs": [
    {
     "name": "stdout",
     "output_type": "stream",
     "text": [
      "+----------+\n",
      "|state_code|\n",
      "+----------+\n",
      "|AZ        |\n",
      "|SC        |\n",
      "|LA        |\n",
      "|MN        |\n",
      "|NJ        |\n",
      "|DC        |\n",
      "|OR        |\n",
      "|VA        |\n",
      "|RI        |\n",
      "|KY        |\n",
      "|NH        |\n",
      "|MI        |\n",
      "|NV        |\n",
      "|WI        |\n",
      "|ID        |\n",
      "|CA        |\n",
      "|CT        |\n",
      "|NE        |\n",
      "|MT        |\n",
      "|NC        |\n",
      "|MD        |\n",
      "|DE        |\n",
      "|MO        |\n",
      "|IL        |\n",
      "|ME        |\n",
      "|WA        |\n",
      "|ND        |\n",
      "|MS        |\n",
      "|AL        |\n",
      "|IN        |\n",
      "|OH        |\n",
      "|TN        |\n",
      "|IA        |\n",
      "|NM        |\n",
      "|PA        |\n",
      "|SD        |\n",
      "|NY        |\n",
      "|TX        |\n",
      "|GA        |\n",
      "|MA        |\n",
      "|KS        |\n",
      "|FL        |\n",
      "|CO        |\n",
      "|AK        |\n",
      "|AR        |\n",
      "|OK        |\n",
      "|PR        |\n",
      "|UT        |\n",
      "|HI        |\n",
      "+----------+\n",
      "\n"
     ]
    }
   ],
   "source": [
    "dim_demographic_population_test.show(100,False)"
   ]
  },
  {
   "cell_type": "markdown",
   "metadata": {
    "editable": true
   },
   "source": [
    "##### so it is possible that some state codes from the fact table do not show up in the dimension demographic tables, further action may be required (either filter out or revise the state code, unfortunately I dont have enough knowledge here...), cid id appears to be fine "
   ]
  },
  {
   "cell_type": "markdown",
   "metadata": {
    "editable": true
   },
   "source": [
    "#### 4.3 Data dictionary "
   ]
  },
  {
   "cell_type": "markdown",
   "metadata": {
    "editable": true
   },
   "source": [
    "<img src=\"img/metadata_1.png\" style=\"float: left;\" alt=\"\" width=\"1000\"/>"
   ]
  },
  {
   "cell_type": "markdown",
   "metadata": {
    "editable": true
   },
   "source": [
    "<img src=\"img/metadata_2.png\" style=\"float: left;\" alt=\"\" width=\"1000\"/>"
   ]
  },
  {
   "cell_type": "markdown",
   "metadata": {
    "editable": true
   },
   "source": [
    "#### 4.4 Example analysis\n",
    "##### The citizen country of the immigrants to US in Apr 2016 (since we ony deal with the raw dataset from this period), top 5 citizen countries by the number of immigrants.  "
   ]
  },
  {
   "cell_type": "code",
   "execution_count": 153,
   "metadata": {
    "editable": true
   },
   "outputs": [],
   "source": [
    "country_code = spark.read.parquet(os.path.join(output_data, 'country_code'))\n",
    "state_code = spark.read.parquet(os.path.join(output_data, 'state_code'))"
   ]
  },
  {
   "cell_type": "code",
   "execution_count": 155,
   "metadata": {
    "editable": true
   },
   "outputs": [],
   "source": [
    "from pyspark.sql.functions import isnan, count, when, col, desc, udf, col, sort_array, asc, avg"
   ]
  },
  {
   "cell_type": "code",
   "execution_count": 158,
   "metadata": {
    "editable": true
   },
   "outputs": [
    {
     "name": "stdout",
     "output_type": "stream",
     "text": [
      "+--------------------+------------+\n",
      "|             country|Countrycount|\n",
      "+--------------------+------------+\n",
      "|      UNITED KINGDOM|      360157|\n",
      "|               JAPAN|      206873|\n",
      "|          CHINA, PRC|      191425|\n",
      "|              FRANCE|      188766|\n",
      "|MEXICO Air Sea, a...|      175781|\n",
      "+--------------------+------------+\n",
      "only showing top 5 rows\n",
      "\n"
     ]
    }
   ],
   "source": [
    "dim_immi_personal.join(country_code, dim_immi_personal['citizen_country'] == country_code['code'], \"left\") \\\n",
    "                .select(country_code.country)\\\n",
    "                .groupBy('country') \\\n",
    "                .agg({'country':'count'}) \\\n",
    "                .withColumnRenamed('count(country)', 'Countrycount') \\\n",
    "                .sort(desc('Countrycount')) \\\n",
    "                .show(5)"
   ]
  },
  {
   "cell_type": "markdown",
   "metadata": {
    "editable": true
   },
   "source": [
    "##### The destination state in US in Apr 2016 (since we ony deal with the raw dataset from this period), top 5 states by the number of immigrants. "
   ]
  },
  {
   "cell_type": "code",
   "execution_count": 160,
   "metadata": {
    "editable": true
   },
   "outputs": [
    {
     "name": "stdout",
     "output_type": "stream",
     "text": [
      "+----------+----------+\n",
      "|     state|Statecount|\n",
      "+----------+----------+\n",
      "|   FLORIDA|    621701|\n",
      "|  NEW YORK|    553677|\n",
      "|CALIFORNIA|    470386|\n",
      "|    HAWAII|    168764|\n",
      "|     TEXAS|    134321|\n",
      "+----------+----------+\n",
      "only showing top 5 rows\n",
      "\n"
     ]
    }
   ],
   "source": [
    "fact_immi.join(state_code, fact_immi['state_code'] == state_code['code'], \"left\") \\\n",
    "                .select(state_code.state)\\\n",
    "                .groupBy('state') \\\n",
    "                .agg({'state':'count'}) \\\n",
    "                .withColumnRenamed('count(state)', 'Statecount') \\\n",
    "                .sort(desc('Statecount')) \\\n",
    "                .show(5)"
   ]
  },
  {
   "cell_type": "markdown",
   "metadata": {
    "editable": true
   },
   "source": [
    "##### The distribution of immigrants in US Apr 2016, ordered by the birth year, descending."
   ]
  },
  {
   "cell_type": "code",
   "execution_count": 162,
   "metadata": {
    "editable": true
   },
   "outputs": [
    {
     "name": "stdout",
     "output_type": "stream",
     "text": [
      "+----------+--------------+\n",
      "|birth_year|BirthYearcount|\n",
      "+----------+--------------+\n",
      "|      1986|         71958|\n",
      "|      1983|         70415|\n",
      "|      1985|         70409|\n",
      "|      1982|         70251|\n",
      "|      1984|         69809|\n",
      "+----------+--------------+\n",
      "only showing top 5 rows\n",
      "\n"
     ]
    }
   ],
   "source": [
    "dim_immi_personal.groupBy('birth_year') \\\n",
    "                .agg({'birth_year':'count'}) \\\n",
    "                .withColumnRenamed('count(birth_year)', 'BirthYearcount') \\\n",
    "                .sort(desc('BirthYearcount')) \\\n",
    "                .show(5)"
   ]
  },
  {
   "cell_type": "code",
   "execution_count": 165,
   "metadata": {
    "editable": true
   },
   "outputs": [
    {
     "name": "stdout",
     "output_type": "stream",
     "text": [
      "+--------------+------+-----------+\n",
      "|       country|gender|Gendercount|\n",
      "+--------------+------+-----------+\n",
      "|UNITED KINGDOM|     M|     152400|\n",
      "|UNITED KINGDOM|     F|     131864|\n",
      "|    CHINA, PRC|     F|      90258|\n",
      "|         JAPAN|     M|      86481|\n",
      "|    CHINA, PRC|     M|      84254|\n",
      "|         JAPAN|     F|      80071|\n",
      "|    CHINA, PRC|     X|        391|\n",
      "|    CHINA, PRC|     U|        131|\n",
      "|         JAPAN|     U|          2|\n",
      "|UNITED KINGDOM|     U|          2|\n",
      "|         JAPAN|  null|          0|\n",
      "|UNITED KINGDOM|  null|          0|\n",
      "|    CHINA, PRC|  null|          0|\n",
      "+--------------+------+-----------+\n",
      "\n"
     ]
    }
   ],
   "source": [
    "dim_immi_personal.join(country_code, dim_immi_personal['citizen_country'] == country_code['code'], \"left\") \\\n",
    "                .select(dim_immi_personal.gender, country_code.country)\\\n",
    "                .filter((country_code.country==\"UNITED KINGDOM\") | (country_code.country==\"JAPAN\") | (country_code.country==\"CHINA, PRC\")) \\\n",
    "                .groupBy('country', 'gender') \\\n",
    "                .agg({'gender':'count'}) \\\n",
    "                .withColumnRenamed('count(gender)', 'Gendercount') \\\n",
    "                .sort(desc('Gendercount')) \\\n",
    "                .show()"
   ]
  },
  {
   "cell_type": "code",
   "execution_count": null,
   "metadata": {
    "editable": true
   },
   "outputs": [],
   "source": []
  },
  {
   "cell_type": "markdown",
   "metadata": {
    "editable": true
   },
   "source": [
    "### Step 5: Complete Project Write Up\n",
    "#### Clearly state the rationale for the choice of tools and technologies for the project.\n",
    "1. AWS S3 for storage (both source and target)\n",
    "2. Pandas and Numpy for data exploration and analysis\n",
    "3. PySpark for large data set data processing to extract, transform and load tables\n",
    "\n",
    "#### Propose how often the data should be updated and why.\n",
    "1. Tables created from immigration and temperature dataset should be updated everyone month since the raw data is build based on the month.\n",
    "2. Tables created from demography data set could be updated annually since it takes time for data collection and insufficient data might lead to inappropriate conclusions compared with those that drawn from more complete dataset.\n",
    "3. For all tables during the update, it should proceed with \"append\" mode.\n",
    "\n",
    "#### Suggestions for following scenarios:\n",
    " 1. The data was increased by 100x.\n",
    "   If the data was increased by 100x, and if spark standalone server mode can not process, we could consider to put data in AWS EMR which is a distributed data cluster for processing large data sets on cloud\n",
    " \n",
    " 2. The data populates a dashboard that must be updated on a daily basis by 7am every day.\n",
    "   This could be helped with AWS airflow. With the argument \"schedule_interval\" set as '7 0 * * *', the entire process will be executed 7am every day hence the tables could be updated.\n",
    "   \n",
    " 3. The database needed to be accessed by 100+ people.\n",
    "   If the database needed to be accessed by 100+ people, one way is to load the tables into a cloud based database which could support these connections. For example, AWS redshift could handle up to 500 connections, however the cost needs to be considered here since with such connection requirement, the AWS redshift has to be available all the time.\n",
    "   \n",
    "#### Other thoughts\n",
    "\n",
    "1. Temperature dataset is not up to the latest. During the exploration, it is realized that no data is available for year 2016 which is the time for our fact table.\n",
    "\n",
    "2. During the integrity check, it is found that some of the state names do not appear in the label descriptions. Further actions might be needed here.\n",
    "\n",
    "3. Port code might not be 100% equivalent to the city code, and it is tried to build a reverse table to link the city to the code in the label descriptions, however many cities does not have the corresponding codes hence for the demographic data, we have to leave with the full city name."
   ]
  },
  {
   "cell_type": "code",
   "execution_count": null,
   "metadata": {
    "editable": true
   },
   "outputs": [],
   "source": []
  },
  {
   "cell_type": "code",
   "execution_count": null,
   "metadata": {
    "editable": true
   },
   "outputs": [],
   "source": []
  },
  {
   "cell_type": "code",
   "execution_count": null,
   "metadata": {
    "editable": true
   },
   "outputs": [],
   "source": []
  },
  {
   "cell_type": "code",
   "execution_count": null,
   "metadata": {
    "editable": true
   },
   "outputs": [],
   "source": []
  },
  {
   "cell_type": "code",
   "execution_count": null,
   "metadata": {
    "editable": true
   },
   "outputs": [],
   "source": []
  },
  {
   "cell_type": "code",
   "execution_count": null,
   "metadata": {
    "editable": true
   },
   "outputs": [],
   "source": []
  }
 ],
 "metadata": {
  "kernelspec": {
   "display_name": "Python 3",
   "language": "python",
   "name": "python3"
  },
  "language_info": {
   "codemirror_mode": {
    "name": "ipython",
    "version": 3
   },
   "file_extension": ".py",
   "mimetype": "text/x-python",
   "name": "python",
   "nbconvert_exporter": "python",
   "pygments_lexer": "ipython3",
   "version": "3.6.3"
  }
 },
 "nbformat": 4,
 "nbformat_minor": 4
}
